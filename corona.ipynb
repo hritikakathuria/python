{
 "cells": [
  {
   "cell_type": "code",
   "execution_count": 4,
   "id": "19dd44f3",
   "metadata": {},
   "outputs": [],
   "source": [
    "import numpy as np \n",
    "import pandas as pd \n",
    "import plotly as py\n",
    "import plotly.express as px\n",
    "import plotly.graph_objs as go\n",
    "from plotly.subplots import make_subplots\n",
    "from plotly.offline import download_plotlyjs, init_notebook_mode, plot, iplot"
   ]
  },
  {
   "cell_type": "code",
   "execution_count": 5,
   "id": "1fbcafd6",
   "metadata": {},
   "outputs": [],
   "source": [
    "dataset = pd.read_csv(\"covid_19_data.csv\")"
   ]
  },
  {
   "cell_type": "code",
   "execution_count": 6,
   "id": "faae3436",
   "metadata": {},
   "outputs": [
    {
     "data": {
      "text/html": [
       "<div>\n",
       "<style scoped>\n",
       "    .dataframe tbody tr th:only-of-type {\n",
       "        vertical-align: middle;\n",
       "    }\n",
       "\n",
       "    .dataframe tbody tr th {\n",
       "        vertical-align: top;\n",
       "    }\n",
       "\n",
       "    .dataframe thead th {\n",
       "        text-align: right;\n",
       "    }\n",
       "</style>\n",
       "<table border=\"1\" class=\"dataframe\">\n",
       "  <thead>\n",
       "    <tr style=\"text-align: right;\">\n",
       "      <th></th>\n",
       "      <th>SNo</th>\n",
       "      <th>ObservationDate</th>\n",
       "      <th>Province/State</th>\n",
       "      <th>Country/Region</th>\n",
       "      <th>Last Update</th>\n",
       "      <th>Confirmed</th>\n",
       "      <th>Deaths</th>\n",
       "      <th>Recovered</th>\n",
       "    </tr>\n",
       "  </thead>\n",
       "  <tbody>\n",
       "    <tr>\n",
       "      <th>0</th>\n",
       "      <td>1</td>\n",
       "      <td>01/22/2020</td>\n",
       "      <td>Anhui</td>\n",
       "      <td>Mainland China</td>\n",
       "      <td>1/22/2020 17:00</td>\n",
       "      <td>1.0</td>\n",
       "      <td>0.0</td>\n",
       "      <td>0.0</td>\n",
       "    </tr>\n",
       "    <tr>\n",
       "      <th>1</th>\n",
       "      <td>2</td>\n",
       "      <td>01/22/2020</td>\n",
       "      <td>Beijing</td>\n",
       "      <td>Mainland China</td>\n",
       "      <td>1/22/2020 17:00</td>\n",
       "      <td>14.0</td>\n",
       "      <td>0.0</td>\n",
       "      <td>0.0</td>\n",
       "    </tr>\n",
       "    <tr>\n",
       "      <th>2</th>\n",
       "      <td>3</td>\n",
       "      <td>01/22/2020</td>\n",
       "      <td>Chongqing</td>\n",
       "      <td>Mainland China</td>\n",
       "      <td>1/22/2020 17:00</td>\n",
       "      <td>6.0</td>\n",
       "      <td>0.0</td>\n",
       "      <td>0.0</td>\n",
       "    </tr>\n",
       "    <tr>\n",
       "      <th>3</th>\n",
       "      <td>4</td>\n",
       "      <td>01/22/2020</td>\n",
       "      <td>Fujian</td>\n",
       "      <td>Mainland China</td>\n",
       "      <td>1/22/2020 17:00</td>\n",
       "      <td>1.0</td>\n",
       "      <td>0.0</td>\n",
       "      <td>0.0</td>\n",
       "    </tr>\n",
       "    <tr>\n",
       "      <th>4</th>\n",
       "      <td>5</td>\n",
       "      <td>01/22/2020</td>\n",
       "      <td>Gansu</td>\n",
       "      <td>Mainland China</td>\n",
       "      <td>1/22/2020 17:00</td>\n",
       "      <td>0.0</td>\n",
       "      <td>0.0</td>\n",
       "      <td>0.0</td>\n",
       "    </tr>\n",
       "  </tbody>\n",
       "</table>\n",
       "</div>"
      ],
      "text/plain": [
       "   SNo ObservationDate Province/State  Country/Region      Last Update  \\\n",
       "0    1      01/22/2020          Anhui  Mainland China  1/22/2020 17:00   \n",
       "1    2      01/22/2020        Beijing  Mainland China  1/22/2020 17:00   \n",
       "2    3      01/22/2020      Chongqing  Mainland China  1/22/2020 17:00   \n",
       "3    4      01/22/2020         Fujian  Mainland China  1/22/2020 17:00   \n",
       "4    5      01/22/2020          Gansu  Mainland China  1/22/2020 17:00   \n",
       "\n",
       "   Confirmed  Deaths  Recovered  \n",
       "0        1.0     0.0        0.0  \n",
       "1       14.0     0.0        0.0  \n",
       "2        6.0     0.0        0.0  \n",
       "3        1.0     0.0        0.0  \n",
       "4        0.0     0.0        0.0  "
      ]
     },
     "execution_count": 6,
     "metadata": {},
     "output_type": "execute_result"
    }
   ],
   "source": [
    "dataset.head()\n"
   ]
  },
  {
   "cell_type": "code",
   "execution_count": 7,
   "id": "4223dd77",
   "metadata": {},
   "outputs": [],
   "source": [
    "#renaming columns\n",
    "dataset = dataset.rename(columns = {'Country/Region':'Country'})\n",
    "dataset = dataset.rename(columns = {'ObservationDate':'Date'})"
   ]
  },
  {
   "cell_type": "code",
   "execution_count": 17,
   "id": "fe07f3f4",
   "metadata": {},
   "outputs": [],
   "source": [
    "#Manipulating dataframe\n",
    "dataset_countries = dataset.groupby(['Country', 'Date']).sum().reset_index().sort_values('Date', ascending = False)"
   ]
  },
  {
   "cell_type": "code",
   "execution_count": 18,
   "id": "9ff1a9f8",
   "metadata": {},
   "outputs": [
    {
     "data": {
      "text/html": [
       "<div>\n",
       "<style scoped>\n",
       "    .dataframe tbody tr th:only-of-type {\n",
       "        vertical-align: middle;\n",
       "    }\n",
       "\n",
       "    .dataframe tbody tr th {\n",
       "        vertical-align: top;\n",
       "    }\n",
       "\n",
       "    .dataframe thead th {\n",
       "        text-align: right;\n",
       "    }\n",
       "</style>\n",
       "<table border=\"1\" class=\"dataframe\">\n",
       "  <thead>\n",
       "    <tr style=\"text-align: right;\">\n",
       "      <th></th>\n",
       "      <th>Country</th>\n",
       "      <th>Date</th>\n",
       "      <th>SNo</th>\n",
       "      <th>Confirmed</th>\n",
       "      <th>Deaths</th>\n",
       "      <th>Recovered</th>\n",
       "    </tr>\n",
       "  </thead>\n",
       "  <tbody>\n",
       "    <tr>\n",
       "      <th>16248</th>\n",
       "      <td>Chile</td>\n",
       "      <td>12/31/2020</td>\n",
       "      <td>3265990</td>\n",
       "      <td>608973.0</td>\n",
       "      <td>16608.0</td>\n",
       "      <td>577382.0</td>\n",
       "    </tr>\n",
       "    <tr>\n",
       "      <th>43477</th>\n",
       "      <td>Laos</td>\n",
       "      <td>12/31/2020</td>\n",
       "      <td>191788</td>\n",
       "      <td>41.0</td>\n",
       "      <td>0.0</td>\n",
       "      <td>40.0</td>\n",
       "    </tr>\n",
       "    <tr>\n",
       "      <th>35696</th>\n",
       "      <td>India</td>\n",
       "      <td>12/31/2020</td>\n",
       "      <td>7109745</td>\n",
       "      <td>10266674.0</td>\n",
       "      <td>148738.0</td>\n",
       "      <td>9860280.0</td>\n",
       "    </tr>\n",
       "    <tr>\n",
       "      <th>67351</th>\n",
       "      <td>Samoa</td>\n",
       "      <td>12/31/2020</td>\n",
       "      <td>191834</td>\n",
       "      <td>2.0</td>\n",
       "      <td>0.0</td>\n",
       "      <td>2.0</td>\n",
       "    </tr>\n",
       "    <tr>\n",
       "      <th>84615</th>\n",
       "      <td>Vanuatu</td>\n",
       "      <td>12/31/2020</td>\n",
       "      <td>191868</td>\n",
       "      <td>1.0</td>\n",
       "      <td>0.0</td>\n",
       "      <td>1.0</td>\n",
       "    </tr>\n",
       "    <tr>\n",
       "      <th>...</th>\n",
       "      <td>...</td>\n",
       "      <td>...</td>\n",
       "      <td>...</td>\n",
       "      <td>...</td>\n",
       "      <td>...</td>\n",
       "      <td>...</td>\n",
       "    </tr>\n",
       "    <tr>\n",
       "      <th>24743</th>\n",
       "      <td>Estonia</td>\n",
       "      <td>01/01/2021</td>\n",
       "      <td>192516</td>\n",
       "      <td>28406.0</td>\n",
       "      <td>234.0</td>\n",
       "      <td>19027.0</td>\n",
       "    </tr>\n",
       "    <tr>\n",
       "      <th>39877</th>\n",
       "      <td>Jordan</td>\n",
       "      <td>01/01/2021</td>\n",
       "      <td>192544</td>\n",
       "      <td>295765.0</td>\n",
       "      <td>3851.0</td>\n",
       "      <td>271834.0</td>\n",
       "    </tr>\n",
       "    <tr>\n",
       "      <th>59586</th>\n",
       "      <td>Oman</td>\n",
       "      <td>01/01/2021</td>\n",
       "      <td>192584</td>\n",
       "      <td>128867.0</td>\n",
       "      <td>1499.0</td>\n",
       "      <td>121890.0</td>\n",
       "    </tr>\n",
       "    <tr>\n",
       "      <th>81178</th>\n",
       "      <td>UK</td>\n",
       "      <td>01/01/2021</td>\n",
       "      <td>3086396</td>\n",
       "      <td>2549693.0</td>\n",
       "      <td>74237.0</td>\n",
       "      <td>5682.0</td>\n",
       "    </tr>\n",
       "    <tr>\n",
       "      <th>54601</th>\n",
       "      <td>Morocco</td>\n",
       "      <td>01/01/2021</td>\n",
       "      <td>192574</td>\n",
       "      <td>440970.0</td>\n",
       "      <td>7425.0</td>\n",
       "      <td>409638.0</td>\n",
       "    </tr>\n",
       "  </tbody>\n",
       "</table>\n",
       "<p>87281 rows × 6 columns</p>\n",
       "</div>"
      ],
      "text/plain": [
       "       Country        Date      SNo   Confirmed    Deaths  Recovered\n",
       "16248    Chile  12/31/2020  3265990    608973.0   16608.0   577382.0\n",
       "43477     Laos  12/31/2020   191788        41.0       0.0       40.0\n",
       "35696    India  12/31/2020  7109745  10266674.0  148738.0  9860280.0\n",
       "67351    Samoa  12/31/2020   191834         2.0       0.0        2.0\n",
       "84615  Vanuatu  12/31/2020   191868         1.0       0.0        1.0\n",
       "...        ...         ...      ...         ...       ...        ...\n",
       "24743  Estonia  01/01/2021   192516     28406.0     234.0    19027.0\n",
       "39877   Jordan  01/01/2021   192544    295765.0    3851.0   271834.0\n",
       "59586     Oman  01/01/2021   192584    128867.0    1499.0   121890.0\n",
       "81178       UK  01/01/2021  3086396   2549693.0   74237.0     5682.0\n",
       "54601  Morocco  01/01/2021   192574    440970.0    7425.0   409638.0\n",
       "\n",
       "[87281 rows x 6 columns]"
      ]
     },
     "execution_count": 18,
     "metadata": {},
     "output_type": "execute_result"
    }
   ],
   "source": [
    "dataset_countries"
   ]
  },
  {
   "cell_type": "code",
   "execution_count": 48,
   "id": "b501c38e",
   "metadata": {},
   "outputs": [
    {
     "data": {
      "text/html": [
       "<div>\n",
       "<style scoped>\n",
       "    .dataframe tbody tr th:only-of-type {\n",
       "        vertical-align: middle;\n",
       "    }\n",
       "\n",
       "    .dataframe tbody tr th {\n",
       "        vertical-align: top;\n",
       "    }\n",
       "\n",
       "    .dataframe thead th {\n",
       "        text-align: right;\n",
       "    }\n",
       "</style>\n",
       "<table border=\"1\" class=\"dataframe\">\n",
       "  <thead>\n",
       "    <tr style=\"text-align: right;\">\n",
       "      <th></th>\n",
       "      <th>Country</th>\n",
       "      <th>Date</th>\n",
       "      <th>SNo</th>\n",
       "      <th>Confirmed</th>\n",
       "      <th>Deaths</th>\n",
       "      <th>Recovered</th>\n",
       "    </tr>\n",
       "  </thead>\n",
       "  <tbody>\n",
       "    <tr>\n",
       "      <th>0</th>\n",
       "      <td>Chile</td>\n",
       "      <td>12/31/2020</td>\n",
       "      <td>3265990</td>\n",
       "      <td>608973.0</td>\n",
       "      <td>16608.0</td>\n",
       "      <td>577382.0</td>\n",
       "    </tr>\n",
       "    <tr>\n",
       "      <th>1</th>\n",
       "      <td>Laos</td>\n",
       "      <td>12/31/2020</td>\n",
       "      <td>191788</td>\n",
       "      <td>41.0</td>\n",
       "      <td>0.0</td>\n",
       "      <td>40.0</td>\n",
       "    </tr>\n",
       "    <tr>\n",
       "      <th>2</th>\n",
       "      <td>India</td>\n",
       "      <td>12/31/2020</td>\n",
       "      <td>7109745</td>\n",
       "      <td>10266674.0</td>\n",
       "      <td>148738.0</td>\n",
       "      <td>9860280.0</td>\n",
       "    </tr>\n",
       "    <tr>\n",
       "      <th>3</th>\n",
       "      <td>Samoa</td>\n",
       "      <td>12/31/2020</td>\n",
       "      <td>191834</td>\n",
       "      <td>2.0</td>\n",
       "      <td>0.0</td>\n",
       "      <td>2.0</td>\n",
       "    </tr>\n",
       "    <tr>\n",
       "      <th>4</th>\n",
       "      <td>Vanuatu</td>\n",
       "      <td>12/31/2020</td>\n",
       "      <td>191868</td>\n",
       "      <td>1.0</td>\n",
       "      <td>0.0</td>\n",
       "      <td>1.0</td>\n",
       "    </tr>\n",
       "    <tr>\n",
       "      <th>...</th>\n",
       "      <td>...</td>\n",
       "      <td>...</td>\n",
       "      <td>...</td>\n",
       "      <td>...</td>\n",
       "      <td>...</td>\n",
       "      <td>...</td>\n",
       "    </tr>\n",
       "    <tr>\n",
       "      <th>87276</th>\n",
       "      <td>Estonia</td>\n",
       "      <td>01/01/2021</td>\n",
       "      <td>192516</td>\n",
       "      <td>28406.0</td>\n",
       "      <td>234.0</td>\n",
       "      <td>19027.0</td>\n",
       "    </tr>\n",
       "    <tr>\n",
       "      <th>87277</th>\n",
       "      <td>Jordan</td>\n",
       "      <td>01/01/2021</td>\n",
       "      <td>192544</td>\n",
       "      <td>295765.0</td>\n",
       "      <td>3851.0</td>\n",
       "      <td>271834.0</td>\n",
       "    </tr>\n",
       "    <tr>\n",
       "      <th>87278</th>\n",
       "      <td>Oman</td>\n",
       "      <td>01/01/2021</td>\n",
       "      <td>192584</td>\n",
       "      <td>128867.0</td>\n",
       "      <td>1499.0</td>\n",
       "      <td>121890.0</td>\n",
       "    </tr>\n",
       "    <tr>\n",
       "      <th>87279</th>\n",
       "      <td>UK</td>\n",
       "      <td>01/01/2021</td>\n",
       "      <td>3086396</td>\n",
       "      <td>2549693.0</td>\n",
       "      <td>74237.0</td>\n",
       "      <td>5682.0</td>\n",
       "    </tr>\n",
       "    <tr>\n",
       "      <th>87280</th>\n",
       "      <td>Morocco</td>\n",
       "      <td>01/01/2021</td>\n",
       "      <td>192574</td>\n",
       "      <td>440970.0</td>\n",
       "      <td>7425.0</td>\n",
       "      <td>409638.0</td>\n",
       "    </tr>\n",
       "  </tbody>\n",
       "</table>\n",
       "<p>87281 rows × 6 columns</p>\n",
       "</div>"
      ],
      "text/plain": [
       "       Country        Date      SNo   Confirmed    Deaths  Recovered\n",
       "0        Chile  12/31/2020  3265990    608973.0   16608.0   577382.0\n",
       "1         Laos  12/31/2020   191788        41.0       0.0       40.0\n",
       "2        India  12/31/2020  7109745  10266674.0  148738.0  9860280.0\n",
       "3        Samoa  12/31/2020   191834         2.0       0.0        2.0\n",
       "4      Vanuatu  12/31/2020   191868         1.0       0.0        1.0\n",
       "...        ...         ...      ...         ...       ...        ...\n",
       "87276  Estonia  01/01/2021   192516     28406.0     234.0    19027.0\n",
       "87277   Jordan  01/01/2021   192544    295765.0    3851.0   271834.0\n",
       "87278     Oman  01/01/2021   192584    128867.0    1499.0   121890.0\n",
       "87279       UK  01/01/2021  3086396   2549693.0   74237.0     5682.0\n",
       "87280  Morocco  01/01/2021   192574    440970.0    7425.0   409638.0\n",
       "\n",
       "[87281 rows x 6 columns]"
      ]
     },
     "execution_count": 48,
     "metadata": {},
     "output_type": "execute_result"
    }
   ],
   "source": [
    "dataset_countries1 = dataset.groupby(['Country', 'Date']).sum().sort_values('Date', ascending = False).reset_index()\n",
    "dataset_countries1\n"
   ]
  },
  {
   "cell_type": "code",
   "execution_count": 28,
   "id": "e5fb7a39",
   "metadata": {},
   "outputs": [
    {
     "data": {
      "text/html": [
       "<div>\n",
       "<style scoped>\n",
       "    .dataframe tbody tr th:only-of-type {\n",
       "        vertical-align: middle;\n",
       "    }\n",
       "\n",
       "    .dataframe tbody tr th {\n",
       "        vertical-align: top;\n",
       "    }\n",
       "\n",
       "    .dataframe thead th {\n",
       "        text-align: right;\n",
       "    }\n",
       "</style>\n",
       "<table border=\"1\" class=\"dataframe\">\n",
       "  <thead>\n",
       "    <tr style=\"text-align: right;\">\n",
       "      <th></th>\n",
       "      <th>Country</th>\n",
       "      <th>Date</th>\n",
       "      <th>SNo</th>\n",
       "      <th>Confirmed</th>\n",
       "      <th>Deaths</th>\n",
       "      <th>Recovered</th>\n",
       "    </tr>\n",
       "  </thead>\n",
       "  <tbody>\n",
       "    <tr>\n",
       "      <th>16248</th>\n",
       "      <td>Chile</td>\n",
       "      <td>12/31/2020</td>\n",
       "      <td>3265990</td>\n",
       "      <td>608973.0</td>\n",
       "      <td>16608.0</td>\n",
       "      <td>577382.0</td>\n",
       "    </tr>\n",
       "    <tr>\n",
       "      <th>43477</th>\n",
       "      <td>Laos</td>\n",
       "      <td>12/31/2020</td>\n",
       "      <td>191788</td>\n",
       "      <td>41.0</td>\n",
       "      <td>0.0</td>\n",
       "      <td>40.0</td>\n",
       "    </tr>\n",
       "    <tr>\n",
       "      <th>35696</th>\n",
       "      <td>India</td>\n",
       "      <td>12/31/2020</td>\n",
       "      <td>7109745</td>\n",
       "      <td>10266674.0</td>\n",
       "      <td>148738.0</td>\n",
       "      <td>9860280.0</td>\n",
       "    </tr>\n",
       "    <tr>\n",
       "      <th>67351</th>\n",
       "      <td>Samoa</td>\n",
       "      <td>12/31/2020</td>\n",
       "      <td>191834</td>\n",
       "      <td>2.0</td>\n",
       "      <td>0.0</td>\n",
       "      <td>2.0</td>\n",
       "    </tr>\n",
       "    <tr>\n",
       "      <th>84615</th>\n",
       "      <td>Vanuatu</td>\n",
       "      <td>12/31/2020</td>\n",
       "      <td>191868</td>\n",
       "      <td>1.0</td>\n",
       "      <td>0.0</td>\n",
       "      <td>1.0</td>\n",
       "    </tr>\n",
       "    <tr>\n",
       "      <th>...</th>\n",
       "      <td>...</td>\n",
       "      <td>...</td>\n",
       "      <td>...</td>\n",
       "      <td>...</td>\n",
       "      <td>...</td>\n",
       "      <td>...</td>\n",
       "    </tr>\n",
       "    <tr>\n",
       "      <th>16296</th>\n",
       "      <td>China</td>\n",
       "      <td>03/09/2020</td>\n",
       "      <td>4608</td>\n",
       "      <td>0.0</td>\n",
       "      <td>0.0</td>\n",
       "      <td>0.0</td>\n",
       "    </tr>\n",
       "    <tr>\n",
       "      <th>60556</th>\n",
       "      <td>Palestine</td>\n",
       "      <td>03/09/2020</td>\n",
       "      <td>4416</td>\n",
       "      <td>22.0</td>\n",
       "      <td>0.0</td>\n",
       "      <td>0.0</td>\n",
       "    </tr>\n",
       "    <tr>\n",
       "      <th>64192</th>\n",
       "      <td>Republic of Ireland</td>\n",
       "      <td>03/08/2020</td>\n",
       "      <td>4159</td>\n",
       "      <td>21.0</td>\n",
       "      <td>0.0</td>\n",
       "      <td>0.0</td>\n",
       "    </tr>\n",
       "    <tr>\n",
       "      <th>0</th>\n",
       "      <td>Azerbaijan</td>\n",
       "      <td>02/28/2020</td>\n",
       "      <td>2738</td>\n",
       "      <td>1.0</td>\n",
       "      <td>0.0</td>\n",
       "      <td>0.0</td>\n",
       "    </tr>\n",
       "    <tr>\n",
       "      <th>58667</th>\n",
       "      <td>North Ireland</td>\n",
       "      <td>02/28/2020</td>\n",
       "      <td>2759</td>\n",
       "      <td>1.0</td>\n",
       "      <td>0.0</td>\n",
       "      <td>0.0</td>\n",
       "    </tr>\n",
       "  </tbody>\n",
       "</table>\n",
       "<p>229 rows × 6 columns</p>\n",
       "</div>"
      ],
      "text/plain": [
       "                   Country        Date      SNo   Confirmed    Deaths  \\\n",
       "16248                Chile  12/31/2020  3265990    608973.0   16608.0   \n",
       "43477                 Laos  12/31/2020   191788        41.0       0.0   \n",
       "35696                India  12/31/2020  7109745  10266674.0  148738.0   \n",
       "67351                Samoa  12/31/2020   191834         2.0       0.0   \n",
       "84615              Vanuatu  12/31/2020   191868         1.0       0.0   \n",
       "...                    ...         ...      ...         ...       ...   \n",
       "16296                China  03/09/2020     4608         0.0       0.0   \n",
       "60556            Palestine  03/09/2020     4416        22.0       0.0   \n",
       "64192  Republic of Ireland  03/08/2020     4159        21.0       0.0   \n",
       "0               Azerbaijan  02/28/2020     2738         1.0       0.0   \n",
       "58667        North Ireland  02/28/2020     2759         1.0       0.0   \n",
       "\n",
       "       Recovered  \n",
       "16248   577382.0  \n",
       "43477       40.0  \n",
       "35696  9860280.0  \n",
       "67351        2.0  \n",
       "84615        1.0  \n",
       "...          ...  \n",
       "16296        0.0  \n",
       "60556        0.0  \n",
       "64192        0.0  \n",
       "0            0.0  \n",
       "58667        0.0  \n",
       "\n",
       "[229 rows x 6 columns]"
      ]
     },
     "execution_count": 28,
     "metadata": {},
     "output_type": "execute_result"
    }
   ],
   "source": [
    "dataset_countries = dataset_countries.drop_duplicates(subset = ['Country'])\n",
    "dataset_countries"
   ]
  },
  {
   "cell_type": "code",
   "execution_count": 37,
   "id": "6b6fa594",
   "metadata": {},
   "outputs": [
    {
     "data": {
      "text/html": [
       "<div>\n",
       "<style scoped>\n",
       "    .dataframe tbody tr th:only-of-type {\n",
       "        vertical-align: middle;\n",
       "    }\n",
       "\n",
       "    .dataframe tbody tr th {\n",
       "        vertical-align: top;\n",
       "    }\n",
       "\n",
       "    .dataframe thead th {\n",
       "        text-align: right;\n",
       "    }\n",
       "</style>\n",
       "<table border=\"1\" class=\"dataframe\">\n",
       "  <thead>\n",
       "    <tr style=\"text-align: right;\">\n",
       "      <th></th>\n",
       "      <th>Country</th>\n",
       "      <th>Date</th>\n",
       "      <th>SNo</th>\n",
       "      <th>Confirmed</th>\n",
       "      <th>Deaths</th>\n",
       "      <th>Recovered</th>\n",
       "    </tr>\n",
       "  </thead>\n",
       "  <tbody>\n",
       "    <tr>\n",
       "      <th>16248</th>\n",
       "      <td>Chile</td>\n",
       "      <td>12/31/2020</td>\n",
       "      <td>3265990</td>\n",
       "      <td>608973.0</td>\n",
       "      <td>16608.0</td>\n",
       "      <td>577382.0</td>\n",
       "    </tr>\n",
       "    <tr>\n",
       "      <th>43477</th>\n",
       "      <td>Laos</td>\n",
       "      <td>12/31/2020</td>\n",
       "      <td>191788</td>\n",
       "      <td>41.0</td>\n",
       "      <td>0.0</td>\n",
       "      <td>40.0</td>\n",
       "    </tr>\n",
       "    <tr>\n",
       "      <th>35696</th>\n",
       "      <td>India</td>\n",
       "      <td>12/31/2020</td>\n",
       "      <td>7109745</td>\n",
       "      <td>10266674.0</td>\n",
       "      <td>148738.0</td>\n",
       "      <td>9860280.0</td>\n",
       "    </tr>\n",
       "    <tr>\n",
       "      <th>67351</th>\n",
       "      <td>Samoa</td>\n",
       "      <td>12/31/2020</td>\n",
       "      <td>191834</td>\n",
       "      <td>2.0</td>\n",
       "      <td>0.0</td>\n",
       "      <td>2.0</td>\n",
       "    </tr>\n",
       "    <tr>\n",
       "      <th>84615</th>\n",
       "      <td>Vanuatu</td>\n",
       "      <td>12/31/2020</td>\n",
       "      <td>191868</td>\n",
       "      <td>1.0</td>\n",
       "      <td>0.0</td>\n",
       "      <td>1.0</td>\n",
       "    </tr>\n",
       "    <tr>\n",
       "      <th>...</th>\n",
       "      <td>...</td>\n",
       "      <td>...</td>\n",
       "      <td>...</td>\n",
       "      <td>...</td>\n",
       "      <td>...</td>\n",
       "      <td>...</td>\n",
       "    </tr>\n",
       "    <tr>\n",
       "      <th>84619</th>\n",
       "      <td>Vatican City</td>\n",
       "      <td>03/09/2020</td>\n",
       "      <td>4601</td>\n",
       "      <td>1.0</td>\n",
       "      <td>0.0</td>\n",
       "      <td>0.0</td>\n",
       "    </tr>\n",
       "    <tr>\n",
       "      <th>60556</th>\n",
       "      <td>Palestine</td>\n",
       "      <td>03/09/2020</td>\n",
       "      <td>4416</td>\n",
       "      <td>22.0</td>\n",
       "      <td>0.0</td>\n",
       "      <td>0.0</td>\n",
       "    </tr>\n",
       "    <tr>\n",
       "      <th>64192</th>\n",
       "      <td>Republic of Ireland</td>\n",
       "      <td>03/08/2020</td>\n",
       "      <td>4159</td>\n",
       "      <td>21.0</td>\n",
       "      <td>0.0</td>\n",
       "      <td>0.0</td>\n",
       "    </tr>\n",
       "    <tr>\n",
       "      <th>0</th>\n",
       "      <td>Azerbaijan</td>\n",
       "      <td>02/28/2020</td>\n",
       "      <td>2738</td>\n",
       "      <td>1.0</td>\n",
       "      <td>0.0</td>\n",
       "      <td>0.0</td>\n",
       "    </tr>\n",
       "    <tr>\n",
       "      <th>58667</th>\n",
       "      <td>North Ireland</td>\n",
       "      <td>02/28/2020</td>\n",
       "      <td>2759</td>\n",
       "      <td>1.0</td>\n",
       "      <td>0.0</td>\n",
       "      <td>0.0</td>\n",
       "    </tr>\n",
       "  </tbody>\n",
       "</table>\n",
       "<p>218 rows × 6 columns</p>\n",
       "</div>"
      ],
      "text/plain": [
       "                   Country        Date      SNo   Confirmed    Deaths  \\\n",
       "16248                Chile  12/31/2020  3265990    608973.0   16608.0   \n",
       "43477                 Laos  12/31/2020   191788        41.0       0.0   \n",
       "35696                India  12/31/2020  7109745  10266674.0  148738.0   \n",
       "67351                Samoa  12/31/2020   191834         2.0       0.0   \n",
       "84615              Vanuatu  12/31/2020   191868         1.0       0.0   \n",
       "...                    ...         ...      ...         ...       ...   \n",
       "84619         Vatican City  03/09/2020     4601         1.0       0.0   \n",
       "60556            Palestine  03/09/2020     4416        22.0       0.0   \n",
       "64192  Republic of Ireland  03/08/2020     4159        21.0       0.0   \n",
       "0               Azerbaijan  02/28/2020     2738         1.0       0.0   \n",
       "58667        North Ireland  02/28/2020     2759         1.0       0.0   \n",
       "\n",
       "       Recovered  \n",
       "16248   577382.0  \n",
       "43477       40.0  \n",
       "35696  9860280.0  \n",
       "67351        2.0  \n",
       "84615        1.0  \n",
       "...          ...  \n",
       "84619        0.0  \n",
       "60556        0.0  \n",
       "64192        0.0  \n",
       "0            0.0  \n",
       "58667        0.0  \n",
       "\n",
       "[218 rows x 6 columns]"
      ]
     },
     "execution_count": 37,
     "metadata": {},
     "output_type": "execute_result"
    }
   ],
   "source": [
    "dataset_countries = dataset_countries[dataset_countries['Confirmed']>0]\n",
    "dataset_countries"
   ]
  },
  {
   "cell_type": "code",
   "execution_count": 94,
   "id": "e26ed82b",
   "metadata": {},
   "outputs": [
    {
     "data": {
      "application/vnd.plotly.v1+json": {
       "config": {
        "plotlyServerURL": "https://plot.ly"
       },
       "data": [
        {
         "colorscale": [
          [
           0,
           "rgb(255,245,240)"
          ],
          [
           0.125,
           "rgb(254,224,210)"
          ],
          [
           0.25,
           "rgb(252,187,161)"
          ],
          [
           0.375,
           "rgb(252,146,114)"
          ],
          [
           0.5,
           "rgb(251,106,74)"
          ],
          [
           0.625,
           "rgb(239,59,44)"
          ],
          [
           0.75,
           "rgb(203,24,29)"
          ],
          [
           0.875,
           "rgb(165,15,21)"
          ],
          [
           1,
           "rgb(103,0,13)"
          ]
         ],
         "locationmode": "country names",
         "locations": [
          "Chile",
          "Laos",
          "India",
          "Samoa",
          "Vanuatu",
          "Namibia",
          "Bangladesh",
          "Sudan",
          "South Africa",
          "Chad",
          "Sri Lanka",
          "Estonia",
          "MS Zaandam",
          "Czech Republic",
          "Panama",
          "Bosnia and Herzegovina",
          "Israel",
          "Guatemala",
          "Saudi Arabia",
          "Timor-Leste",
          "Slovenia",
          "Cyprus",
          "Ethiopia",
          "Taiwan",
          "Comoros",
          "South Korea",
          "Qatar",
          "Cameroon",
          "West Bank and Gaza",
          "Holy See",
          "UK",
          "Azerbaijan",
          "Peru",
          "Kosovo",
          "El Salvador",
          "Spain",
          "Burma",
          "Mali",
          "US",
          "Australia",
          "Liechtenstein",
          "Hong Kong",
          "Mexico",
          "South Sudan",
          "Mauritius",
          "Belize",
          "Costa Rica",
          "Oman",
          "Mongolia",
          "Dominica",
          "Nicaragua",
          "Algeria",
          "Antigua and Barbuda",
          "France",
          "Haiti",
          "Mozambique",
          "Guinea",
          "Hungary",
          "Cabo Verde",
          "San Marino",
          "Congo (Kinshasa)",
          "Jamaica",
          "Rwanda",
          "Marshall Islands",
          "Somalia",
          "Tajikistan",
          "Djibouti",
          "Switzerland",
          "Latvia",
          "Iran",
          "Niger",
          "Uruguay",
          "Albania",
          "Bahrain",
          "Seychelles",
          "Maldives",
          "Trinidad and Tobago",
          "Moldova",
          "Romania",
          "Finland",
          "Austria",
          "Libya",
          "Venezuela",
          "Germany",
          "Kenya",
          "Italy",
          "Cambodia",
          "Nepal",
          "United Arab Emirates",
          "Canada",
          "Paraguay",
          "Russia",
          "Saint Lucia",
          "Slovakia",
          "Benin",
          "Belgium",
          "Sierra Leone",
          "Andorra",
          "Luxembourg",
          "Suriname",
          "Dominican Republic",
          "Botswana",
          "Portugal",
          "Ivory Coast",
          "Sao Tome and Principe",
          "Philippines",
          "Lithuania",
          "Togo",
          "Burkina Faso",
          "Iraq",
          "Ghana",
          "Macau",
          "Saint Vincent and the Grenadines",
          "Singapore",
          "Congo (Brazzaville)",
          "Denmark",
          "Lesotho",
          "Montenegro",
          "Greece",
          "Ecuador",
          "Central African Republic",
          "Gambia",
          "Guyana",
          "Jordan",
          "Diamond Princess",
          "Croatia",
          "Egypt",
          "Guinea-Bissau",
          "Morocco",
          "Zimbabwe",
          "Burundi",
          "Malta",
          "Brazil",
          "Turkey",
          "Norway",
          "Solomon Islands",
          "Equatorial Guinea",
          "Mainland China",
          "Tanzania",
          "Saint Kitts and Nevis",
          "Netherlands",
          "New Zealand",
          "Argentina",
          "Pakistan",
          "Madagascar",
          "Iceland",
          "Kuwait",
          "Indonesia",
          "Belarus",
          "Japan",
          "Kazakhstan",
          "Honduras",
          "Eritrea",
          "Angola",
          "Sweden",
          "Bhutan",
          "Ireland",
          "Vietnam",
          "Barbados",
          "Serbia",
          "Uzbekistan",
          "Gabon",
          "North Macedonia",
          "Senegal",
          "Cuba",
          "Thailand",
          "Zambia",
          "Papua New Guinea",
          "Monaco",
          "Grenada",
          "Nigeria",
          "Lebanon",
          "Fiji",
          "Brunei",
          "Liberia",
          "Bulgaria",
          "Bolivia",
          "Malaysia",
          "Eswatini",
          "Bahamas",
          "Kyrgyzstan",
          "Malawi",
          "Uganda",
          "Armenia",
          "Mauritania",
          "Yemen",
          "Poland",
          "Georgia",
          "Colombia",
          "Syria",
          "Tunisia",
          "Ukraine",
          "Afghanistan",
          "Micronesia",
          "Others",
          "East Timor",
          "Martinique",
          "Cape Verde",
          "Reunion",
          "Gambia, The",
          "Bahamas, The",
          "Mayotte",
          "French Guiana",
          "Guadeloupe",
          "Aruba",
          "Curacao",
          "Cayman Islands",
          "Channel Islands",
          "Faroe Islands",
          "Saint Barthelemy",
          "Gibraltar",
          "('St. Martin',)",
          "St. Martin",
          "Vatican City",
          "Palestine",
          "Republic of Ireland",
          " Azerbaijan",
          "North Ireland"
         ],
         "type": "choropleth",
         "z": [
          608973,
          41,
          10266674,
          2,
          1,
          23941,
          513510,
          25500,
          1057161,
          2113,
          43299,
          27990,
          9,
          718661,
          246790,
          110985,
          423262,
          138012,
          362741,
          44,
          122152,
          22019,
          124264,
          799,
          823,
          61769,
          143834,
          26277,
          138004,
          27,
          2496235,
          218700,
          1015137,
          51144,
          46242,
          1928265,
          124630,
          7090,
          20099363,
          28425,
          2136,
          8846,
          1426094,
          3558,
          527,
          10776,
          169321,
          128867,
          1220,
          88,
          6046,
          99610,
          159,
          2677666,
          9999,
          18642,
          13722,
          322514,
          11840,
          2428,
          17658,
          12827,
          8383,
          4,
          4714,
          13296,
          5831,
          452296,
          40904,
          1225142,
          3323,
          19119,
          58316,
          92675,
          256,
          13757,
          7150,
          144818,
          632263,
          36107,
          360815,
          100277,
          113558,
          1760520,
          96458,
          2107166,
          378,
          260593,
          207822,
          584409,
          107932,
          3127347,
          353,
          179543,
          3251,
          646496,
          2611,
          8049,
          46415,
          6210,
          170785,
          14805,
          413678,
          22490,
          1014,
          474064,
          141955,
          3633,
          6707,
          595291,
          54771,
          46,
          121,
          58599,
          7107,
          164116,
          3094,
          48247,
          138850,
          212512,
          4963,
          3797,
          6332,
          294494,
          712,
          210837,
          138062,
          2452,
          439193,
          13867,
          818,
          12774,
          7675973,
          2208652,
          49567,
          17,
          5277,
          87071,
          509,
          32,
          808382,
          2162,
          1625514,
          482178,
          17714,
          5754,
          150584,
          743198,
          194284,
          235811,
          201196,
          121827,
          1320,
          17553,
          437379,
          670,
          91779,
          1465,
          383,
          337923,
          77060,
          9571,
          83329,
          19140,
          11863,
          7163,
          20725,
          780,
          875,
          127,
          87607,
          181503,
          49,
          157,
          1779,
          202266,
          160124,
          113010,
          9358,
          7871,
          81034,
          6583,
          35216,
          159409,
          14364,
          2099,
          1294878,
          227420,
          1642775,
          11434,
          139140,
          1086997,
          51526,
          1,
          712,
          1,
          32,
          1,
          45,
          1,
          4,
          7,
          18,
          53,
          4,
          1,
          1,
          1,
          2,
          1,
          1,
          2,
          2,
          1,
          22,
          21,
          1,
          1
         ]
        }
       ],
       "layout": {
        "geo": {
         "projection": {
          "type": "equirectangular"
         },
         "showcoastlines": false,
         "showframe": false
        },
        "template": {
         "data": {
          "bar": [
           {
            "error_x": {
             "color": "#2a3f5f"
            },
            "error_y": {
             "color": "#2a3f5f"
            },
            "marker": {
             "line": {
              "color": "#E5ECF6",
              "width": 0.5
             },
             "pattern": {
              "fillmode": "overlay",
              "size": 10,
              "solidity": 0.2
             }
            },
            "type": "bar"
           }
          ],
          "barpolar": [
           {
            "marker": {
             "line": {
              "color": "#E5ECF6",
              "width": 0.5
             },
             "pattern": {
              "fillmode": "overlay",
              "size": 10,
              "solidity": 0.2
             }
            },
            "type": "barpolar"
           }
          ],
          "carpet": [
           {
            "aaxis": {
             "endlinecolor": "#2a3f5f",
             "gridcolor": "white",
             "linecolor": "white",
             "minorgridcolor": "white",
             "startlinecolor": "#2a3f5f"
            },
            "baxis": {
             "endlinecolor": "#2a3f5f",
             "gridcolor": "white",
             "linecolor": "white",
             "minorgridcolor": "white",
             "startlinecolor": "#2a3f5f"
            },
            "type": "carpet"
           }
          ],
          "choropleth": [
           {
            "colorbar": {
             "outlinewidth": 0,
             "ticks": ""
            },
            "type": "choropleth"
           }
          ],
          "contour": [
           {
            "colorbar": {
             "outlinewidth": 0,
             "ticks": ""
            },
            "colorscale": [
             [
              0,
              "#0d0887"
             ],
             [
              0.1111111111111111,
              "#46039f"
             ],
             [
              0.2222222222222222,
              "#7201a8"
             ],
             [
              0.3333333333333333,
              "#9c179e"
             ],
             [
              0.4444444444444444,
              "#bd3786"
             ],
             [
              0.5555555555555556,
              "#d8576b"
             ],
             [
              0.6666666666666666,
              "#ed7953"
             ],
             [
              0.7777777777777778,
              "#fb9f3a"
             ],
             [
              0.8888888888888888,
              "#fdca26"
             ],
             [
              1,
              "#f0f921"
             ]
            ],
            "type": "contour"
           }
          ],
          "contourcarpet": [
           {
            "colorbar": {
             "outlinewidth": 0,
             "ticks": ""
            },
            "type": "contourcarpet"
           }
          ],
          "heatmap": [
           {
            "colorbar": {
             "outlinewidth": 0,
             "ticks": ""
            },
            "colorscale": [
             [
              0,
              "#0d0887"
             ],
             [
              0.1111111111111111,
              "#46039f"
             ],
             [
              0.2222222222222222,
              "#7201a8"
             ],
             [
              0.3333333333333333,
              "#9c179e"
             ],
             [
              0.4444444444444444,
              "#bd3786"
             ],
             [
              0.5555555555555556,
              "#d8576b"
             ],
             [
              0.6666666666666666,
              "#ed7953"
             ],
             [
              0.7777777777777778,
              "#fb9f3a"
             ],
             [
              0.8888888888888888,
              "#fdca26"
             ],
             [
              1,
              "#f0f921"
             ]
            ],
            "type": "heatmap"
           }
          ],
          "heatmapgl": [
           {
            "colorbar": {
             "outlinewidth": 0,
             "ticks": ""
            },
            "colorscale": [
             [
              0,
              "#0d0887"
             ],
             [
              0.1111111111111111,
              "#46039f"
             ],
             [
              0.2222222222222222,
              "#7201a8"
             ],
             [
              0.3333333333333333,
              "#9c179e"
             ],
             [
              0.4444444444444444,
              "#bd3786"
             ],
             [
              0.5555555555555556,
              "#d8576b"
             ],
             [
              0.6666666666666666,
              "#ed7953"
             ],
             [
              0.7777777777777778,
              "#fb9f3a"
             ],
             [
              0.8888888888888888,
              "#fdca26"
             ],
             [
              1,
              "#f0f921"
             ]
            ],
            "type": "heatmapgl"
           }
          ],
          "histogram": [
           {
            "marker": {
             "pattern": {
              "fillmode": "overlay",
              "size": 10,
              "solidity": 0.2
             }
            },
            "type": "histogram"
           }
          ],
          "histogram2d": [
           {
            "colorbar": {
             "outlinewidth": 0,
             "ticks": ""
            },
            "colorscale": [
             [
              0,
              "#0d0887"
             ],
             [
              0.1111111111111111,
              "#46039f"
             ],
             [
              0.2222222222222222,
              "#7201a8"
             ],
             [
              0.3333333333333333,
              "#9c179e"
             ],
             [
              0.4444444444444444,
              "#bd3786"
             ],
             [
              0.5555555555555556,
              "#d8576b"
             ],
             [
              0.6666666666666666,
              "#ed7953"
             ],
             [
              0.7777777777777778,
              "#fb9f3a"
             ],
             [
              0.8888888888888888,
              "#fdca26"
             ],
             [
              1,
              "#f0f921"
             ]
            ],
            "type": "histogram2d"
           }
          ],
          "histogram2dcontour": [
           {
            "colorbar": {
             "outlinewidth": 0,
             "ticks": ""
            },
            "colorscale": [
             [
              0,
              "#0d0887"
             ],
             [
              0.1111111111111111,
              "#46039f"
             ],
             [
              0.2222222222222222,
              "#7201a8"
             ],
             [
              0.3333333333333333,
              "#9c179e"
             ],
             [
              0.4444444444444444,
              "#bd3786"
             ],
             [
              0.5555555555555556,
              "#d8576b"
             ],
             [
              0.6666666666666666,
              "#ed7953"
             ],
             [
              0.7777777777777778,
              "#fb9f3a"
             ],
             [
              0.8888888888888888,
              "#fdca26"
             ],
             [
              1,
              "#f0f921"
             ]
            ],
            "type": "histogram2dcontour"
           }
          ],
          "mesh3d": [
           {
            "colorbar": {
             "outlinewidth": 0,
             "ticks": ""
            },
            "type": "mesh3d"
           }
          ],
          "parcoords": [
           {
            "line": {
             "colorbar": {
              "outlinewidth": 0,
              "ticks": ""
             }
            },
            "type": "parcoords"
           }
          ],
          "pie": [
           {
            "automargin": true,
            "type": "pie"
           }
          ],
          "scatter": [
           {
            "marker": {
             "colorbar": {
              "outlinewidth": 0,
              "ticks": ""
             }
            },
            "type": "scatter"
           }
          ],
          "scatter3d": [
           {
            "line": {
             "colorbar": {
              "outlinewidth": 0,
              "ticks": ""
             }
            },
            "marker": {
             "colorbar": {
              "outlinewidth": 0,
              "ticks": ""
             }
            },
            "type": "scatter3d"
           }
          ],
          "scattercarpet": [
           {
            "marker": {
             "colorbar": {
              "outlinewidth": 0,
              "ticks": ""
             }
            },
            "type": "scattercarpet"
           }
          ],
          "scattergeo": [
           {
            "marker": {
             "colorbar": {
              "outlinewidth": 0,
              "ticks": ""
             }
            },
            "type": "scattergeo"
           }
          ],
          "scattergl": [
           {
            "marker": {
             "colorbar": {
              "outlinewidth": 0,
              "ticks": ""
             }
            },
            "type": "scattergl"
           }
          ],
          "scattermapbox": [
           {
            "marker": {
             "colorbar": {
              "outlinewidth": 0,
              "ticks": ""
             }
            },
            "type": "scattermapbox"
           }
          ],
          "scatterpolar": [
           {
            "marker": {
             "colorbar": {
              "outlinewidth": 0,
              "ticks": ""
             }
            },
            "type": "scatterpolar"
           }
          ],
          "scatterpolargl": [
           {
            "marker": {
             "colorbar": {
              "outlinewidth": 0,
              "ticks": ""
             }
            },
            "type": "scatterpolargl"
           }
          ],
          "scatterternary": [
           {
            "marker": {
             "colorbar": {
              "outlinewidth": 0,
              "ticks": ""
             }
            },
            "type": "scatterternary"
           }
          ],
          "surface": [
           {
            "colorbar": {
             "outlinewidth": 0,
             "ticks": ""
            },
            "colorscale": [
             [
              0,
              "#0d0887"
             ],
             [
              0.1111111111111111,
              "#46039f"
             ],
             [
              0.2222222222222222,
              "#7201a8"
             ],
             [
              0.3333333333333333,
              "#9c179e"
             ],
             [
              0.4444444444444444,
              "#bd3786"
             ],
             [
              0.5555555555555556,
              "#d8576b"
             ],
             [
              0.6666666666666666,
              "#ed7953"
             ],
             [
              0.7777777777777778,
              "#fb9f3a"
             ],
             [
              0.8888888888888888,
              "#fdca26"
             ],
             [
              1,
              "#f0f921"
             ]
            ],
            "type": "surface"
           }
          ],
          "table": [
           {
            "cells": {
             "fill": {
              "color": "#EBF0F8"
             },
             "line": {
              "color": "white"
             }
            },
            "header": {
             "fill": {
              "color": "#C8D4E3"
             },
             "line": {
              "color": "white"
             }
            },
            "type": "table"
           }
          ]
         },
         "layout": {
          "annotationdefaults": {
           "arrowcolor": "#2a3f5f",
           "arrowhead": 0,
           "arrowwidth": 1
          },
          "autotypenumbers": "strict",
          "coloraxis": {
           "colorbar": {
            "outlinewidth": 0,
            "ticks": ""
           }
          },
          "colorscale": {
           "diverging": [
            [
             0,
             "#8e0152"
            ],
            [
             0.1,
             "#c51b7d"
            ],
            [
             0.2,
             "#de77ae"
            ],
            [
             0.3,
             "#f1b6da"
            ],
            [
             0.4,
             "#fde0ef"
            ],
            [
             0.5,
             "#f7f7f7"
            ],
            [
             0.6,
             "#e6f5d0"
            ],
            [
             0.7,
             "#b8e186"
            ],
            [
             0.8,
             "#7fbc41"
            ],
            [
             0.9,
             "#4d9221"
            ],
            [
             1,
             "#276419"
            ]
           ],
           "sequential": [
            [
             0,
             "#0d0887"
            ],
            [
             0.1111111111111111,
             "#46039f"
            ],
            [
             0.2222222222222222,
             "#7201a8"
            ],
            [
             0.3333333333333333,
             "#9c179e"
            ],
            [
             0.4444444444444444,
             "#bd3786"
            ],
            [
             0.5555555555555556,
             "#d8576b"
            ],
            [
             0.6666666666666666,
             "#ed7953"
            ],
            [
             0.7777777777777778,
             "#fb9f3a"
            ],
            [
             0.8888888888888888,
             "#fdca26"
            ],
            [
             1,
             "#f0f921"
            ]
           ],
           "sequentialminus": [
            [
             0,
             "#0d0887"
            ],
            [
             0.1111111111111111,
             "#46039f"
            ],
            [
             0.2222222222222222,
             "#7201a8"
            ],
            [
             0.3333333333333333,
             "#9c179e"
            ],
            [
             0.4444444444444444,
             "#bd3786"
            ],
            [
             0.5555555555555556,
             "#d8576b"
            ],
            [
             0.6666666666666666,
             "#ed7953"
            ],
            [
             0.7777777777777778,
             "#fb9f3a"
            ],
            [
             0.8888888888888888,
             "#fdca26"
            ],
            [
             1,
             "#f0f921"
            ]
           ]
          },
          "colorway": [
           "#636efa",
           "#EF553B",
           "#00cc96",
           "#ab63fa",
           "#FFA15A",
           "#19d3f3",
           "#FF6692",
           "#B6E880",
           "#FF97FF",
           "#FECB52"
          ],
          "font": {
           "color": "#2a3f5f"
          },
          "geo": {
           "bgcolor": "white",
           "lakecolor": "white",
           "landcolor": "#E5ECF6",
           "showlakes": true,
           "showland": true,
           "subunitcolor": "white"
          },
          "hoverlabel": {
           "align": "left"
          },
          "hovermode": "closest",
          "mapbox": {
           "style": "light"
          },
          "paper_bgcolor": "white",
          "plot_bgcolor": "#E5ECF6",
          "polar": {
           "angularaxis": {
            "gridcolor": "white",
            "linecolor": "white",
            "ticks": ""
           },
           "bgcolor": "#E5ECF6",
           "radialaxis": {
            "gridcolor": "white",
            "linecolor": "white",
            "ticks": ""
           }
          },
          "scene": {
           "xaxis": {
            "backgroundcolor": "#E5ECF6",
            "gridcolor": "white",
            "gridwidth": 2,
            "linecolor": "white",
            "showbackground": true,
            "ticks": "",
            "zerolinecolor": "white"
           },
           "yaxis": {
            "backgroundcolor": "#E5ECF6",
            "gridcolor": "white",
            "gridwidth": 2,
            "linecolor": "white",
            "showbackground": true,
            "ticks": "",
            "zerolinecolor": "white"
           },
           "zaxis": {
            "backgroundcolor": "#E5ECF6",
            "gridcolor": "white",
            "gridwidth": 2,
            "linecolor": "white",
            "showbackground": true,
            "ticks": "",
            "zerolinecolor": "white"
           }
          },
          "shapedefaults": {
           "line": {
            "color": "#2a3f5f"
           }
          },
          "ternary": {
           "aaxis": {
            "gridcolor": "white",
            "linecolor": "white",
            "ticks": ""
           },
           "baxis": {
            "gridcolor": "white",
            "linecolor": "white",
            "ticks": ""
           },
           "bgcolor": "#E5ECF6",
           "caxis": {
            "gridcolor": "white",
            "linecolor": "white",
            "ticks": ""
           }
          },
          "title": {
           "x": 0.05
          },
          "xaxis": {
           "automargin": true,
           "gridcolor": "white",
           "linecolor": "white",
           "ticks": "",
           "title": {
            "standoff": 15
           },
           "zerolinecolor": "white",
           "zerolinewidth": 2
          },
          "yaxis": {
           "automargin": true,
           "gridcolor": "white",
           "linecolor": "white",
           "ticks": "",
           "title": {
            "standoff": 15
           },
           "zerolinecolor": "white",
           "zerolinewidth": 2
          }
         }
        },
        "title": {
         "text": "Confiremd cases",
         "x": 0.5
        }
       }
      },
      "text/html": [
       "<div>                            <div id=\"70428ffa-0f71-4ebd-b7a9-f82173fd53ab\" class=\"plotly-graph-div\" style=\"height:525px; width:100%;\"></div>            <script type=\"text/javascript\">                require([\"plotly\"], function(Plotly) {                    window.PLOTLYENV=window.PLOTLYENV || {};                                    if (document.getElementById(\"70428ffa-0f71-4ebd-b7a9-f82173fd53ab\")) {                    Plotly.newPlot(                        \"70428ffa-0f71-4ebd-b7a9-f82173fd53ab\",                        [{\"colorscale\":[[0.0,\"rgb(255,245,240)\"],[0.125,\"rgb(254,224,210)\"],[0.25,\"rgb(252,187,161)\"],[0.375,\"rgb(252,146,114)\"],[0.5,\"rgb(251,106,74)\"],[0.625,\"rgb(239,59,44)\"],[0.75,\"rgb(203,24,29)\"],[0.875,\"rgb(165,15,21)\"],[1.0,\"rgb(103,0,13)\"]],\"locationmode\":\"country names\",\"locations\":[\"Chile\",\"Laos\",\"India\",\"Samoa\",\"Vanuatu\",\"Namibia\",\"Bangladesh\",\"Sudan\",\"South Africa\",\"Chad\",\"Sri Lanka\",\"Estonia\",\"MS Zaandam\",\"Czech Republic\",\"Panama\",\"Bosnia and Herzegovina\",\"Israel\",\"Guatemala\",\"Saudi Arabia\",\"Timor-Leste\",\"Slovenia\",\"Cyprus\",\"Ethiopia\",\"Taiwan\",\"Comoros\",\"South Korea\",\"Qatar\",\"Cameroon\",\"West Bank and Gaza\",\"Holy See\",\"UK\",\"Azerbaijan\",\"Peru\",\"Kosovo\",\"El Salvador\",\"Spain\",\"Burma\",\"Mali\",\"US\",\"Australia\",\"Liechtenstein\",\"Hong Kong\",\"Mexico\",\"South Sudan\",\"Mauritius\",\"Belize\",\"Costa Rica\",\"Oman\",\"Mongolia\",\"Dominica\",\"Nicaragua\",\"Algeria\",\"Antigua and Barbuda\",\"France\",\"Haiti\",\"Mozambique\",\"Guinea\",\"Hungary\",\"Cabo Verde\",\"San Marino\",\"Congo (Kinshasa)\",\"Jamaica\",\"Rwanda\",\"Marshall Islands\",\"Somalia\",\"Tajikistan\",\"Djibouti\",\"Switzerland\",\"Latvia\",\"Iran\",\"Niger\",\"Uruguay\",\"Albania\",\"Bahrain\",\"Seychelles\",\"Maldives\",\"Trinidad and Tobago\",\"Moldova\",\"Romania\",\"Finland\",\"Austria\",\"Libya\",\"Venezuela\",\"Germany\",\"Kenya\",\"Italy\",\"Cambodia\",\"Nepal\",\"United Arab Emirates\",\"Canada\",\"Paraguay\",\"Russia\",\"Saint Lucia\",\"Slovakia\",\"Benin\",\"Belgium\",\"Sierra Leone\",\"Andorra\",\"Luxembourg\",\"Suriname\",\"Dominican Republic\",\"Botswana\",\"Portugal\",\"Ivory Coast\",\"Sao Tome and Principe\",\"Philippines\",\"Lithuania\",\"Togo\",\"Burkina Faso\",\"Iraq\",\"Ghana\",\"Macau\",\"Saint Vincent and the Grenadines\",\"Singapore\",\"Congo (Brazzaville)\",\"Denmark\",\"Lesotho\",\"Montenegro\",\"Greece\",\"Ecuador\",\"Central African Republic\",\"Gambia\",\"Guyana\",\"Jordan\",\"Diamond Princess\",\"Croatia\",\"Egypt\",\"Guinea-Bissau\",\"Morocco\",\"Zimbabwe\",\"Burundi\",\"Malta\",\"Brazil\",\"Turkey\",\"Norway\",\"Solomon Islands\",\"Equatorial Guinea\",\"Mainland China\",\"Tanzania\",\"Saint Kitts and Nevis\",\"Netherlands\",\"New Zealand\",\"Argentina\",\"Pakistan\",\"Madagascar\",\"Iceland\",\"Kuwait\",\"Indonesia\",\"Belarus\",\"Japan\",\"Kazakhstan\",\"Honduras\",\"Eritrea\",\"Angola\",\"Sweden\",\"Bhutan\",\"Ireland\",\"Vietnam\",\"Barbados\",\"Serbia\",\"Uzbekistan\",\"Gabon\",\"North Macedonia\",\"Senegal\",\"Cuba\",\"Thailand\",\"Zambia\",\"Papua New Guinea\",\"Monaco\",\"Grenada\",\"Nigeria\",\"Lebanon\",\"Fiji\",\"Brunei\",\"Liberia\",\"Bulgaria\",\"Bolivia\",\"Malaysia\",\"Eswatini\",\"Bahamas\",\"Kyrgyzstan\",\"Malawi\",\"Uganda\",\"Armenia\",\"Mauritania\",\"Yemen\",\"Poland\",\"Georgia\",\"Colombia\",\"Syria\",\"Tunisia\",\"Ukraine\",\"Afghanistan\",\"Micronesia\",\"Others\",\"East Timor\",\"Martinique\",\"Cape Verde\",\"Reunion\",\"Gambia, The\",\"Bahamas, The\",\"Mayotte\",\"French Guiana\",\"Guadeloupe\",\"Aruba\",\"Curacao\",\"Cayman Islands\",\"Channel Islands\",\"Faroe Islands\",\"Saint Barthelemy\",\"Gibraltar\",\"('St. Martin',)\",\"St. Martin\",\"Vatican City\",\"Palestine\",\"Republic of Ireland\",\" Azerbaijan\",\"North Ireland\"],\"type\":\"choropleth\",\"z\":[608973.0,41.0,10266674.0,2.0,1.0,23941.0,513510.0,25500.0,1057161.0,2113.0,43299.0,27990.0,9.0,718661.0,246790.0,110985.0,423262.0,138012.0,362741.0,44.0,122152.0,22019.0,124264.0,799.0,823.0,61769.0,143834.0,26277.0,138004.0,27.0,2496235.0,218700.0,1015137.0,51144.0,46242.0,1928265.0,124630.0,7090.0,20099363.0,28425.0,2136.0,8846.0,1426094.0,3558.0,527.0,10776.0,169321.0,128867.0,1220.0,88.0,6046.0,99610.0,159.0,2677666.0,9999.0,18642.0,13722.0,322514.0,11840.0,2428.0,17658.0,12827.0,8383.0,4.0,4714.0,13296.0,5831.0,452296.0,40904.0,1225142.0,3323.0,19119.0,58316.0,92675.0,256.0,13757.0,7150.0,144818.0,632263.0,36107.0,360815.0,100277.0,113558.0,1760520.0,96458.0,2107166.0,378.0,260593.0,207822.0,584409.0,107932.0,3127347.0,353.0,179543.0,3251.0,646496.0,2611.0,8049.0,46415.0,6210.0,170785.0,14805.0,413678.0,22490.0,1014.0,474064.0,141955.0,3633.0,6707.0,595291.0,54771.0,46.0,121.0,58599.0,7107.0,164116.0,3094.0,48247.0,138850.0,212512.0,4963.0,3797.0,6332.0,294494.0,712.0,210837.0,138062.0,2452.0,439193.0,13867.0,818.0,12774.0,7675973.0,2208652.0,49567.0,17.0,5277.0,87071.0,509.0,32.0,808382.0,2162.0,1625514.0,482178.0,17714.0,5754.0,150584.0,743198.0,194284.0,235811.0,201196.0,121827.0,1320.0,17553.0,437379.0,670.0,91779.0,1465.0,383.0,337923.0,77060.0,9571.0,83329.0,19140.0,11863.0,7163.0,20725.0,780.0,875.0,127.0,87607.0,181503.0,49.0,157.0,1779.0,202266.0,160124.0,113010.0,9358.0,7871.0,81034.0,6583.0,35216.0,159409.0,14364.0,2099.0,1294878.0,227420.0,1642775.0,11434.0,139140.0,1086997.0,51526.0,1.0,712.0,1.0,32.0,1.0,45.0,1.0,4.0,7.0,18.0,53.0,4.0,1.0,1.0,1.0,2.0,1.0,1.0,2.0,2.0,1.0,22.0,21.0,1.0,1.0]}],                        {\"geo\":{\"projection\":{\"type\":\"equirectangular\"},\"showcoastlines\":false,\"showframe\":false},\"template\":{\"data\":{\"bar\":[{\"error_x\":{\"color\":\"#2a3f5f\"},\"error_y\":{\"color\":\"#2a3f5f\"},\"marker\":{\"line\":{\"color\":\"#E5ECF6\",\"width\":0.5},\"pattern\":{\"fillmode\":\"overlay\",\"size\":10,\"solidity\":0.2}},\"type\":\"bar\"}],\"barpolar\":[{\"marker\":{\"line\":{\"color\":\"#E5ECF6\",\"width\":0.5},\"pattern\":{\"fillmode\":\"overlay\",\"size\":10,\"solidity\":0.2}},\"type\":\"barpolar\"}],\"carpet\":[{\"aaxis\":{\"endlinecolor\":\"#2a3f5f\",\"gridcolor\":\"white\",\"linecolor\":\"white\",\"minorgridcolor\":\"white\",\"startlinecolor\":\"#2a3f5f\"},\"baxis\":{\"endlinecolor\":\"#2a3f5f\",\"gridcolor\":\"white\",\"linecolor\":\"white\",\"minorgridcolor\":\"white\",\"startlinecolor\":\"#2a3f5f\"},\"type\":\"carpet\"}],\"choropleth\":[{\"colorbar\":{\"outlinewidth\":0,\"ticks\":\"\"},\"type\":\"choropleth\"}],\"contour\":[{\"colorbar\":{\"outlinewidth\":0,\"ticks\":\"\"},\"colorscale\":[[0.0,\"#0d0887\"],[0.1111111111111111,\"#46039f\"],[0.2222222222222222,\"#7201a8\"],[0.3333333333333333,\"#9c179e\"],[0.4444444444444444,\"#bd3786\"],[0.5555555555555556,\"#d8576b\"],[0.6666666666666666,\"#ed7953\"],[0.7777777777777778,\"#fb9f3a\"],[0.8888888888888888,\"#fdca26\"],[1.0,\"#f0f921\"]],\"type\":\"contour\"}],\"contourcarpet\":[{\"colorbar\":{\"outlinewidth\":0,\"ticks\":\"\"},\"type\":\"contourcarpet\"}],\"heatmap\":[{\"colorbar\":{\"outlinewidth\":0,\"ticks\":\"\"},\"colorscale\":[[0.0,\"#0d0887\"],[0.1111111111111111,\"#46039f\"],[0.2222222222222222,\"#7201a8\"],[0.3333333333333333,\"#9c179e\"],[0.4444444444444444,\"#bd3786\"],[0.5555555555555556,\"#d8576b\"],[0.6666666666666666,\"#ed7953\"],[0.7777777777777778,\"#fb9f3a\"],[0.8888888888888888,\"#fdca26\"],[1.0,\"#f0f921\"]],\"type\":\"heatmap\"}],\"heatmapgl\":[{\"colorbar\":{\"outlinewidth\":0,\"ticks\":\"\"},\"colorscale\":[[0.0,\"#0d0887\"],[0.1111111111111111,\"#46039f\"],[0.2222222222222222,\"#7201a8\"],[0.3333333333333333,\"#9c179e\"],[0.4444444444444444,\"#bd3786\"],[0.5555555555555556,\"#d8576b\"],[0.6666666666666666,\"#ed7953\"],[0.7777777777777778,\"#fb9f3a\"],[0.8888888888888888,\"#fdca26\"],[1.0,\"#f0f921\"]],\"type\":\"heatmapgl\"}],\"histogram\":[{\"marker\":{\"pattern\":{\"fillmode\":\"overlay\",\"size\":10,\"solidity\":0.2}},\"type\":\"histogram\"}],\"histogram2d\":[{\"colorbar\":{\"outlinewidth\":0,\"ticks\":\"\"},\"colorscale\":[[0.0,\"#0d0887\"],[0.1111111111111111,\"#46039f\"],[0.2222222222222222,\"#7201a8\"],[0.3333333333333333,\"#9c179e\"],[0.4444444444444444,\"#bd3786\"],[0.5555555555555556,\"#d8576b\"],[0.6666666666666666,\"#ed7953\"],[0.7777777777777778,\"#fb9f3a\"],[0.8888888888888888,\"#fdca26\"],[1.0,\"#f0f921\"]],\"type\":\"histogram2d\"}],\"histogram2dcontour\":[{\"colorbar\":{\"outlinewidth\":0,\"ticks\":\"\"},\"colorscale\":[[0.0,\"#0d0887\"],[0.1111111111111111,\"#46039f\"],[0.2222222222222222,\"#7201a8\"],[0.3333333333333333,\"#9c179e\"],[0.4444444444444444,\"#bd3786\"],[0.5555555555555556,\"#d8576b\"],[0.6666666666666666,\"#ed7953\"],[0.7777777777777778,\"#fb9f3a\"],[0.8888888888888888,\"#fdca26\"],[1.0,\"#f0f921\"]],\"type\":\"histogram2dcontour\"}],\"mesh3d\":[{\"colorbar\":{\"outlinewidth\":0,\"ticks\":\"\"},\"type\":\"mesh3d\"}],\"parcoords\":[{\"line\":{\"colorbar\":{\"outlinewidth\":0,\"ticks\":\"\"}},\"type\":\"parcoords\"}],\"pie\":[{\"automargin\":true,\"type\":\"pie\"}],\"scatter\":[{\"marker\":{\"colorbar\":{\"outlinewidth\":0,\"ticks\":\"\"}},\"type\":\"scatter\"}],\"scatter3d\":[{\"line\":{\"colorbar\":{\"outlinewidth\":0,\"ticks\":\"\"}},\"marker\":{\"colorbar\":{\"outlinewidth\":0,\"ticks\":\"\"}},\"type\":\"scatter3d\"}],\"scattercarpet\":[{\"marker\":{\"colorbar\":{\"outlinewidth\":0,\"ticks\":\"\"}},\"type\":\"scattercarpet\"}],\"scattergeo\":[{\"marker\":{\"colorbar\":{\"outlinewidth\":0,\"ticks\":\"\"}},\"type\":\"scattergeo\"}],\"scattergl\":[{\"marker\":{\"colorbar\":{\"outlinewidth\":0,\"ticks\":\"\"}},\"type\":\"scattergl\"}],\"scattermapbox\":[{\"marker\":{\"colorbar\":{\"outlinewidth\":0,\"ticks\":\"\"}},\"type\":\"scattermapbox\"}],\"scatterpolar\":[{\"marker\":{\"colorbar\":{\"outlinewidth\":0,\"ticks\":\"\"}},\"type\":\"scatterpolar\"}],\"scatterpolargl\":[{\"marker\":{\"colorbar\":{\"outlinewidth\":0,\"ticks\":\"\"}},\"type\":\"scatterpolargl\"}],\"scatterternary\":[{\"marker\":{\"colorbar\":{\"outlinewidth\":0,\"ticks\":\"\"}},\"type\":\"scatterternary\"}],\"surface\":[{\"colorbar\":{\"outlinewidth\":0,\"ticks\":\"\"},\"colorscale\":[[0.0,\"#0d0887\"],[0.1111111111111111,\"#46039f\"],[0.2222222222222222,\"#7201a8\"],[0.3333333333333333,\"#9c179e\"],[0.4444444444444444,\"#bd3786\"],[0.5555555555555556,\"#d8576b\"],[0.6666666666666666,\"#ed7953\"],[0.7777777777777778,\"#fb9f3a\"],[0.8888888888888888,\"#fdca26\"],[1.0,\"#f0f921\"]],\"type\":\"surface\"}],\"table\":[{\"cells\":{\"fill\":{\"color\":\"#EBF0F8\"},\"line\":{\"color\":\"white\"}},\"header\":{\"fill\":{\"color\":\"#C8D4E3\"},\"line\":{\"color\":\"white\"}},\"type\":\"table\"}]},\"layout\":{\"annotationdefaults\":{\"arrowcolor\":\"#2a3f5f\",\"arrowhead\":0,\"arrowwidth\":1},\"autotypenumbers\":\"strict\",\"coloraxis\":{\"colorbar\":{\"outlinewidth\":0,\"ticks\":\"\"}},\"colorscale\":{\"diverging\":[[0,\"#8e0152\"],[0.1,\"#c51b7d\"],[0.2,\"#de77ae\"],[0.3,\"#f1b6da\"],[0.4,\"#fde0ef\"],[0.5,\"#f7f7f7\"],[0.6,\"#e6f5d0\"],[0.7,\"#b8e186\"],[0.8,\"#7fbc41\"],[0.9,\"#4d9221\"],[1,\"#276419\"]],\"sequential\":[[0.0,\"#0d0887\"],[0.1111111111111111,\"#46039f\"],[0.2222222222222222,\"#7201a8\"],[0.3333333333333333,\"#9c179e\"],[0.4444444444444444,\"#bd3786\"],[0.5555555555555556,\"#d8576b\"],[0.6666666666666666,\"#ed7953\"],[0.7777777777777778,\"#fb9f3a\"],[0.8888888888888888,\"#fdca26\"],[1.0,\"#f0f921\"]],\"sequentialminus\":[[0.0,\"#0d0887\"],[0.1111111111111111,\"#46039f\"],[0.2222222222222222,\"#7201a8\"],[0.3333333333333333,\"#9c179e\"],[0.4444444444444444,\"#bd3786\"],[0.5555555555555556,\"#d8576b\"],[0.6666666666666666,\"#ed7953\"],[0.7777777777777778,\"#fb9f3a\"],[0.8888888888888888,\"#fdca26\"],[1.0,\"#f0f921\"]]},\"colorway\":[\"#636efa\",\"#EF553B\",\"#00cc96\",\"#ab63fa\",\"#FFA15A\",\"#19d3f3\",\"#FF6692\",\"#B6E880\",\"#FF97FF\",\"#FECB52\"],\"font\":{\"color\":\"#2a3f5f\"},\"geo\":{\"bgcolor\":\"white\",\"lakecolor\":\"white\",\"landcolor\":\"#E5ECF6\",\"showlakes\":true,\"showland\":true,\"subunitcolor\":\"white\"},\"hoverlabel\":{\"align\":\"left\"},\"hovermode\":\"closest\",\"mapbox\":{\"style\":\"light\"},\"paper_bgcolor\":\"white\",\"plot_bgcolor\":\"#E5ECF6\",\"polar\":{\"angularaxis\":{\"gridcolor\":\"white\",\"linecolor\":\"white\",\"ticks\":\"\"},\"bgcolor\":\"#E5ECF6\",\"radialaxis\":{\"gridcolor\":\"white\",\"linecolor\":\"white\",\"ticks\":\"\"}},\"scene\":{\"xaxis\":{\"backgroundcolor\":\"#E5ECF6\",\"gridcolor\":\"white\",\"gridwidth\":2,\"linecolor\":\"white\",\"showbackground\":true,\"ticks\":\"\",\"zerolinecolor\":\"white\"},\"yaxis\":{\"backgroundcolor\":\"#E5ECF6\",\"gridcolor\":\"white\",\"gridwidth\":2,\"linecolor\":\"white\",\"showbackground\":true,\"ticks\":\"\",\"zerolinecolor\":\"white\"},\"zaxis\":{\"backgroundcolor\":\"#E5ECF6\",\"gridcolor\":\"white\",\"gridwidth\":2,\"linecolor\":\"white\",\"showbackground\":true,\"ticks\":\"\",\"zerolinecolor\":\"white\"}},\"shapedefaults\":{\"line\":{\"color\":\"#2a3f5f\"}},\"ternary\":{\"aaxis\":{\"gridcolor\":\"white\",\"linecolor\":\"white\",\"ticks\":\"\"},\"baxis\":{\"gridcolor\":\"white\",\"linecolor\":\"white\",\"ticks\":\"\"},\"bgcolor\":\"#E5ECF6\",\"caxis\":{\"gridcolor\":\"white\",\"linecolor\":\"white\",\"ticks\":\"\"}},\"title\":{\"x\":0.05},\"xaxis\":{\"automargin\":true,\"gridcolor\":\"white\",\"linecolor\":\"white\",\"ticks\":\"\",\"title\":{\"standoff\":15},\"zerolinecolor\":\"white\",\"zerolinewidth\":2},\"yaxis\":{\"automargin\":true,\"gridcolor\":\"white\",\"linecolor\":\"white\",\"ticks\":\"\",\"title\":{\"standoff\":15},\"zerolinecolor\":\"white\",\"zerolinewidth\":2}}},\"title\":{\"text\":\"Confiremd cases\",\"x\":0.5}},                        {\"responsive\": true}                    ).then(function(){\n",
       "                            \n",
       "var gd = document.getElementById('70428ffa-0f71-4ebd-b7a9-f82173fd53ab');\n",
       "var x = new MutationObserver(function (mutations, observer) {{\n",
       "        var display = window.getComputedStyle(gd).display;\n",
       "        if (!display || display === 'none') {{\n",
       "            console.log([gd, 'removed!']);\n",
       "            Plotly.purge(gd);\n",
       "            observer.disconnect();\n",
       "        }}\n",
       "}});\n",
       "\n",
       "// Listen for the removal of the full notebook cells\n",
       "var notebookContainer = gd.closest('#notebook-container');\n",
       "if (notebookContainer) {{\n",
       "    x.observe(notebookContainer, {childList: true});\n",
       "}}\n",
       "\n",
       "// Listen for the clearing of the current output cell\n",
       "var outputEl = gd.closest('.output');\n",
       "if (outputEl) {{\n",
       "    x.observe(outputEl, {childList: true});\n",
       "}}\n",
       "\n",
       "                        })                };                });            </script>        </div>"
      ]
     },
     "metadata": {},
     "output_type": "display_data"
    }
   ],
   "source": [
    "# creating the choropleth\n",
    "figure = go.Figure(data=go.Choropleth(\n",
    "    locations= dataset_countries['Country'], #coordinates\n",
    "    locationmode = 'country names', # set of locations match entries in `locations`, can use ISO-3\n",
    "    z= dataset_countries['Confirmed'], #data to be color coded\n",
    "    colorscale = 'Reds'\n",
    "))\n",
    "figure.update_layout(\n",
    "    title_text = 'Confiremd cases',\n",
    "    title_x = 0.5,\n",
    "    geo=dict(\n",
    "        showframe = False,\n",
    "        showcoastlines = False,\n",
    "        projection_type = 'equirectangular'\n",
    "    )\n",
    ")\n",
    "figure.show()"
   ]
  },
  {
   "cell_type": "code",
   "execution_count": 92,
   "id": "06b8e5fc",
   "metadata": {},
   "outputs": [
    {
     "data": {
      "application/vnd.plotly.v1+json": {
       "config": {
        "plotlyServerURL": "https://plot.ly"
       },
       "data": [
        {
         "colorscale": [
          [
           0,
           "rgb(255,245,240)"
          ],
          [
           0.125,
           "rgb(254,224,210)"
          ],
          [
           0.25,
           "rgb(252,187,161)"
          ],
          [
           0.375,
           "rgb(252,146,114)"
          ],
          [
           0.5,
           "rgb(251,106,74)"
          ],
          [
           0.625,
           "rgb(239,59,44)"
          ],
          [
           0.75,
           "rgb(203,24,29)"
          ],
          [
           0.875,
           "rgb(165,15,21)"
          ],
          [
           1,
           "rgb(103,0,13)"
          ]
         ],
         "locationmode": "country names",
         "locations": [
          "Chile",
          "Laos",
          "India",
          "Samoa",
          "Vanuatu",
          "Namibia",
          "Bangladesh",
          "Sudan",
          "South Africa",
          "Chad",
          "Sri Lanka",
          "Estonia",
          "MS Zaandam",
          "Czech Republic",
          "Panama",
          "Bosnia and Herzegovina",
          "Israel",
          "Guatemala",
          "Saudi Arabia",
          "Timor-Leste",
          "Slovenia",
          "Cyprus",
          "Ethiopia",
          "Taiwan",
          "Comoros",
          "South Korea",
          "Qatar",
          "Cameroon",
          "West Bank and Gaza",
          "Holy See",
          "UK",
          "Azerbaijan",
          "Peru",
          "Kosovo",
          "El Salvador",
          "Spain",
          "Burma",
          "Mali",
          "US",
          "Australia",
          "Liechtenstein",
          "Hong Kong",
          "Mexico",
          "South Sudan",
          "Mauritius",
          "Belize",
          "Costa Rica",
          "Oman",
          "Mongolia",
          "Dominica",
          "Nicaragua",
          "Algeria",
          "Antigua and Barbuda",
          "France",
          "Haiti",
          "Mozambique",
          "Guinea",
          "Hungary",
          "Cabo Verde",
          "San Marino",
          "Congo (Kinshasa)",
          "Jamaica",
          "Rwanda",
          "Marshall Islands",
          "Somalia",
          "Tajikistan",
          "Djibouti",
          "Switzerland",
          "Latvia",
          "Iran",
          "Niger",
          "Uruguay",
          "Albania",
          "Bahrain",
          "Seychelles",
          "Maldives",
          "Trinidad and Tobago",
          "Moldova",
          "Romania",
          "Finland",
          "Austria",
          "Libya",
          "Venezuela",
          "Germany",
          "Kenya",
          "Italy",
          "Cambodia",
          "Nepal",
          "United Arab Emirates",
          "Canada",
          "Paraguay",
          "Russia",
          "Saint Lucia",
          "Slovakia",
          "Benin",
          "Belgium",
          "Sierra Leone",
          "Andorra",
          "Luxembourg",
          "Suriname",
          "Dominican Republic",
          "Botswana",
          "Portugal",
          "Ivory Coast",
          "Sao Tome and Principe",
          "Philippines",
          "Lithuania",
          "Togo",
          "Burkina Faso",
          "Iraq",
          "Ghana",
          "Macau",
          "Saint Vincent and the Grenadines",
          "Singapore",
          "Congo (Brazzaville)",
          "Denmark",
          "Lesotho",
          "Montenegro",
          "Greece",
          "Ecuador",
          "Central African Republic",
          "Gambia",
          "Guyana",
          "Jordan",
          "Diamond Princess",
          "Croatia",
          "Egypt",
          "Guinea-Bissau",
          "Morocco",
          "Zimbabwe",
          "Burundi",
          "Malta",
          "Brazil",
          "Turkey",
          "Norway",
          "Solomon Islands",
          "Equatorial Guinea",
          "Mainland China",
          "Tanzania",
          "Saint Kitts and Nevis",
          "Netherlands",
          "New Zealand",
          "Argentina",
          "Pakistan",
          "Madagascar",
          "Iceland",
          "Kuwait",
          "Indonesia",
          "Belarus",
          "Japan",
          "Kazakhstan",
          "Honduras",
          "Eritrea",
          "Angola",
          "Sweden",
          "Bhutan",
          "Ireland",
          "Vietnam",
          "Barbados",
          "Serbia",
          "Uzbekistan",
          "Gabon",
          "North Macedonia",
          "Senegal",
          "Cuba",
          "Thailand",
          "Zambia",
          "Papua New Guinea",
          "Monaco",
          "Grenada",
          "Nigeria",
          "Lebanon",
          "Fiji",
          "Brunei",
          "Liberia",
          "Bulgaria",
          "Bolivia",
          "Malaysia",
          "Eswatini",
          "Bahamas",
          "Kyrgyzstan",
          "Malawi",
          "Uganda",
          "Armenia",
          "Mauritania",
          "Yemen",
          "Poland",
          "Georgia",
          "Colombia",
          "Syria",
          "Tunisia",
          "Ukraine",
          "Afghanistan",
          "Micronesia",
          "Others",
          "East Timor",
          "Martinique",
          "Cape Verde",
          "Reunion",
          "Gambia, The",
          "Bahamas, The",
          "Mayotte",
          "French Guiana",
          "Guadeloupe",
          "Aruba",
          "Curacao",
          "Cayman Islands",
          "Channel Islands",
          "Faroe Islands",
          "Saint Barthelemy",
          "Gibraltar",
          "('St. Martin',)",
          "St. Martin",
          "Vatican City",
          "Palestine",
          "Republic of Ireland",
          " Azerbaijan",
          "North Ireland"
         ],
         "type": "choropleth",
         "z": [
          16608,
          0,
          148738,
          0,
          0,
          205,
          7559,
          1468,
          28469,
          104,
          204,
          229,
          2,
          11580,
          4022,
          4050,
          3325,
          4813,
          6223,
          0,
          2697,
          119,
          1923,
          7,
          10,
          917,
          245,
          448,
          1400,
          0,
          73622,
          2641,
          37680,
          1332,
          1327,
          50837,
          2682,
          269,
          352163,
          909,
          39,
          148,
          125807,
          63,
          10,
          248,
          2185,
          1499,
          1,
          0,
          165,
          2756,
          5,
          64759,
          236,
          166,
          81,
          9537,
          113,
          59,
          591,
          302,
          92,
          0,
          130,
          90,
          61,
          7645,
          635,
          55223,
          104,
          181,
          1181,
          352,
          0,
          48,
          127,
          2985,
          15767,
          561,
          6222,
          1478,
          1028,
          33791,
          1670,
          74159,
          0,
          1856,
          669,
          15762,
          2262,
          56271,
          5,
          2138,
          44,
          19528,
          76,
          84,
          495,
          122,
          2414,
          42,
          6906,
          137,
          17,
          9244,
          1796,
          68,
          85,
          12813,
          335,
          0,
          0,
          29,
          108,
          1298,
          51,
          682,
          4838,
          14034,
          63,
          124,
          164,
          3834,
          13,
          3920,
          7631,
          45,
          7388,
          363,
          2,
          219,
          194949,
          20881,
          436,
          0,
          86,
          4634,
          21,
          0,
          11525,
          25,
          43245,
          10176,
          261,
          29,
          934,
          22138,
          1424,
          3292,
          2761,
          3130,
          3,
          405,
          8727,
          0,
          2237,
          35,
          7,
          3211,
          614,
          64,
          2503,
          410,
          146,
          63,
          388,
          9,
          3,
          0,
          1289,
          1468,
          2,
          3,
          83,
          7576,
          9165,
          471,
          205,
          170,
          1355,
          189,
          251,
          2823,
          347,
          610,
          28554,
          2505,
          43213,
          711,
          4676,
          19281,
          2191,
          0,
          8,
          0,
          1,
          0,
          0,
          0,
          0,
          0,
          0,
          0,
          0,
          0,
          0,
          0,
          0,
          0,
          0,
          0,
          0,
          0,
          0,
          0,
          0,
          0
         ]
        }
       ],
       "layout": {
        "geo": {
         "scope": "world",
         "showcoastlines": false,
         "showframe": false
        },
        "template": {
         "data": {
          "bar": [
           {
            "error_x": {
             "color": "#2a3f5f"
            },
            "error_y": {
             "color": "#2a3f5f"
            },
            "marker": {
             "line": {
              "color": "#E5ECF6",
              "width": 0.5
             },
             "pattern": {
              "fillmode": "overlay",
              "size": 10,
              "solidity": 0.2
             }
            },
            "type": "bar"
           }
          ],
          "barpolar": [
           {
            "marker": {
             "line": {
              "color": "#E5ECF6",
              "width": 0.5
             },
             "pattern": {
              "fillmode": "overlay",
              "size": 10,
              "solidity": 0.2
             }
            },
            "type": "barpolar"
           }
          ],
          "carpet": [
           {
            "aaxis": {
             "endlinecolor": "#2a3f5f",
             "gridcolor": "white",
             "linecolor": "white",
             "minorgridcolor": "white",
             "startlinecolor": "#2a3f5f"
            },
            "baxis": {
             "endlinecolor": "#2a3f5f",
             "gridcolor": "white",
             "linecolor": "white",
             "minorgridcolor": "white",
             "startlinecolor": "#2a3f5f"
            },
            "type": "carpet"
           }
          ],
          "choropleth": [
           {
            "colorbar": {
             "outlinewidth": 0,
             "ticks": ""
            },
            "type": "choropleth"
           }
          ],
          "contour": [
           {
            "colorbar": {
             "outlinewidth": 0,
             "ticks": ""
            },
            "colorscale": [
             [
              0,
              "#0d0887"
             ],
             [
              0.1111111111111111,
              "#46039f"
             ],
             [
              0.2222222222222222,
              "#7201a8"
             ],
             [
              0.3333333333333333,
              "#9c179e"
             ],
             [
              0.4444444444444444,
              "#bd3786"
             ],
             [
              0.5555555555555556,
              "#d8576b"
             ],
             [
              0.6666666666666666,
              "#ed7953"
             ],
             [
              0.7777777777777778,
              "#fb9f3a"
             ],
             [
              0.8888888888888888,
              "#fdca26"
             ],
             [
              1,
              "#f0f921"
             ]
            ],
            "type": "contour"
           }
          ],
          "contourcarpet": [
           {
            "colorbar": {
             "outlinewidth": 0,
             "ticks": ""
            },
            "type": "contourcarpet"
           }
          ],
          "heatmap": [
           {
            "colorbar": {
             "outlinewidth": 0,
             "ticks": ""
            },
            "colorscale": [
             [
              0,
              "#0d0887"
             ],
             [
              0.1111111111111111,
              "#46039f"
             ],
             [
              0.2222222222222222,
              "#7201a8"
             ],
             [
              0.3333333333333333,
              "#9c179e"
             ],
             [
              0.4444444444444444,
              "#bd3786"
             ],
             [
              0.5555555555555556,
              "#d8576b"
             ],
             [
              0.6666666666666666,
              "#ed7953"
             ],
             [
              0.7777777777777778,
              "#fb9f3a"
             ],
             [
              0.8888888888888888,
              "#fdca26"
             ],
             [
              1,
              "#f0f921"
             ]
            ],
            "type": "heatmap"
           }
          ],
          "heatmapgl": [
           {
            "colorbar": {
             "outlinewidth": 0,
             "ticks": ""
            },
            "colorscale": [
             [
              0,
              "#0d0887"
             ],
             [
              0.1111111111111111,
              "#46039f"
             ],
             [
              0.2222222222222222,
              "#7201a8"
             ],
             [
              0.3333333333333333,
              "#9c179e"
             ],
             [
              0.4444444444444444,
              "#bd3786"
             ],
             [
              0.5555555555555556,
              "#d8576b"
             ],
             [
              0.6666666666666666,
              "#ed7953"
             ],
             [
              0.7777777777777778,
              "#fb9f3a"
             ],
             [
              0.8888888888888888,
              "#fdca26"
             ],
             [
              1,
              "#f0f921"
             ]
            ],
            "type": "heatmapgl"
           }
          ],
          "histogram": [
           {
            "marker": {
             "pattern": {
              "fillmode": "overlay",
              "size": 10,
              "solidity": 0.2
             }
            },
            "type": "histogram"
           }
          ],
          "histogram2d": [
           {
            "colorbar": {
             "outlinewidth": 0,
             "ticks": ""
            },
            "colorscale": [
             [
              0,
              "#0d0887"
             ],
             [
              0.1111111111111111,
              "#46039f"
             ],
             [
              0.2222222222222222,
              "#7201a8"
             ],
             [
              0.3333333333333333,
              "#9c179e"
             ],
             [
              0.4444444444444444,
              "#bd3786"
             ],
             [
              0.5555555555555556,
              "#d8576b"
             ],
             [
              0.6666666666666666,
              "#ed7953"
             ],
             [
              0.7777777777777778,
              "#fb9f3a"
             ],
             [
              0.8888888888888888,
              "#fdca26"
             ],
             [
              1,
              "#f0f921"
             ]
            ],
            "type": "histogram2d"
           }
          ],
          "histogram2dcontour": [
           {
            "colorbar": {
             "outlinewidth": 0,
             "ticks": ""
            },
            "colorscale": [
             [
              0,
              "#0d0887"
             ],
             [
              0.1111111111111111,
              "#46039f"
             ],
             [
              0.2222222222222222,
              "#7201a8"
             ],
             [
              0.3333333333333333,
              "#9c179e"
             ],
             [
              0.4444444444444444,
              "#bd3786"
             ],
             [
              0.5555555555555556,
              "#d8576b"
             ],
             [
              0.6666666666666666,
              "#ed7953"
             ],
             [
              0.7777777777777778,
              "#fb9f3a"
             ],
             [
              0.8888888888888888,
              "#fdca26"
             ],
             [
              1,
              "#f0f921"
             ]
            ],
            "type": "histogram2dcontour"
           }
          ],
          "mesh3d": [
           {
            "colorbar": {
             "outlinewidth": 0,
             "ticks": ""
            },
            "type": "mesh3d"
           }
          ],
          "parcoords": [
           {
            "line": {
             "colorbar": {
              "outlinewidth": 0,
              "ticks": ""
             }
            },
            "type": "parcoords"
           }
          ],
          "pie": [
           {
            "automargin": true,
            "type": "pie"
           }
          ],
          "scatter": [
           {
            "marker": {
             "colorbar": {
              "outlinewidth": 0,
              "ticks": ""
             }
            },
            "type": "scatter"
           }
          ],
          "scatter3d": [
           {
            "line": {
             "colorbar": {
              "outlinewidth": 0,
              "ticks": ""
             }
            },
            "marker": {
             "colorbar": {
              "outlinewidth": 0,
              "ticks": ""
             }
            },
            "type": "scatter3d"
           }
          ],
          "scattercarpet": [
           {
            "marker": {
             "colorbar": {
              "outlinewidth": 0,
              "ticks": ""
             }
            },
            "type": "scattercarpet"
           }
          ],
          "scattergeo": [
           {
            "marker": {
             "colorbar": {
              "outlinewidth": 0,
              "ticks": ""
             }
            },
            "type": "scattergeo"
           }
          ],
          "scattergl": [
           {
            "marker": {
             "colorbar": {
              "outlinewidth": 0,
              "ticks": ""
             }
            },
            "type": "scattergl"
           }
          ],
          "scattermapbox": [
           {
            "marker": {
             "colorbar": {
              "outlinewidth": 0,
              "ticks": ""
             }
            },
            "type": "scattermapbox"
           }
          ],
          "scatterpolar": [
           {
            "marker": {
             "colorbar": {
              "outlinewidth": 0,
              "ticks": ""
             }
            },
            "type": "scatterpolar"
           }
          ],
          "scatterpolargl": [
           {
            "marker": {
             "colorbar": {
              "outlinewidth": 0,
              "ticks": ""
             }
            },
            "type": "scatterpolargl"
           }
          ],
          "scatterternary": [
           {
            "marker": {
             "colorbar": {
              "outlinewidth": 0,
              "ticks": ""
             }
            },
            "type": "scatterternary"
           }
          ],
          "surface": [
           {
            "colorbar": {
             "outlinewidth": 0,
             "ticks": ""
            },
            "colorscale": [
             [
              0,
              "#0d0887"
             ],
             [
              0.1111111111111111,
              "#46039f"
             ],
             [
              0.2222222222222222,
              "#7201a8"
             ],
             [
              0.3333333333333333,
              "#9c179e"
             ],
             [
              0.4444444444444444,
              "#bd3786"
             ],
             [
              0.5555555555555556,
              "#d8576b"
             ],
             [
              0.6666666666666666,
              "#ed7953"
             ],
             [
              0.7777777777777778,
              "#fb9f3a"
             ],
             [
              0.8888888888888888,
              "#fdca26"
             ],
             [
              1,
              "#f0f921"
             ]
            ],
            "type": "surface"
           }
          ],
          "table": [
           {
            "cells": {
             "fill": {
              "color": "#EBF0F8"
             },
             "line": {
              "color": "white"
             }
            },
            "header": {
             "fill": {
              "color": "#C8D4E3"
             },
             "line": {
              "color": "white"
             }
            },
            "type": "table"
           }
          ]
         },
         "layout": {
          "annotationdefaults": {
           "arrowcolor": "#2a3f5f",
           "arrowhead": 0,
           "arrowwidth": 1
          },
          "autotypenumbers": "strict",
          "coloraxis": {
           "colorbar": {
            "outlinewidth": 0,
            "ticks": ""
           }
          },
          "colorscale": {
           "diverging": [
            [
             0,
             "#8e0152"
            ],
            [
             0.1,
             "#c51b7d"
            ],
            [
             0.2,
             "#de77ae"
            ],
            [
             0.3,
             "#f1b6da"
            ],
            [
             0.4,
             "#fde0ef"
            ],
            [
             0.5,
             "#f7f7f7"
            ],
            [
             0.6,
             "#e6f5d0"
            ],
            [
             0.7,
             "#b8e186"
            ],
            [
             0.8,
             "#7fbc41"
            ],
            [
             0.9,
             "#4d9221"
            ],
            [
             1,
             "#276419"
            ]
           ],
           "sequential": [
            [
             0,
             "#0d0887"
            ],
            [
             0.1111111111111111,
             "#46039f"
            ],
            [
             0.2222222222222222,
             "#7201a8"
            ],
            [
             0.3333333333333333,
             "#9c179e"
            ],
            [
             0.4444444444444444,
             "#bd3786"
            ],
            [
             0.5555555555555556,
             "#d8576b"
            ],
            [
             0.6666666666666666,
             "#ed7953"
            ],
            [
             0.7777777777777778,
             "#fb9f3a"
            ],
            [
             0.8888888888888888,
             "#fdca26"
            ],
            [
             1,
             "#f0f921"
            ]
           ],
           "sequentialminus": [
            [
             0,
             "#0d0887"
            ],
            [
             0.1111111111111111,
             "#46039f"
            ],
            [
             0.2222222222222222,
             "#7201a8"
            ],
            [
             0.3333333333333333,
             "#9c179e"
            ],
            [
             0.4444444444444444,
             "#bd3786"
            ],
            [
             0.5555555555555556,
             "#d8576b"
            ],
            [
             0.6666666666666666,
             "#ed7953"
            ],
            [
             0.7777777777777778,
             "#fb9f3a"
            ],
            [
             0.8888888888888888,
             "#fdca26"
            ],
            [
             1,
             "#f0f921"
            ]
           ]
          },
          "colorway": [
           "#636efa",
           "#EF553B",
           "#00cc96",
           "#ab63fa",
           "#FFA15A",
           "#19d3f3",
           "#FF6692",
           "#B6E880",
           "#FF97FF",
           "#FECB52"
          ],
          "font": {
           "color": "#2a3f5f"
          },
          "geo": {
           "bgcolor": "white",
           "lakecolor": "white",
           "landcolor": "#E5ECF6",
           "showlakes": true,
           "showland": true,
           "subunitcolor": "white"
          },
          "hoverlabel": {
           "align": "left"
          },
          "hovermode": "closest",
          "mapbox": {
           "style": "light"
          },
          "paper_bgcolor": "white",
          "plot_bgcolor": "#E5ECF6",
          "polar": {
           "angularaxis": {
            "gridcolor": "white",
            "linecolor": "white",
            "ticks": ""
           },
           "bgcolor": "#E5ECF6",
           "radialaxis": {
            "gridcolor": "white",
            "linecolor": "white",
            "ticks": ""
           }
          },
          "scene": {
           "xaxis": {
            "backgroundcolor": "#E5ECF6",
            "gridcolor": "white",
            "gridwidth": 2,
            "linecolor": "white",
            "showbackground": true,
            "ticks": "",
            "zerolinecolor": "white"
           },
           "yaxis": {
            "backgroundcolor": "#E5ECF6",
            "gridcolor": "white",
            "gridwidth": 2,
            "linecolor": "white",
            "showbackground": true,
            "ticks": "",
            "zerolinecolor": "white"
           },
           "zaxis": {
            "backgroundcolor": "#E5ECF6",
            "gridcolor": "white",
            "gridwidth": 2,
            "linecolor": "white",
            "showbackground": true,
            "ticks": "",
            "zerolinecolor": "white"
           }
          },
          "shapedefaults": {
           "line": {
            "color": "#2a3f5f"
           }
          },
          "ternary": {
           "aaxis": {
            "gridcolor": "white",
            "linecolor": "white",
            "ticks": ""
           },
           "baxis": {
            "gridcolor": "white",
            "linecolor": "white",
            "ticks": ""
           },
           "bgcolor": "#E5ECF6",
           "caxis": {
            "gridcolor": "white",
            "linecolor": "white",
            "ticks": ""
           }
          },
          "title": {
           "x": 0.05
          },
          "xaxis": {
           "automargin": true,
           "gridcolor": "white",
           "linecolor": "white",
           "ticks": "",
           "title": {
            "standoff": 15
           },
           "zerolinecolor": "white",
           "zerolinewidth": 2
          },
          "yaxis": {
           "automargin": true,
           "gridcolor": "white",
           "linecolor": "white",
           "ticks": "",
           "title": {
            "standoff": 15
           },
           "zerolinecolor": "white",
           "zerolinewidth": 2
          }
         }
        },
        "title": {
         "text": "Deaths in world",
         "x": 0.5
        }
       }
      },
      "text/html": [
       "<div>                            <div id=\"524e27a0-8e57-4193-a336-c3308f454767\" class=\"plotly-graph-div\" style=\"height:525px; width:100%;\"></div>            <script type=\"text/javascript\">                require([\"plotly\"], function(Plotly) {                    window.PLOTLYENV=window.PLOTLYENV || {};                                    if (document.getElementById(\"524e27a0-8e57-4193-a336-c3308f454767\")) {                    Plotly.newPlot(                        \"524e27a0-8e57-4193-a336-c3308f454767\",                        [{\"colorscale\":[[0.0,\"rgb(255,245,240)\"],[0.125,\"rgb(254,224,210)\"],[0.25,\"rgb(252,187,161)\"],[0.375,\"rgb(252,146,114)\"],[0.5,\"rgb(251,106,74)\"],[0.625,\"rgb(239,59,44)\"],[0.75,\"rgb(203,24,29)\"],[0.875,\"rgb(165,15,21)\"],[1.0,\"rgb(103,0,13)\"]],\"locationmode\":\"country names\",\"locations\":[\"Chile\",\"Laos\",\"India\",\"Samoa\",\"Vanuatu\",\"Namibia\",\"Bangladesh\",\"Sudan\",\"South Africa\",\"Chad\",\"Sri Lanka\",\"Estonia\",\"MS Zaandam\",\"Czech Republic\",\"Panama\",\"Bosnia and Herzegovina\",\"Israel\",\"Guatemala\",\"Saudi Arabia\",\"Timor-Leste\",\"Slovenia\",\"Cyprus\",\"Ethiopia\",\"Taiwan\",\"Comoros\",\"South Korea\",\"Qatar\",\"Cameroon\",\"West Bank and Gaza\",\"Holy See\",\"UK\",\"Azerbaijan\",\"Peru\",\"Kosovo\",\"El Salvador\",\"Spain\",\"Burma\",\"Mali\",\"US\",\"Australia\",\"Liechtenstein\",\"Hong Kong\",\"Mexico\",\"South Sudan\",\"Mauritius\",\"Belize\",\"Costa Rica\",\"Oman\",\"Mongolia\",\"Dominica\",\"Nicaragua\",\"Algeria\",\"Antigua and Barbuda\",\"France\",\"Haiti\",\"Mozambique\",\"Guinea\",\"Hungary\",\"Cabo Verde\",\"San Marino\",\"Congo (Kinshasa)\",\"Jamaica\",\"Rwanda\",\"Marshall Islands\",\"Somalia\",\"Tajikistan\",\"Djibouti\",\"Switzerland\",\"Latvia\",\"Iran\",\"Niger\",\"Uruguay\",\"Albania\",\"Bahrain\",\"Seychelles\",\"Maldives\",\"Trinidad and Tobago\",\"Moldova\",\"Romania\",\"Finland\",\"Austria\",\"Libya\",\"Venezuela\",\"Germany\",\"Kenya\",\"Italy\",\"Cambodia\",\"Nepal\",\"United Arab Emirates\",\"Canada\",\"Paraguay\",\"Russia\",\"Saint Lucia\",\"Slovakia\",\"Benin\",\"Belgium\",\"Sierra Leone\",\"Andorra\",\"Luxembourg\",\"Suriname\",\"Dominican Republic\",\"Botswana\",\"Portugal\",\"Ivory Coast\",\"Sao Tome and Principe\",\"Philippines\",\"Lithuania\",\"Togo\",\"Burkina Faso\",\"Iraq\",\"Ghana\",\"Macau\",\"Saint Vincent and the Grenadines\",\"Singapore\",\"Congo (Brazzaville)\",\"Denmark\",\"Lesotho\",\"Montenegro\",\"Greece\",\"Ecuador\",\"Central African Republic\",\"Gambia\",\"Guyana\",\"Jordan\",\"Diamond Princess\",\"Croatia\",\"Egypt\",\"Guinea-Bissau\",\"Morocco\",\"Zimbabwe\",\"Burundi\",\"Malta\",\"Brazil\",\"Turkey\",\"Norway\",\"Solomon Islands\",\"Equatorial Guinea\",\"Mainland China\",\"Tanzania\",\"Saint Kitts and Nevis\",\"Netherlands\",\"New Zealand\",\"Argentina\",\"Pakistan\",\"Madagascar\",\"Iceland\",\"Kuwait\",\"Indonesia\",\"Belarus\",\"Japan\",\"Kazakhstan\",\"Honduras\",\"Eritrea\",\"Angola\",\"Sweden\",\"Bhutan\",\"Ireland\",\"Vietnam\",\"Barbados\",\"Serbia\",\"Uzbekistan\",\"Gabon\",\"North Macedonia\",\"Senegal\",\"Cuba\",\"Thailand\",\"Zambia\",\"Papua New Guinea\",\"Monaco\",\"Grenada\",\"Nigeria\",\"Lebanon\",\"Fiji\",\"Brunei\",\"Liberia\",\"Bulgaria\",\"Bolivia\",\"Malaysia\",\"Eswatini\",\"Bahamas\",\"Kyrgyzstan\",\"Malawi\",\"Uganda\",\"Armenia\",\"Mauritania\",\"Yemen\",\"Poland\",\"Georgia\",\"Colombia\",\"Syria\",\"Tunisia\",\"Ukraine\",\"Afghanistan\",\"Micronesia\",\"Others\",\"East Timor\",\"Martinique\",\"Cape Verde\",\"Reunion\",\"Gambia, The\",\"Bahamas, The\",\"Mayotte\",\"French Guiana\",\"Guadeloupe\",\"Aruba\",\"Curacao\",\"Cayman Islands\",\"Channel Islands\",\"Faroe Islands\",\"Saint Barthelemy\",\"Gibraltar\",\"('St. Martin',)\",\"St. Martin\",\"Vatican City\",\"Palestine\",\"Republic of Ireland\",\" Azerbaijan\",\"North Ireland\"],\"type\":\"choropleth\",\"z\":[16608.0,0.0,148738.0,0.0,0.0,205.0,7559.0,1468.0,28469.0,104.0,204.0,229.0,2.0,11580.0,4022.0,4050.0,3325.0,4813.0,6223.0,0.0,2697.0,119.0,1923.0,7.0,10.0,917.0,245.0,448.0,1400.0,0.0,73622.0,2641.0,37680.0,1332.0,1327.0,50837.0,2682.0,269.0,352163.0,909.0,39.0,148.0,125807.0,63.0,10.0,248.0,2185.0,1499.0,1.0,0.0,165.0,2756.0,5.0,64759.0,236.0,166.0,81.0,9537.0,113.0,59.0,591.0,302.0,92.0,0.0,130.0,90.0,61.0,7645.0,635.0,55223.0,104.0,181.0,1181.0,352.0,0.0,48.0,127.0,2985.0,15767.0,561.0,6222.0,1478.0,1028.0,33791.0,1670.0,74159.0,0.0,1856.0,669.0,15762.0,2262.0,56271.0,5.0,2138.0,44.0,19528.0,76.0,84.0,495.0,122.0,2414.0,42.0,6906.0,137.0,17.0,9244.0,1796.0,68.0,85.0,12813.0,335.0,0.0,0.0,29.0,108.0,1298.0,51.0,682.0,4838.0,14034.0,63.0,124.0,164.0,3834.0,13.0,3920.0,7631.0,45.0,7388.0,363.0,2.0,219.0,194949.0,20881.0,436.0,0.0,86.0,4634.0,21.0,0.0,11525.0,25.0,43245.0,10176.0,261.0,29.0,934.0,22138.0,1424.0,3292.0,2761.0,3130.0,3.0,405.0,8727.0,0.0,2237.0,35.0,7.0,3211.0,614.0,64.0,2503.0,410.0,146.0,63.0,388.0,9.0,3.0,0.0,1289.0,1468.0,2.0,3.0,83.0,7576.0,9165.0,471.0,205.0,170.0,1355.0,189.0,251.0,2823.0,347.0,610.0,28554.0,2505.0,43213.0,711.0,4676.0,19281.0,2191.0,0.0,8.0,0.0,1.0,0.0,0.0,0.0,0.0,0.0,0.0,0.0,0.0,0.0,0.0,0.0,0.0,0.0,0.0,0.0,0.0,0.0,0.0,0.0,0.0,0.0]}],                        {\"geo\":{\"scope\":\"world\",\"showcoastlines\":false,\"showframe\":false},\"template\":{\"data\":{\"bar\":[{\"error_x\":{\"color\":\"#2a3f5f\"},\"error_y\":{\"color\":\"#2a3f5f\"},\"marker\":{\"line\":{\"color\":\"#E5ECF6\",\"width\":0.5},\"pattern\":{\"fillmode\":\"overlay\",\"size\":10,\"solidity\":0.2}},\"type\":\"bar\"}],\"barpolar\":[{\"marker\":{\"line\":{\"color\":\"#E5ECF6\",\"width\":0.5},\"pattern\":{\"fillmode\":\"overlay\",\"size\":10,\"solidity\":0.2}},\"type\":\"barpolar\"}],\"carpet\":[{\"aaxis\":{\"endlinecolor\":\"#2a3f5f\",\"gridcolor\":\"white\",\"linecolor\":\"white\",\"minorgridcolor\":\"white\",\"startlinecolor\":\"#2a3f5f\"},\"baxis\":{\"endlinecolor\":\"#2a3f5f\",\"gridcolor\":\"white\",\"linecolor\":\"white\",\"minorgridcolor\":\"white\",\"startlinecolor\":\"#2a3f5f\"},\"type\":\"carpet\"}],\"choropleth\":[{\"colorbar\":{\"outlinewidth\":0,\"ticks\":\"\"},\"type\":\"choropleth\"}],\"contour\":[{\"colorbar\":{\"outlinewidth\":0,\"ticks\":\"\"},\"colorscale\":[[0.0,\"#0d0887\"],[0.1111111111111111,\"#46039f\"],[0.2222222222222222,\"#7201a8\"],[0.3333333333333333,\"#9c179e\"],[0.4444444444444444,\"#bd3786\"],[0.5555555555555556,\"#d8576b\"],[0.6666666666666666,\"#ed7953\"],[0.7777777777777778,\"#fb9f3a\"],[0.8888888888888888,\"#fdca26\"],[1.0,\"#f0f921\"]],\"type\":\"contour\"}],\"contourcarpet\":[{\"colorbar\":{\"outlinewidth\":0,\"ticks\":\"\"},\"type\":\"contourcarpet\"}],\"heatmap\":[{\"colorbar\":{\"outlinewidth\":0,\"ticks\":\"\"},\"colorscale\":[[0.0,\"#0d0887\"],[0.1111111111111111,\"#46039f\"],[0.2222222222222222,\"#7201a8\"],[0.3333333333333333,\"#9c179e\"],[0.4444444444444444,\"#bd3786\"],[0.5555555555555556,\"#d8576b\"],[0.6666666666666666,\"#ed7953\"],[0.7777777777777778,\"#fb9f3a\"],[0.8888888888888888,\"#fdca26\"],[1.0,\"#f0f921\"]],\"type\":\"heatmap\"}],\"heatmapgl\":[{\"colorbar\":{\"outlinewidth\":0,\"ticks\":\"\"},\"colorscale\":[[0.0,\"#0d0887\"],[0.1111111111111111,\"#46039f\"],[0.2222222222222222,\"#7201a8\"],[0.3333333333333333,\"#9c179e\"],[0.4444444444444444,\"#bd3786\"],[0.5555555555555556,\"#d8576b\"],[0.6666666666666666,\"#ed7953\"],[0.7777777777777778,\"#fb9f3a\"],[0.8888888888888888,\"#fdca26\"],[1.0,\"#f0f921\"]],\"type\":\"heatmapgl\"}],\"histogram\":[{\"marker\":{\"pattern\":{\"fillmode\":\"overlay\",\"size\":10,\"solidity\":0.2}},\"type\":\"histogram\"}],\"histogram2d\":[{\"colorbar\":{\"outlinewidth\":0,\"ticks\":\"\"},\"colorscale\":[[0.0,\"#0d0887\"],[0.1111111111111111,\"#46039f\"],[0.2222222222222222,\"#7201a8\"],[0.3333333333333333,\"#9c179e\"],[0.4444444444444444,\"#bd3786\"],[0.5555555555555556,\"#d8576b\"],[0.6666666666666666,\"#ed7953\"],[0.7777777777777778,\"#fb9f3a\"],[0.8888888888888888,\"#fdca26\"],[1.0,\"#f0f921\"]],\"type\":\"histogram2d\"}],\"histogram2dcontour\":[{\"colorbar\":{\"outlinewidth\":0,\"ticks\":\"\"},\"colorscale\":[[0.0,\"#0d0887\"],[0.1111111111111111,\"#46039f\"],[0.2222222222222222,\"#7201a8\"],[0.3333333333333333,\"#9c179e\"],[0.4444444444444444,\"#bd3786\"],[0.5555555555555556,\"#d8576b\"],[0.6666666666666666,\"#ed7953\"],[0.7777777777777778,\"#fb9f3a\"],[0.8888888888888888,\"#fdca26\"],[1.0,\"#f0f921\"]],\"type\":\"histogram2dcontour\"}],\"mesh3d\":[{\"colorbar\":{\"outlinewidth\":0,\"ticks\":\"\"},\"type\":\"mesh3d\"}],\"parcoords\":[{\"line\":{\"colorbar\":{\"outlinewidth\":0,\"ticks\":\"\"}},\"type\":\"parcoords\"}],\"pie\":[{\"automargin\":true,\"type\":\"pie\"}],\"scatter\":[{\"marker\":{\"colorbar\":{\"outlinewidth\":0,\"ticks\":\"\"}},\"type\":\"scatter\"}],\"scatter3d\":[{\"line\":{\"colorbar\":{\"outlinewidth\":0,\"ticks\":\"\"}},\"marker\":{\"colorbar\":{\"outlinewidth\":0,\"ticks\":\"\"}},\"type\":\"scatter3d\"}],\"scattercarpet\":[{\"marker\":{\"colorbar\":{\"outlinewidth\":0,\"ticks\":\"\"}},\"type\":\"scattercarpet\"}],\"scattergeo\":[{\"marker\":{\"colorbar\":{\"outlinewidth\":0,\"ticks\":\"\"}},\"type\":\"scattergeo\"}],\"scattergl\":[{\"marker\":{\"colorbar\":{\"outlinewidth\":0,\"ticks\":\"\"}},\"type\":\"scattergl\"}],\"scattermapbox\":[{\"marker\":{\"colorbar\":{\"outlinewidth\":0,\"ticks\":\"\"}},\"type\":\"scattermapbox\"}],\"scatterpolar\":[{\"marker\":{\"colorbar\":{\"outlinewidth\":0,\"ticks\":\"\"}},\"type\":\"scatterpolar\"}],\"scatterpolargl\":[{\"marker\":{\"colorbar\":{\"outlinewidth\":0,\"ticks\":\"\"}},\"type\":\"scatterpolargl\"}],\"scatterternary\":[{\"marker\":{\"colorbar\":{\"outlinewidth\":0,\"ticks\":\"\"}},\"type\":\"scatterternary\"}],\"surface\":[{\"colorbar\":{\"outlinewidth\":0,\"ticks\":\"\"},\"colorscale\":[[0.0,\"#0d0887\"],[0.1111111111111111,\"#46039f\"],[0.2222222222222222,\"#7201a8\"],[0.3333333333333333,\"#9c179e\"],[0.4444444444444444,\"#bd3786\"],[0.5555555555555556,\"#d8576b\"],[0.6666666666666666,\"#ed7953\"],[0.7777777777777778,\"#fb9f3a\"],[0.8888888888888888,\"#fdca26\"],[1.0,\"#f0f921\"]],\"type\":\"surface\"}],\"table\":[{\"cells\":{\"fill\":{\"color\":\"#EBF0F8\"},\"line\":{\"color\":\"white\"}},\"header\":{\"fill\":{\"color\":\"#C8D4E3\"},\"line\":{\"color\":\"white\"}},\"type\":\"table\"}]},\"layout\":{\"annotationdefaults\":{\"arrowcolor\":\"#2a3f5f\",\"arrowhead\":0,\"arrowwidth\":1},\"autotypenumbers\":\"strict\",\"coloraxis\":{\"colorbar\":{\"outlinewidth\":0,\"ticks\":\"\"}},\"colorscale\":{\"diverging\":[[0,\"#8e0152\"],[0.1,\"#c51b7d\"],[0.2,\"#de77ae\"],[0.3,\"#f1b6da\"],[0.4,\"#fde0ef\"],[0.5,\"#f7f7f7\"],[0.6,\"#e6f5d0\"],[0.7,\"#b8e186\"],[0.8,\"#7fbc41\"],[0.9,\"#4d9221\"],[1,\"#276419\"]],\"sequential\":[[0.0,\"#0d0887\"],[0.1111111111111111,\"#46039f\"],[0.2222222222222222,\"#7201a8\"],[0.3333333333333333,\"#9c179e\"],[0.4444444444444444,\"#bd3786\"],[0.5555555555555556,\"#d8576b\"],[0.6666666666666666,\"#ed7953\"],[0.7777777777777778,\"#fb9f3a\"],[0.8888888888888888,\"#fdca26\"],[1.0,\"#f0f921\"]],\"sequentialminus\":[[0.0,\"#0d0887\"],[0.1111111111111111,\"#46039f\"],[0.2222222222222222,\"#7201a8\"],[0.3333333333333333,\"#9c179e\"],[0.4444444444444444,\"#bd3786\"],[0.5555555555555556,\"#d8576b\"],[0.6666666666666666,\"#ed7953\"],[0.7777777777777778,\"#fb9f3a\"],[0.8888888888888888,\"#fdca26\"],[1.0,\"#f0f921\"]]},\"colorway\":[\"#636efa\",\"#EF553B\",\"#00cc96\",\"#ab63fa\",\"#FFA15A\",\"#19d3f3\",\"#FF6692\",\"#B6E880\",\"#FF97FF\",\"#FECB52\"],\"font\":{\"color\":\"#2a3f5f\"},\"geo\":{\"bgcolor\":\"white\",\"lakecolor\":\"white\",\"landcolor\":\"#E5ECF6\",\"showlakes\":true,\"showland\":true,\"subunitcolor\":\"white\"},\"hoverlabel\":{\"align\":\"left\"},\"hovermode\":\"closest\",\"mapbox\":{\"style\":\"light\"},\"paper_bgcolor\":\"white\",\"plot_bgcolor\":\"#E5ECF6\",\"polar\":{\"angularaxis\":{\"gridcolor\":\"white\",\"linecolor\":\"white\",\"ticks\":\"\"},\"bgcolor\":\"#E5ECF6\",\"radialaxis\":{\"gridcolor\":\"white\",\"linecolor\":\"white\",\"ticks\":\"\"}},\"scene\":{\"xaxis\":{\"backgroundcolor\":\"#E5ECF6\",\"gridcolor\":\"white\",\"gridwidth\":2,\"linecolor\":\"white\",\"showbackground\":true,\"ticks\":\"\",\"zerolinecolor\":\"white\"},\"yaxis\":{\"backgroundcolor\":\"#E5ECF6\",\"gridcolor\":\"white\",\"gridwidth\":2,\"linecolor\":\"white\",\"showbackground\":true,\"ticks\":\"\",\"zerolinecolor\":\"white\"},\"zaxis\":{\"backgroundcolor\":\"#E5ECF6\",\"gridcolor\":\"white\",\"gridwidth\":2,\"linecolor\":\"white\",\"showbackground\":true,\"ticks\":\"\",\"zerolinecolor\":\"white\"}},\"shapedefaults\":{\"line\":{\"color\":\"#2a3f5f\"}},\"ternary\":{\"aaxis\":{\"gridcolor\":\"white\",\"linecolor\":\"white\",\"ticks\":\"\"},\"baxis\":{\"gridcolor\":\"white\",\"linecolor\":\"white\",\"ticks\":\"\"},\"bgcolor\":\"#E5ECF6\",\"caxis\":{\"gridcolor\":\"white\",\"linecolor\":\"white\",\"ticks\":\"\"}},\"title\":{\"x\":0.05},\"xaxis\":{\"automargin\":true,\"gridcolor\":\"white\",\"linecolor\":\"white\",\"ticks\":\"\",\"title\":{\"standoff\":15},\"zerolinecolor\":\"white\",\"zerolinewidth\":2},\"yaxis\":{\"automargin\":true,\"gridcolor\":\"white\",\"linecolor\":\"white\",\"ticks\":\"\",\"title\":{\"standoff\":15},\"zerolinecolor\":\"white\",\"zerolinewidth\":2}}},\"title\":{\"text\":\"Deaths in world\",\"x\":0.5}},                        {\"responsive\": true}                    ).then(function(){\n",
       "                            \n",
       "var gd = document.getElementById('524e27a0-8e57-4193-a336-c3308f454767');\n",
       "var x = new MutationObserver(function (mutations, observer) {{\n",
       "        var display = window.getComputedStyle(gd).display;\n",
       "        if (!display || display === 'none') {{\n",
       "            console.log([gd, 'removed!']);\n",
       "            Plotly.purge(gd);\n",
       "            observer.disconnect();\n",
       "        }}\n",
       "}});\n",
       "\n",
       "// Listen for the removal of the full notebook cells\n",
       "var notebookContainer = gd.closest('#notebook-container');\n",
       "if (notebookContainer) {{\n",
       "    x.observe(notebookContainer, {childList: true});\n",
       "}}\n",
       "\n",
       "// Listen for the clearing of the current output cell\n",
       "var outputEl = gd.closest('.output');\n",
       "if (outputEl) {{\n",
       "    x.observe(outputEl, {childList: true});\n",
       "}}\n",
       "\n",
       "                        })                };                });            </script>        </div>"
      ]
     },
     "metadata": {},
     "output_type": "display_data"
    }
   ],
   "source": [
    "figure1 = go.Figure(data=go.Choropleth(\n",
    "    locations= dataset_countries['Country'],\n",
    "    locationmode = 'country names',\n",
    "    z= dataset_countries['Deaths'],\n",
    "    colorscale = 'Reds'\n",
    "))\n",
    "figure1.update_layout(\n",
    "    title = 'Deaths in world',\n",
    "    title_x = 0.5,\n",
    "    geo_showframe = False,\n",
    "    geo_showcoastlines = False,\n",
    "    geo_scope = 'world'\n",
    "    \n",
    "\n",
    ")"
   ]
  },
  {
   "cell_type": "code",
   "execution_count": 96,
   "id": "45942644",
   "metadata": {},
   "outputs": [
    {
     "data": {
      "application/vnd.plotly.v1+json": {
       "config": {
        "plotlyServerURL": "https://plot.ly"
       },
       "data": [
        {
         "colorscale": [
          [
           0,
           "rgb(255,245,240)"
          ],
          [
           0.125,
           "rgb(254,224,210)"
          ],
          [
           0.25,
           "rgb(252,187,161)"
          ],
          [
           0.375,
           "rgb(252,146,114)"
          ],
          [
           0.5,
           "rgb(251,106,74)"
          ],
          [
           0.625,
           "rgb(239,59,44)"
          ],
          [
           0.75,
           "rgb(203,24,29)"
          ],
          [
           0.875,
           "rgb(165,15,21)"
          ],
          [
           1,
           "rgb(103,0,13)"
          ]
         ],
         "locationmode": "country names",
         "locations": [
          "Chile",
          "Laos",
          "India",
          "Samoa",
          "Vanuatu",
          "Namibia",
          "Bangladesh",
          "Sudan",
          "South Africa",
          "Chad",
          "Sri Lanka",
          "Estonia",
          "MS Zaandam",
          "Czech Republic",
          "Panama",
          "Bosnia and Herzegovina",
          "Israel",
          "Guatemala",
          "Saudi Arabia",
          "Timor-Leste",
          "Slovenia",
          "Cyprus",
          "Ethiopia",
          "Taiwan",
          "Comoros",
          "South Korea",
          "Qatar",
          "Cameroon",
          "West Bank and Gaza",
          "Holy See",
          "UK",
          "Azerbaijan",
          "Peru",
          "Kosovo",
          "El Salvador",
          "Spain",
          "Burma",
          "Mali",
          "US",
          "Australia",
          "Liechtenstein",
          "Hong Kong",
          "Mexico",
          "South Sudan",
          "Mauritius",
          "Belize",
          "Costa Rica",
          "Oman",
          "Mongolia",
          "Dominica",
          "Nicaragua",
          "Algeria",
          "Antigua and Barbuda",
          "France",
          "Haiti",
          "Mozambique",
          "Guinea",
          "Hungary",
          "Cabo Verde",
          "San Marino",
          "Congo (Kinshasa)",
          "Jamaica",
          "Rwanda",
          "Marshall Islands",
          "Somalia",
          "Tajikistan",
          "Djibouti",
          "Switzerland",
          "Latvia",
          "Iran",
          "Niger",
          "Uruguay",
          "Albania",
          "Bahrain",
          "Seychelles",
          "Maldives",
          "Trinidad and Tobago",
          "Moldova",
          "Romania",
          "Finland",
          "Austria",
          "Libya",
          "Venezuela",
          "Germany",
          "Kenya",
          "Italy",
          "Cambodia",
          "Nepal",
          "United Arab Emirates",
          "Canada",
          "Paraguay",
          "Russia",
          "Saint Lucia",
          "Slovakia",
          "Benin",
          "Belgium",
          "Sierra Leone",
          "Andorra",
          "Luxembourg",
          "Suriname",
          "Dominican Republic",
          "Botswana",
          "Portugal",
          "Ivory Coast",
          "Sao Tome and Principe",
          "Philippines",
          "Lithuania",
          "Togo",
          "Burkina Faso",
          "Iraq",
          "Ghana",
          "Macau",
          "Saint Vincent and the Grenadines",
          "Singapore",
          "Congo (Brazzaville)",
          "Denmark",
          "Lesotho",
          "Montenegro",
          "Greece",
          "Ecuador",
          "Central African Republic",
          "Gambia",
          "Guyana",
          "Jordan",
          "Diamond Princess",
          "Croatia",
          "Egypt",
          "Guinea-Bissau",
          "Morocco",
          "Zimbabwe",
          "Burundi",
          "Malta",
          "Brazil",
          "Turkey",
          "Norway",
          "Solomon Islands",
          "Equatorial Guinea",
          "Mainland China",
          "Tanzania",
          "Saint Kitts and Nevis",
          "Netherlands",
          "New Zealand",
          "Argentina",
          "Pakistan",
          "Madagascar",
          "Iceland",
          "Kuwait",
          "Indonesia",
          "Belarus",
          "Japan",
          "Kazakhstan",
          "Honduras",
          "Eritrea",
          "Angola",
          "Sweden",
          "Bhutan",
          "Ireland",
          "Vietnam",
          "Barbados",
          "Serbia",
          "Uzbekistan",
          "Gabon",
          "North Macedonia",
          "Senegal",
          "Cuba",
          "Thailand",
          "Zambia",
          "Papua New Guinea",
          "Monaco",
          "Grenada",
          "Nigeria",
          "Lebanon",
          "Fiji",
          "Brunei",
          "Liberia",
          "Bulgaria",
          "Bolivia",
          "Malaysia",
          "Eswatini",
          "Bahamas",
          "Kyrgyzstan",
          "Malawi",
          "Uganda",
          "Armenia",
          "Mauritania",
          "Yemen",
          "Poland",
          "Georgia",
          "Colombia",
          "Syria",
          "Tunisia",
          "Ukraine",
          "Afghanistan",
          "Micronesia",
          "Others",
          "East Timor",
          "Martinique",
          "Cape Verde",
          "Reunion",
          "Gambia, The",
          "Bahamas, The",
          "Mayotte",
          "French Guiana",
          "Guadeloupe",
          "Aruba",
          "Curacao",
          "Cayman Islands",
          "Channel Islands",
          "Faroe Islands",
          "Saint Barthelemy",
          "Gibraltar",
          "('St. Martin',)",
          "St. Martin",
          "Vatican City",
          "Palestine",
          "Republic of Ireland",
          " Azerbaijan",
          "North Ireland"
         ],
         "type": "choropleth",
         "z": [
          16608,
          0,
          148738,
          0,
          0,
          205,
          7559,
          1468,
          28469,
          104,
          204,
          229,
          2,
          11580,
          4022,
          4050,
          3325,
          4813,
          6223,
          0,
          2697,
          119,
          1923,
          7,
          10,
          917,
          245,
          448,
          1400,
          0,
          73622,
          2641,
          37680,
          1332,
          1327,
          50837,
          2682,
          269,
          352163,
          909,
          39,
          148,
          125807,
          63,
          10,
          248,
          2185,
          1499,
          1,
          0,
          165,
          2756,
          5,
          64759,
          236,
          166,
          81,
          9537,
          113,
          59,
          591,
          302,
          92,
          0,
          130,
          90,
          61,
          7645,
          635,
          55223,
          104,
          181,
          1181,
          352,
          0,
          48,
          127,
          2985,
          15767,
          561,
          6222,
          1478,
          1028,
          33791,
          1670,
          74159,
          0,
          1856,
          669,
          15762,
          2262,
          56271,
          5,
          2138,
          44,
          19528,
          76,
          84,
          495,
          122,
          2414,
          42,
          6906,
          137,
          17,
          9244,
          1796,
          68,
          85,
          12813,
          335,
          0,
          0,
          29,
          108,
          1298,
          51,
          682,
          4838,
          14034,
          63,
          124,
          164,
          3834,
          13,
          3920,
          7631,
          45,
          7388,
          363,
          2,
          219,
          194949,
          20881,
          436,
          0,
          86,
          4634,
          21,
          0,
          11525,
          25,
          43245,
          10176,
          261,
          29,
          934,
          22138,
          1424,
          3292,
          2761,
          3130,
          3,
          405,
          8727,
          0,
          2237,
          35,
          7,
          3211,
          614,
          64,
          2503,
          410,
          146,
          63,
          388,
          9,
          3,
          0,
          1289,
          1468,
          2,
          3,
          83,
          7576,
          9165,
          471,
          205,
          170,
          1355,
          189,
          251,
          2823,
          347,
          610,
          28554,
          2505,
          43213,
          711,
          4676,
          19281,
          2191,
          0,
          8,
          0,
          1,
          0,
          0,
          0,
          0,
          0,
          0,
          0,
          0,
          0,
          0,
          0,
          0,
          0,
          0,
          0,
          0,
          0,
          0,
          0,
          0,
          0
         ]
        }
       ],
       "layout": {
        "geo": {
         "scope": "europe",
         "showcoastlines": false,
         "showframe": false
        },
        "template": {
         "data": {
          "bar": [
           {
            "error_x": {
             "color": "#2a3f5f"
            },
            "error_y": {
             "color": "#2a3f5f"
            },
            "marker": {
             "line": {
              "color": "#E5ECF6",
              "width": 0.5
             },
             "pattern": {
              "fillmode": "overlay",
              "size": 10,
              "solidity": 0.2
             }
            },
            "type": "bar"
           }
          ],
          "barpolar": [
           {
            "marker": {
             "line": {
              "color": "#E5ECF6",
              "width": 0.5
             },
             "pattern": {
              "fillmode": "overlay",
              "size": 10,
              "solidity": 0.2
             }
            },
            "type": "barpolar"
           }
          ],
          "carpet": [
           {
            "aaxis": {
             "endlinecolor": "#2a3f5f",
             "gridcolor": "white",
             "linecolor": "white",
             "minorgridcolor": "white",
             "startlinecolor": "#2a3f5f"
            },
            "baxis": {
             "endlinecolor": "#2a3f5f",
             "gridcolor": "white",
             "linecolor": "white",
             "minorgridcolor": "white",
             "startlinecolor": "#2a3f5f"
            },
            "type": "carpet"
           }
          ],
          "choropleth": [
           {
            "colorbar": {
             "outlinewidth": 0,
             "ticks": ""
            },
            "type": "choropleth"
           }
          ],
          "contour": [
           {
            "colorbar": {
             "outlinewidth": 0,
             "ticks": ""
            },
            "colorscale": [
             [
              0,
              "#0d0887"
             ],
             [
              0.1111111111111111,
              "#46039f"
             ],
             [
              0.2222222222222222,
              "#7201a8"
             ],
             [
              0.3333333333333333,
              "#9c179e"
             ],
             [
              0.4444444444444444,
              "#bd3786"
             ],
             [
              0.5555555555555556,
              "#d8576b"
             ],
             [
              0.6666666666666666,
              "#ed7953"
             ],
             [
              0.7777777777777778,
              "#fb9f3a"
             ],
             [
              0.8888888888888888,
              "#fdca26"
             ],
             [
              1,
              "#f0f921"
             ]
            ],
            "type": "contour"
           }
          ],
          "contourcarpet": [
           {
            "colorbar": {
             "outlinewidth": 0,
             "ticks": ""
            },
            "type": "contourcarpet"
           }
          ],
          "heatmap": [
           {
            "colorbar": {
             "outlinewidth": 0,
             "ticks": ""
            },
            "colorscale": [
             [
              0,
              "#0d0887"
             ],
             [
              0.1111111111111111,
              "#46039f"
             ],
             [
              0.2222222222222222,
              "#7201a8"
             ],
             [
              0.3333333333333333,
              "#9c179e"
             ],
             [
              0.4444444444444444,
              "#bd3786"
             ],
             [
              0.5555555555555556,
              "#d8576b"
             ],
             [
              0.6666666666666666,
              "#ed7953"
             ],
             [
              0.7777777777777778,
              "#fb9f3a"
             ],
             [
              0.8888888888888888,
              "#fdca26"
             ],
             [
              1,
              "#f0f921"
             ]
            ],
            "type": "heatmap"
           }
          ],
          "heatmapgl": [
           {
            "colorbar": {
             "outlinewidth": 0,
             "ticks": ""
            },
            "colorscale": [
             [
              0,
              "#0d0887"
             ],
             [
              0.1111111111111111,
              "#46039f"
             ],
             [
              0.2222222222222222,
              "#7201a8"
             ],
             [
              0.3333333333333333,
              "#9c179e"
             ],
             [
              0.4444444444444444,
              "#bd3786"
             ],
             [
              0.5555555555555556,
              "#d8576b"
             ],
             [
              0.6666666666666666,
              "#ed7953"
             ],
             [
              0.7777777777777778,
              "#fb9f3a"
             ],
             [
              0.8888888888888888,
              "#fdca26"
             ],
             [
              1,
              "#f0f921"
             ]
            ],
            "type": "heatmapgl"
           }
          ],
          "histogram": [
           {
            "marker": {
             "pattern": {
              "fillmode": "overlay",
              "size": 10,
              "solidity": 0.2
             }
            },
            "type": "histogram"
           }
          ],
          "histogram2d": [
           {
            "colorbar": {
             "outlinewidth": 0,
             "ticks": ""
            },
            "colorscale": [
             [
              0,
              "#0d0887"
             ],
             [
              0.1111111111111111,
              "#46039f"
             ],
             [
              0.2222222222222222,
              "#7201a8"
             ],
             [
              0.3333333333333333,
              "#9c179e"
             ],
             [
              0.4444444444444444,
              "#bd3786"
             ],
             [
              0.5555555555555556,
              "#d8576b"
             ],
             [
              0.6666666666666666,
              "#ed7953"
             ],
             [
              0.7777777777777778,
              "#fb9f3a"
             ],
             [
              0.8888888888888888,
              "#fdca26"
             ],
             [
              1,
              "#f0f921"
             ]
            ],
            "type": "histogram2d"
           }
          ],
          "histogram2dcontour": [
           {
            "colorbar": {
             "outlinewidth": 0,
             "ticks": ""
            },
            "colorscale": [
             [
              0,
              "#0d0887"
             ],
             [
              0.1111111111111111,
              "#46039f"
             ],
             [
              0.2222222222222222,
              "#7201a8"
             ],
             [
              0.3333333333333333,
              "#9c179e"
             ],
             [
              0.4444444444444444,
              "#bd3786"
             ],
             [
              0.5555555555555556,
              "#d8576b"
             ],
             [
              0.6666666666666666,
              "#ed7953"
             ],
             [
              0.7777777777777778,
              "#fb9f3a"
             ],
             [
              0.8888888888888888,
              "#fdca26"
             ],
             [
              1,
              "#f0f921"
             ]
            ],
            "type": "histogram2dcontour"
           }
          ],
          "mesh3d": [
           {
            "colorbar": {
             "outlinewidth": 0,
             "ticks": ""
            },
            "type": "mesh3d"
           }
          ],
          "parcoords": [
           {
            "line": {
             "colorbar": {
              "outlinewidth": 0,
              "ticks": ""
             }
            },
            "type": "parcoords"
           }
          ],
          "pie": [
           {
            "automargin": true,
            "type": "pie"
           }
          ],
          "scatter": [
           {
            "marker": {
             "colorbar": {
              "outlinewidth": 0,
              "ticks": ""
             }
            },
            "type": "scatter"
           }
          ],
          "scatter3d": [
           {
            "line": {
             "colorbar": {
              "outlinewidth": 0,
              "ticks": ""
             }
            },
            "marker": {
             "colorbar": {
              "outlinewidth": 0,
              "ticks": ""
             }
            },
            "type": "scatter3d"
           }
          ],
          "scattercarpet": [
           {
            "marker": {
             "colorbar": {
              "outlinewidth": 0,
              "ticks": ""
             }
            },
            "type": "scattercarpet"
           }
          ],
          "scattergeo": [
           {
            "marker": {
             "colorbar": {
              "outlinewidth": 0,
              "ticks": ""
             }
            },
            "type": "scattergeo"
           }
          ],
          "scattergl": [
           {
            "marker": {
             "colorbar": {
              "outlinewidth": 0,
              "ticks": ""
             }
            },
            "type": "scattergl"
           }
          ],
          "scattermapbox": [
           {
            "marker": {
             "colorbar": {
              "outlinewidth": 0,
              "ticks": ""
             }
            },
            "type": "scattermapbox"
           }
          ],
          "scatterpolar": [
           {
            "marker": {
             "colorbar": {
              "outlinewidth": 0,
              "ticks": ""
             }
            },
            "type": "scatterpolar"
           }
          ],
          "scatterpolargl": [
           {
            "marker": {
             "colorbar": {
              "outlinewidth": 0,
              "ticks": ""
             }
            },
            "type": "scatterpolargl"
           }
          ],
          "scatterternary": [
           {
            "marker": {
             "colorbar": {
              "outlinewidth": 0,
              "ticks": ""
             }
            },
            "type": "scatterternary"
           }
          ],
          "surface": [
           {
            "colorbar": {
             "outlinewidth": 0,
             "ticks": ""
            },
            "colorscale": [
             [
              0,
              "#0d0887"
             ],
             [
              0.1111111111111111,
              "#46039f"
             ],
             [
              0.2222222222222222,
              "#7201a8"
             ],
             [
              0.3333333333333333,
              "#9c179e"
             ],
             [
              0.4444444444444444,
              "#bd3786"
             ],
             [
              0.5555555555555556,
              "#d8576b"
             ],
             [
              0.6666666666666666,
              "#ed7953"
             ],
             [
              0.7777777777777778,
              "#fb9f3a"
             ],
             [
              0.8888888888888888,
              "#fdca26"
             ],
             [
              1,
              "#f0f921"
             ]
            ],
            "type": "surface"
           }
          ],
          "table": [
           {
            "cells": {
             "fill": {
              "color": "#EBF0F8"
             },
             "line": {
              "color": "white"
             }
            },
            "header": {
             "fill": {
              "color": "#C8D4E3"
             },
             "line": {
              "color": "white"
             }
            },
            "type": "table"
           }
          ]
         },
         "layout": {
          "annotationdefaults": {
           "arrowcolor": "#2a3f5f",
           "arrowhead": 0,
           "arrowwidth": 1
          },
          "autotypenumbers": "strict",
          "coloraxis": {
           "colorbar": {
            "outlinewidth": 0,
            "ticks": ""
           }
          },
          "colorscale": {
           "diverging": [
            [
             0,
             "#8e0152"
            ],
            [
             0.1,
             "#c51b7d"
            ],
            [
             0.2,
             "#de77ae"
            ],
            [
             0.3,
             "#f1b6da"
            ],
            [
             0.4,
             "#fde0ef"
            ],
            [
             0.5,
             "#f7f7f7"
            ],
            [
             0.6,
             "#e6f5d0"
            ],
            [
             0.7,
             "#b8e186"
            ],
            [
             0.8,
             "#7fbc41"
            ],
            [
             0.9,
             "#4d9221"
            ],
            [
             1,
             "#276419"
            ]
           ],
           "sequential": [
            [
             0,
             "#0d0887"
            ],
            [
             0.1111111111111111,
             "#46039f"
            ],
            [
             0.2222222222222222,
             "#7201a8"
            ],
            [
             0.3333333333333333,
             "#9c179e"
            ],
            [
             0.4444444444444444,
             "#bd3786"
            ],
            [
             0.5555555555555556,
             "#d8576b"
            ],
            [
             0.6666666666666666,
             "#ed7953"
            ],
            [
             0.7777777777777778,
             "#fb9f3a"
            ],
            [
             0.8888888888888888,
             "#fdca26"
            ],
            [
             1,
             "#f0f921"
            ]
           ],
           "sequentialminus": [
            [
             0,
             "#0d0887"
            ],
            [
             0.1111111111111111,
             "#46039f"
            ],
            [
             0.2222222222222222,
             "#7201a8"
            ],
            [
             0.3333333333333333,
             "#9c179e"
            ],
            [
             0.4444444444444444,
             "#bd3786"
            ],
            [
             0.5555555555555556,
             "#d8576b"
            ],
            [
             0.6666666666666666,
             "#ed7953"
            ],
            [
             0.7777777777777778,
             "#fb9f3a"
            ],
            [
             0.8888888888888888,
             "#fdca26"
            ],
            [
             1,
             "#f0f921"
            ]
           ]
          },
          "colorway": [
           "#636efa",
           "#EF553B",
           "#00cc96",
           "#ab63fa",
           "#FFA15A",
           "#19d3f3",
           "#FF6692",
           "#B6E880",
           "#FF97FF",
           "#FECB52"
          ],
          "font": {
           "color": "#2a3f5f"
          },
          "geo": {
           "bgcolor": "white",
           "lakecolor": "white",
           "landcolor": "#E5ECF6",
           "showlakes": true,
           "showland": true,
           "subunitcolor": "white"
          },
          "hoverlabel": {
           "align": "left"
          },
          "hovermode": "closest",
          "mapbox": {
           "style": "light"
          },
          "paper_bgcolor": "white",
          "plot_bgcolor": "#E5ECF6",
          "polar": {
           "angularaxis": {
            "gridcolor": "white",
            "linecolor": "white",
            "ticks": ""
           },
           "bgcolor": "#E5ECF6",
           "radialaxis": {
            "gridcolor": "white",
            "linecolor": "white",
            "ticks": ""
           }
          },
          "scene": {
           "xaxis": {
            "backgroundcolor": "#E5ECF6",
            "gridcolor": "white",
            "gridwidth": 2,
            "linecolor": "white",
            "showbackground": true,
            "ticks": "",
            "zerolinecolor": "white"
           },
           "yaxis": {
            "backgroundcolor": "#E5ECF6",
            "gridcolor": "white",
            "gridwidth": 2,
            "linecolor": "white",
            "showbackground": true,
            "ticks": "",
            "zerolinecolor": "white"
           },
           "zaxis": {
            "backgroundcolor": "#E5ECF6",
            "gridcolor": "white",
            "gridwidth": 2,
            "linecolor": "white",
            "showbackground": true,
            "ticks": "",
            "zerolinecolor": "white"
           }
          },
          "shapedefaults": {
           "line": {
            "color": "#2a3f5f"
           }
          },
          "ternary": {
           "aaxis": {
            "gridcolor": "white",
            "linecolor": "white",
            "ticks": ""
           },
           "baxis": {
            "gridcolor": "white",
            "linecolor": "white",
            "ticks": ""
           },
           "bgcolor": "#E5ECF6",
           "caxis": {
            "gridcolor": "white",
            "linecolor": "white",
            "ticks": ""
           }
          },
          "title": {
           "x": 0.05
          },
          "xaxis": {
           "automargin": true,
           "gridcolor": "white",
           "linecolor": "white",
           "ticks": "",
           "title": {
            "standoff": 15
           },
           "zerolinecolor": "white",
           "zerolinewidth": 2
          },
          "yaxis": {
           "automargin": true,
           "gridcolor": "white",
           "linecolor": "white",
           "ticks": "",
           "title": {
            "standoff": 15
           },
           "zerolinecolor": "white",
           "zerolinewidth": 2
          }
         }
        },
        "title": {
         "text": "Deaths in europe",
         "x": 0.5
        }
       }
      },
      "text/html": [
       "<div>                            <div id=\"df65111b-7edd-4156-9831-b96d3cde8aad\" class=\"plotly-graph-div\" style=\"height:525px; width:100%;\"></div>            <script type=\"text/javascript\">                require([\"plotly\"], function(Plotly) {                    window.PLOTLYENV=window.PLOTLYENV || {};                                    if (document.getElementById(\"df65111b-7edd-4156-9831-b96d3cde8aad\")) {                    Plotly.newPlot(                        \"df65111b-7edd-4156-9831-b96d3cde8aad\",                        [{\"colorscale\":[[0.0,\"rgb(255,245,240)\"],[0.125,\"rgb(254,224,210)\"],[0.25,\"rgb(252,187,161)\"],[0.375,\"rgb(252,146,114)\"],[0.5,\"rgb(251,106,74)\"],[0.625,\"rgb(239,59,44)\"],[0.75,\"rgb(203,24,29)\"],[0.875,\"rgb(165,15,21)\"],[1.0,\"rgb(103,0,13)\"]],\"locationmode\":\"country names\",\"locations\":[\"Chile\",\"Laos\",\"India\",\"Samoa\",\"Vanuatu\",\"Namibia\",\"Bangladesh\",\"Sudan\",\"South Africa\",\"Chad\",\"Sri Lanka\",\"Estonia\",\"MS Zaandam\",\"Czech Republic\",\"Panama\",\"Bosnia and Herzegovina\",\"Israel\",\"Guatemala\",\"Saudi Arabia\",\"Timor-Leste\",\"Slovenia\",\"Cyprus\",\"Ethiopia\",\"Taiwan\",\"Comoros\",\"South Korea\",\"Qatar\",\"Cameroon\",\"West Bank and Gaza\",\"Holy See\",\"UK\",\"Azerbaijan\",\"Peru\",\"Kosovo\",\"El Salvador\",\"Spain\",\"Burma\",\"Mali\",\"US\",\"Australia\",\"Liechtenstein\",\"Hong Kong\",\"Mexico\",\"South Sudan\",\"Mauritius\",\"Belize\",\"Costa Rica\",\"Oman\",\"Mongolia\",\"Dominica\",\"Nicaragua\",\"Algeria\",\"Antigua and Barbuda\",\"France\",\"Haiti\",\"Mozambique\",\"Guinea\",\"Hungary\",\"Cabo Verde\",\"San Marino\",\"Congo (Kinshasa)\",\"Jamaica\",\"Rwanda\",\"Marshall Islands\",\"Somalia\",\"Tajikistan\",\"Djibouti\",\"Switzerland\",\"Latvia\",\"Iran\",\"Niger\",\"Uruguay\",\"Albania\",\"Bahrain\",\"Seychelles\",\"Maldives\",\"Trinidad and Tobago\",\"Moldova\",\"Romania\",\"Finland\",\"Austria\",\"Libya\",\"Venezuela\",\"Germany\",\"Kenya\",\"Italy\",\"Cambodia\",\"Nepal\",\"United Arab Emirates\",\"Canada\",\"Paraguay\",\"Russia\",\"Saint Lucia\",\"Slovakia\",\"Benin\",\"Belgium\",\"Sierra Leone\",\"Andorra\",\"Luxembourg\",\"Suriname\",\"Dominican Republic\",\"Botswana\",\"Portugal\",\"Ivory Coast\",\"Sao Tome and Principe\",\"Philippines\",\"Lithuania\",\"Togo\",\"Burkina Faso\",\"Iraq\",\"Ghana\",\"Macau\",\"Saint Vincent and the Grenadines\",\"Singapore\",\"Congo (Brazzaville)\",\"Denmark\",\"Lesotho\",\"Montenegro\",\"Greece\",\"Ecuador\",\"Central African Republic\",\"Gambia\",\"Guyana\",\"Jordan\",\"Diamond Princess\",\"Croatia\",\"Egypt\",\"Guinea-Bissau\",\"Morocco\",\"Zimbabwe\",\"Burundi\",\"Malta\",\"Brazil\",\"Turkey\",\"Norway\",\"Solomon Islands\",\"Equatorial Guinea\",\"Mainland China\",\"Tanzania\",\"Saint Kitts and Nevis\",\"Netherlands\",\"New Zealand\",\"Argentina\",\"Pakistan\",\"Madagascar\",\"Iceland\",\"Kuwait\",\"Indonesia\",\"Belarus\",\"Japan\",\"Kazakhstan\",\"Honduras\",\"Eritrea\",\"Angola\",\"Sweden\",\"Bhutan\",\"Ireland\",\"Vietnam\",\"Barbados\",\"Serbia\",\"Uzbekistan\",\"Gabon\",\"North Macedonia\",\"Senegal\",\"Cuba\",\"Thailand\",\"Zambia\",\"Papua New Guinea\",\"Monaco\",\"Grenada\",\"Nigeria\",\"Lebanon\",\"Fiji\",\"Brunei\",\"Liberia\",\"Bulgaria\",\"Bolivia\",\"Malaysia\",\"Eswatini\",\"Bahamas\",\"Kyrgyzstan\",\"Malawi\",\"Uganda\",\"Armenia\",\"Mauritania\",\"Yemen\",\"Poland\",\"Georgia\",\"Colombia\",\"Syria\",\"Tunisia\",\"Ukraine\",\"Afghanistan\",\"Micronesia\",\"Others\",\"East Timor\",\"Martinique\",\"Cape Verde\",\"Reunion\",\"Gambia, The\",\"Bahamas, The\",\"Mayotte\",\"French Guiana\",\"Guadeloupe\",\"Aruba\",\"Curacao\",\"Cayman Islands\",\"Channel Islands\",\"Faroe Islands\",\"Saint Barthelemy\",\"Gibraltar\",\"('St. Martin',)\",\"St. Martin\",\"Vatican City\",\"Palestine\",\"Republic of Ireland\",\" Azerbaijan\",\"North Ireland\"],\"type\":\"choropleth\",\"z\":[16608.0,0.0,148738.0,0.0,0.0,205.0,7559.0,1468.0,28469.0,104.0,204.0,229.0,2.0,11580.0,4022.0,4050.0,3325.0,4813.0,6223.0,0.0,2697.0,119.0,1923.0,7.0,10.0,917.0,245.0,448.0,1400.0,0.0,73622.0,2641.0,37680.0,1332.0,1327.0,50837.0,2682.0,269.0,352163.0,909.0,39.0,148.0,125807.0,63.0,10.0,248.0,2185.0,1499.0,1.0,0.0,165.0,2756.0,5.0,64759.0,236.0,166.0,81.0,9537.0,113.0,59.0,591.0,302.0,92.0,0.0,130.0,90.0,61.0,7645.0,635.0,55223.0,104.0,181.0,1181.0,352.0,0.0,48.0,127.0,2985.0,15767.0,561.0,6222.0,1478.0,1028.0,33791.0,1670.0,74159.0,0.0,1856.0,669.0,15762.0,2262.0,56271.0,5.0,2138.0,44.0,19528.0,76.0,84.0,495.0,122.0,2414.0,42.0,6906.0,137.0,17.0,9244.0,1796.0,68.0,85.0,12813.0,335.0,0.0,0.0,29.0,108.0,1298.0,51.0,682.0,4838.0,14034.0,63.0,124.0,164.0,3834.0,13.0,3920.0,7631.0,45.0,7388.0,363.0,2.0,219.0,194949.0,20881.0,436.0,0.0,86.0,4634.0,21.0,0.0,11525.0,25.0,43245.0,10176.0,261.0,29.0,934.0,22138.0,1424.0,3292.0,2761.0,3130.0,3.0,405.0,8727.0,0.0,2237.0,35.0,7.0,3211.0,614.0,64.0,2503.0,410.0,146.0,63.0,388.0,9.0,3.0,0.0,1289.0,1468.0,2.0,3.0,83.0,7576.0,9165.0,471.0,205.0,170.0,1355.0,189.0,251.0,2823.0,347.0,610.0,28554.0,2505.0,43213.0,711.0,4676.0,19281.0,2191.0,0.0,8.0,0.0,1.0,0.0,0.0,0.0,0.0,0.0,0.0,0.0,0.0,0.0,0.0,0.0,0.0,0.0,0.0,0.0,0.0,0.0,0.0,0.0,0.0,0.0]}],                        {\"geo\":{\"scope\":\"europe\",\"showcoastlines\":false,\"showframe\":false},\"template\":{\"data\":{\"bar\":[{\"error_x\":{\"color\":\"#2a3f5f\"},\"error_y\":{\"color\":\"#2a3f5f\"},\"marker\":{\"line\":{\"color\":\"#E5ECF6\",\"width\":0.5},\"pattern\":{\"fillmode\":\"overlay\",\"size\":10,\"solidity\":0.2}},\"type\":\"bar\"}],\"barpolar\":[{\"marker\":{\"line\":{\"color\":\"#E5ECF6\",\"width\":0.5},\"pattern\":{\"fillmode\":\"overlay\",\"size\":10,\"solidity\":0.2}},\"type\":\"barpolar\"}],\"carpet\":[{\"aaxis\":{\"endlinecolor\":\"#2a3f5f\",\"gridcolor\":\"white\",\"linecolor\":\"white\",\"minorgridcolor\":\"white\",\"startlinecolor\":\"#2a3f5f\"},\"baxis\":{\"endlinecolor\":\"#2a3f5f\",\"gridcolor\":\"white\",\"linecolor\":\"white\",\"minorgridcolor\":\"white\",\"startlinecolor\":\"#2a3f5f\"},\"type\":\"carpet\"}],\"choropleth\":[{\"colorbar\":{\"outlinewidth\":0,\"ticks\":\"\"},\"type\":\"choropleth\"}],\"contour\":[{\"colorbar\":{\"outlinewidth\":0,\"ticks\":\"\"},\"colorscale\":[[0.0,\"#0d0887\"],[0.1111111111111111,\"#46039f\"],[0.2222222222222222,\"#7201a8\"],[0.3333333333333333,\"#9c179e\"],[0.4444444444444444,\"#bd3786\"],[0.5555555555555556,\"#d8576b\"],[0.6666666666666666,\"#ed7953\"],[0.7777777777777778,\"#fb9f3a\"],[0.8888888888888888,\"#fdca26\"],[1.0,\"#f0f921\"]],\"type\":\"contour\"}],\"contourcarpet\":[{\"colorbar\":{\"outlinewidth\":0,\"ticks\":\"\"},\"type\":\"contourcarpet\"}],\"heatmap\":[{\"colorbar\":{\"outlinewidth\":0,\"ticks\":\"\"},\"colorscale\":[[0.0,\"#0d0887\"],[0.1111111111111111,\"#46039f\"],[0.2222222222222222,\"#7201a8\"],[0.3333333333333333,\"#9c179e\"],[0.4444444444444444,\"#bd3786\"],[0.5555555555555556,\"#d8576b\"],[0.6666666666666666,\"#ed7953\"],[0.7777777777777778,\"#fb9f3a\"],[0.8888888888888888,\"#fdca26\"],[1.0,\"#f0f921\"]],\"type\":\"heatmap\"}],\"heatmapgl\":[{\"colorbar\":{\"outlinewidth\":0,\"ticks\":\"\"},\"colorscale\":[[0.0,\"#0d0887\"],[0.1111111111111111,\"#46039f\"],[0.2222222222222222,\"#7201a8\"],[0.3333333333333333,\"#9c179e\"],[0.4444444444444444,\"#bd3786\"],[0.5555555555555556,\"#d8576b\"],[0.6666666666666666,\"#ed7953\"],[0.7777777777777778,\"#fb9f3a\"],[0.8888888888888888,\"#fdca26\"],[1.0,\"#f0f921\"]],\"type\":\"heatmapgl\"}],\"histogram\":[{\"marker\":{\"pattern\":{\"fillmode\":\"overlay\",\"size\":10,\"solidity\":0.2}},\"type\":\"histogram\"}],\"histogram2d\":[{\"colorbar\":{\"outlinewidth\":0,\"ticks\":\"\"},\"colorscale\":[[0.0,\"#0d0887\"],[0.1111111111111111,\"#46039f\"],[0.2222222222222222,\"#7201a8\"],[0.3333333333333333,\"#9c179e\"],[0.4444444444444444,\"#bd3786\"],[0.5555555555555556,\"#d8576b\"],[0.6666666666666666,\"#ed7953\"],[0.7777777777777778,\"#fb9f3a\"],[0.8888888888888888,\"#fdca26\"],[1.0,\"#f0f921\"]],\"type\":\"histogram2d\"}],\"histogram2dcontour\":[{\"colorbar\":{\"outlinewidth\":0,\"ticks\":\"\"},\"colorscale\":[[0.0,\"#0d0887\"],[0.1111111111111111,\"#46039f\"],[0.2222222222222222,\"#7201a8\"],[0.3333333333333333,\"#9c179e\"],[0.4444444444444444,\"#bd3786\"],[0.5555555555555556,\"#d8576b\"],[0.6666666666666666,\"#ed7953\"],[0.7777777777777778,\"#fb9f3a\"],[0.8888888888888888,\"#fdca26\"],[1.0,\"#f0f921\"]],\"type\":\"histogram2dcontour\"}],\"mesh3d\":[{\"colorbar\":{\"outlinewidth\":0,\"ticks\":\"\"},\"type\":\"mesh3d\"}],\"parcoords\":[{\"line\":{\"colorbar\":{\"outlinewidth\":0,\"ticks\":\"\"}},\"type\":\"parcoords\"}],\"pie\":[{\"automargin\":true,\"type\":\"pie\"}],\"scatter\":[{\"marker\":{\"colorbar\":{\"outlinewidth\":0,\"ticks\":\"\"}},\"type\":\"scatter\"}],\"scatter3d\":[{\"line\":{\"colorbar\":{\"outlinewidth\":0,\"ticks\":\"\"}},\"marker\":{\"colorbar\":{\"outlinewidth\":0,\"ticks\":\"\"}},\"type\":\"scatter3d\"}],\"scattercarpet\":[{\"marker\":{\"colorbar\":{\"outlinewidth\":0,\"ticks\":\"\"}},\"type\":\"scattercarpet\"}],\"scattergeo\":[{\"marker\":{\"colorbar\":{\"outlinewidth\":0,\"ticks\":\"\"}},\"type\":\"scattergeo\"}],\"scattergl\":[{\"marker\":{\"colorbar\":{\"outlinewidth\":0,\"ticks\":\"\"}},\"type\":\"scattergl\"}],\"scattermapbox\":[{\"marker\":{\"colorbar\":{\"outlinewidth\":0,\"ticks\":\"\"}},\"type\":\"scattermapbox\"}],\"scatterpolar\":[{\"marker\":{\"colorbar\":{\"outlinewidth\":0,\"ticks\":\"\"}},\"type\":\"scatterpolar\"}],\"scatterpolargl\":[{\"marker\":{\"colorbar\":{\"outlinewidth\":0,\"ticks\":\"\"}},\"type\":\"scatterpolargl\"}],\"scatterternary\":[{\"marker\":{\"colorbar\":{\"outlinewidth\":0,\"ticks\":\"\"}},\"type\":\"scatterternary\"}],\"surface\":[{\"colorbar\":{\"outlinewidth\":0,\"ticks\":\"\"},\"colorscale\":[[0.0,\"#0d0887\"],[0.1111111111111111,\"#46039f\"],[0.2222222222222222,\"#7201a8\"],[0.3333333333333333,\"#9c179e\"],[0.4444444444444444,\"#bd3786\"],[0.5555555555555556,\"#d8576b\"],[0.6666666666666666,\"#ed7953\"],[0.7777777777777778,\"#fb9f3a\"],[0.8888888888888888,\"#fdca26\"],[1.0,\"#f0f921\"]],\"type\":\"surface\"}],\"table\":[{\"cells\":{\"fill\":{\"color\":\"#EBF0F8\"},\"line\":{\"color\":\"white\"}},\"header\":{\"fill\":{\"color\":\"#C8D4E3\"},\"line\":{\"color\":\"white\"}},\"type\":\"table\"}]},\"layout\":{\"annotationdefaults\":{\"arrowcolor\":\"#2a3f5f\",\"arrowhead\":0,\"arrowwidth\":1},\"autotypenumbers\":\"strict\",\"coloraxis\":{\"colorbar\":{\"outlinewidth\":0,\"ticks\":\"\"}},\"colorscale\":{\"diverging\":[[0,\"#8e0152\"],[0.1,\"#c51b7d\"],[0.2,\"#de77ae\"],[0.3,\"#f1b6da\"],[0.4,\"#fde0ef\"],[0.5,\"#f7f7f7\"],[0.6,\"#e6f5d0\"],[0.7,\"#b8e186\"],[0.8,\"#7fbc41\"],[0.9,\"#4d9221\"],[1,\"#276419\"]],\"sequential\":[[0.0,\"#0d0887\"],[0.1111111111111111,\"#46039f\"],[0.2222222222222222,\"#7201a8\"],[0.3333333333333333,\"#9c179e\"],[0.4444444444444444,\"#bd3786\"],[0.5555555555555556,\"#d8576b\"],[0.6666666666666666,\"#ed7953\"],[0.7777777777777778,\"#fb9f3a\"],[0.8888888888888888,\"#fdca26\"],[1.0,\"#f0f921\"]],\"sequentialminus\":[[0.0,\"#0d0887\"],[0.1111111111111111,\"#46039f\"],[0.2222222222222222,\"#7201a8\"],[0.3333333333333333,\"#9c179e\"],[0.4444444444444444,\"#bd3786\"],[0.5555555555555556,\"#d8576b\"],[0.6666666666666666,\"#ed7953\"],[0.7777777777777778,\"#fb9f3a\"],[0.8888888888888888,\"#fdca26\"],[1.0,\"#f0f921\"]]},\"colorway\":[\"#636efa\",\"#EF553B\",\"#00cc96\",\"#ab63fa\",\"#FFA15A\",\"#19d3f3\",\"#FF6692\",\"#B6E880\",\"#FF97FF\",\"#FECB52\"],\"font\":{\"color\":\"#2a3f5f\"},\"geo\":{\"bgcolor\":\"white\",\"lakecolor\":\"white\",\"landcolor\":\"#E5ECF6\",\"showlakes\":true,\"showland\":true,\"subunitcolor\":\"white\"},\"hoverlabel\":{\"align\":\"left\"},\"hovermode\":\"closest\",\"mapbox\":{\"style\":\"light\"},\"paper_bgcolor\":\"white\",\"plot_bgcolor\":\"#E5ECF6\",\"polar\":{\"angularaxis\":{\"gridcolor\":\"white\",\"linecolor\":\"white\",\"ticks\":\"\"},\"bgcolor\":\"#E5ECF6\",\"radialaxis\":{\"gridcolor\":\"white\",\"linecolor\":\"white\",\"ticks\":\"\"}},\"scene\":{\"xaxis\":{\"backgroundcolor\":\"#E5ECF6\",\"gridcolor\":\"white\",\"gridwidth\":2,\"linecolor\":\"white\",\"showbackground\":true,\"ticks\":\"\",\"zerolinecolor\":\"white\"},\"yaxis\":{\"backgroundcolor\":\"#E5ECF6\",\"gridcolor\":\"white\",\"gridwidth\":2,\"linecolor\":\"white\",\"showbackground\":true,\"ticks\":\"\",\"zerolinecolor\":\"white\"},\"zaxis\":{\"backgroundcolor\":\"#E5ECF6\",\"gridcolor\":\"white\",\"gridwidth\":2,\"linecolor\":\"white\",\"showbackground\":true,\"ticks\":\"\",\"zerolinecolor\":\"white\"}},\"shapedefaults\":{\"line\":{\"color\":\"#2a3f5f\"}},\"ternary\":{\"aaxis\":{\"gridcolor\":\"white\",\"linecolor\":\"white\",\"ticks\":\"\"},\"baxis\":{\"gridcolor\":\"white\",\"linecolor\":\"white\",\"ticks\":\"\"},\"bgcolor\":\"#E5ECF6\",\"caxis\":{\"gridcolor\":\"white\",\"linecolor\":\"white\",\"ticks\":\"\"}},\"title\":{\"x\":0.05},\"xaxis\":{\"automargin\":true,\"gridcolor\":\"white\",\"linecolor\":\"white\",\"ticks\":\"\",\"title\":{\"standoff\":15},\"zerolinecolor\":\"white\",\"zerolinewidth\":2},\"yaxis\":{\"automargin\":true,\"gridcolor\":\"white\",\"linecolor\":\"white\",\"ticks\":\"\",\"title\":{\"standoff\":15},\"zerolinecolor\":\"white\",\"zerolinewidth\":2}}},\"title\":{\"text\":\"Deaths in europe\",\"x\":0.5}},                        {\"responsive\": true}                    ).then(function(){\n",
       "                            \n",
       "var gd = document.getElementById('df65111b-7edd-4156-9831-b96d3cde8aad');\n",
       "var x = new MutationObserver(function (mutations, observer) {{\n",
       "        var display = window.getComputedStyle(gd).display;\n",
       "        if (!display || display === 'none') {{\n",
       "            console.log([gd, 'removed!']);\n",
       "            Plotly.purge(gd);\n",
       "            observer.disconnect();\n",
       "        }}\n",
       "}});\n",
       "\n",
       "// Listen for the removal of the full notebook cells\n",
       "var notebookContainer = gd.closest('#notebook-container');\n",
       "if (notebookContainer) {{\n",
       "    x.observe(notebookContainer, {childList: true});\n",
       "}}\n",
       "\n",
       "// Listen for the clearing of the current output cell\n",
       "var outputEl = gd.closest('.output');\n",
       "if (outputEl) {{\n",
       "    x.observe(outputEl, {childList: true});\n",
       "}}\n",
       "\n",
       "                        })                };                });            </script>        </div>"
      ]
     },
     "metadata": {},
     "output_type": "display_data"
    }
   ],
   "source": [
    "figure2 = go.Figure(data=go.Choropleth(\n",
    "    locations= dataset_countries['Country'],\n",
    "    locationmode = 'country names',\n",
    "    z= dataset_countries['Deaths'],\n",
    "    colorscale = 'Reds'\n",
    "))\n",
    "figure2.update_layout(\n",
    "    title = 'Deaths in europe',\n",
    "    title_x = 0.5,\n",
    "    geo_showframe = False,\n",
    "    geo_showcoastlines = False,\n",
    "    geo_scope = 'europe'\n",
    "    \n",
    "\n",
    ")"
   ]
  },
  {
   "cell_type": "code",
   "execution_count": 95,
   "id": "17630c09",
   "metadata": {},
   "outputs": [
    {
     "data": {
      "application/vnd.plotly.v1+json": {
       "config": {
        "plotlyServerURL": "https://plot.ly"
       },
       "data": [
        {
         "colorscale": [
          [
           0,
           "rgb(255,245,240)"
          ],
          [
           0.125,
           "rgb(254,224,210)"
          ],
          [
           0.25,
           "rgb(252,187,161)"
          ],
          [
           0.375,
           "rgb(252,146,114)"
          ],
          [
           0.5,
           "rgb(251,106,74)"
          ],
          [
           0.625,
           "rgb(239,59,44)"
          ],
          [
           0.75,
           "rgb(203,24,29)"
          ],
          [
           0.875,
           "rgb(165,15,21)"
          ],
          [
           1,
           "rgb(103,0,13)"
          ]
         ],
         "locationmode": "country names",
         "locations": [
          "Chile",
          "Laos",
          "India",
          "Samoa",
          "Vanuatu",
          "Namibia",
          "Bangladesh",
          "Sudan",
          "South Africa",
          "Chad",
          "Sri Lanka",
          "Estonia",
          "MS Zaandam",
          "Czech Republic",
          "Panama",
          "Bosnia and Herzegovina",
          "Israel",
          "Guatemala",
          "Saudi Arabia",
          "Timor-Leste",
          "Slovenia",
          "Cyprus",
          "Ethiopia",
          "Taiwan",
          "Comoros",
          "South Korea",
          "Qatar",
          "Cameroon",
          "West Bank and Gaza",
          "Holy See",
          "UK",
          "Azerbaijan",
          "Peru",
          "Kosovo",
          "El Salvador",
          "Spain",
          "Burma",
          "Mali",
          "US",
          "Australia",
          "Liechtenstein",
          "Hong Kong",
          "Mexico",
          "South Sudan",
          "Mauritius",
          "Belize",
          "Costa Rica",
          "Oman",
          "Mongolia",
          "Dominica",
          "Nicaragua",
          "Algeria",
          "Antigua and Barbuda",
          "France",
          "Haiti",
          "Mozambique",
          "Guinea",
          "Hungary",
          "Cabo Verde",
          "San Marino",
          "Congo (Kinshasa)",
          "Jamaica",
          "Rwanda",
          "Marshall Islands",
          "Somalia",
          "Tajikistan",
          "Djibouti",
          "Switzerland",
          "Latvia",
          "Iran",
          "Niger",
          "Uruguay",
          "Albania",
          "Bahrain",
          "Seychelles",
          "Maldives",
          "Trinidad and Tobago",
          "Moldova",
          "Romania",
          "Finland",
          "Austria",
          "Libya",
          "Venezuela",
          "Germany",
          "Kenya",
          "Italy",
          "Cambodia",
          "Nepal",
          "United Arab Emirates",
          "Canada",
          "Paraguay",
          "Russia",
          "Saint Lucia",
          "Slovakia",
          "Benin",
          "Belgium",
          "Sierra Leone",
          "Andorra",
          "Luxembourg",
          "Suriname",
          "Dominican Republic",
          "Botswana",
          "Portugal",
          "Ivory Coast",
          "Sao Tome and Principe",
          "Philippines",
          "Lithuania",
          "Togo",
          "Burkina Faso",
          "Iraq",
          "Ghana",
          "Macau",
          "Saint Vincent and the Grenadines",
          "Singapore",
          "Congo (Brazzaville)",
          "Denmark",
          "Lesotho",
          "Montenegro",
          "Greece",
          "Ecuador",
          "Central African Republic",
          "Gambia",
          "Guyana",
          "Jordan",
          "Diamond Princess",
          "Croatia",
          "Egypt",
          "Guinea-Bissau",
          "Morocco",
          "Zimbabwe",
          "Burundi",
          "Malta",
          "Brazil",
          "Turkey",
          "Norway",
          "Solomon Islands",
          "Equatorial Guinea",
          "Mainland China",
          "Tanzania",
          "Saint Kitts and Nevis",
          "Netherlands",
          "New Zealand",
          "Argentina",
          "Pakistan",
          "Madagascar",
          "Iceland",
          "Kuwait",
          "Indonesia",
          "Belarus",
          "Japan",
          "Kazakhstan",
          "Honduras",
          "Eritrea",
          "Angola",
          "Sweden",
          "Bhutan",
          "Ireland",
          "Vietnam",
          "Barbados",
          "Serbia",
          "Uzbekistan",
          "Gabon",
          "North Macedonia",
          "Senegal",
          "Cuba",
          "Thailand",
          "Zambia",
          "Papua New Guinea",
          "Monaco",
          "Grenada",
          "Nigeria",
          "Lebanon",
          "Fiji",
          "Brunei",
          "Liberia",
          "Bulgaria",
          "Bolivia",
          "Malaysia",
          "Eswatini",
          "Bahamas",
          "Kyrgyzstan",
          "Malawi",
          "Uganda",
          "Armenia",
          "Mauritania",
          "Yemen",
          "Poland",
          "Georgia",
          "Colombia",
          "Syria",
          "Tunisia",
          "Ukraine",
          "Afghanistan",
          "Micronesia",
          "Others",
          "East Timor",
          "Martinique",
          "Cape Verde",
          "Reunion",
          "Gambia, The",
          "Bahamas, The",
          "Mayotte",
          "French Guiana",
          "Guadeloupe",
          "Aruba",
          "Curacao",
          "Cayman Islands",
          "Channel Islands",
          "Faroe Islands",
          "Saint Barthelemy",
          "Gibraltar",
          "('St. Martin',)",
          "St. Martin",
          "Vatican City",
          "Palestine",
          "Republic of Ireland",
          " Azerbaijan",
          "North Ireland"
         ],
         "type": "choropleth",
         "z": [
          608973,
          41,
          10266674,
          2,
          1,
          23941,
          513510,
          25500,
          1057161,
          2113,
          43299,
          27990,
          9,
          718661,
          246790,
          110985,
          423262,
          138012,
          362741,
          44,
          122152,
          22019,
          124264,
          799,
          823,
          61769,
          143834,
          26277,
          138004,
          27,
          2496235,
          218700,
          1015137,
          51144,
          46242,
          1928265,
          124630,
          7090,
          20099363,
          28425,
          2136,
          8846,
          1426094,
          3558,
          527,
          10776,
          169321,
          128867,
          1220,
          88,
          6046,
          99610,
          159,
          2677666,
          9999,
          18642,
          13722,
          322514,
          11840,
          2428,
          17658,
          12827,
          8383,
          4,
          4714,
          13296,
          5831,
          452296,
          40904,
          1225142,
          3323,
          19119,
          58316,
          92675,
          256,
          13757,
          7150,
          144818,
          632263,
          36107,
          360815,
          100277,
          113558,
          1760520,
          96458,
          2107166,
          378,
          260593,
          207822,
          584409,
          107932,
          3127347,
          353,
          179543,
          3251,
          646496,
          2611,
          8049,
          46415,
          6210,
          170785,
          14805,
          413678,
          22490,
          1014,
          474064,
          141955,
          3633,
          6707,
          595291,
          54771,
          46,
          121,
          58599,
          7107,
          164116,
          3094,
          48247,
          138850,
          212512,
          4963,
          3797,
          6332,
          294494,
          712,
          210837,
          138062,
          2452,
          439193,
          13867,
          818,
          12774,
          7675973,
          2208652,
          49567,
          17,
          5277,
          87071,
          509,
          32,
          808382,
          2162,
          1625514,
          482178,
          17714,
          5754,
          150584,
          743198,
          194284,
          235811,
          201196,
          121827,
          1320,
          17553,
          437379,
          670,
          91779,
          1465,
          383,
          337923,
          77060,
          9571,
          83329,
          19140,
          11863,
          7163,
          20725,
          780,
          875,
          127,
          87607,
          181503,
          49,
          157,
          1779,
          202266,
          160124,
          113010,
          9358,
          7871,
          81034,
          6583,
          35216,
          159409,
          14364,
          2099,
          1294878,
          227420,
          1642775,
          11434,
          139140,
          1086997,
          51526,
          1,
          712,
          1,
          32,
          1,
          45,
          1,
          4,
          7,
          18,
          53,
          4,
          1,
          1,
          1,
          2,
          1,
          1,
          2,
          2,
          1,
          22,
          21,
          1,
          1
         ]
        }
       ],
       "layout": {
        "geo": {
         "projection": {
          "type": "equirectangular"
         },
         "showcoastlines": false,
         "showframe": false
        },
        "template": {
         "data": {
          "bar": [
           {
            "error_x": {
             "color": "#2a3f5f"
            },
            "error_y": {
             "color": "#2a3f5f"
            },
            "marker": {
             "line": {
              "color": "#E5ECF6",
              "width": 0.5
             },
             "pattern": {
              "fillmode": "overlay",
              "size": 10,
              "solidity": 0.2
             }
            },
            "type": "bar"
           }
          ],
          "barpolar": [
           {
            "marker": {
             "line": {
              "color": "#E5ECF6",
              "width": 0.5
             },
             "pattern": {
              "fillmode": "overlay",
              "size": 10,
              "solidity": 0.2
             }
            },
            "type": "barpolar"
           }
          ],
          "carpet": [
           {
            "aaxis": {
             "endlinecolor": "#2a3f5f",
             "gridcolor": "white",
             "linecolor": "white",
             "minorgridcolor": "white",
             "startlinecolor": "#2a3f5f"
            },
            "baxis": {
             "endlinecolor": "#2a3f5f",
             "gridcolor": "white",
             "linecolor": "white",
             "minorgridcolor": "white",
             "startlinecolor": "#2a3f5f"
            },
            "type": "carpet"
           }
          ],
          "choropleth": [
           {
            "colorbar": {
             "outlinewidth": 0,
             "ticks": ""
            },
            "type": "choropleth"
           }
          ],
          "contour": [
           {
            "colorbar": {
             "outlinewidth": 0,
             "ticks": ""
            },
            "colorscale": [
             [
              0,
              "#0d0887"
             ],
             [
              0.1111111111111111,
              "#46039f"
             ],
             [
              0.2222222222222222,
              "#7201a8"
             ],
             [
              0.3333333333333333,
              "#9c179e"
             ],
             [
              0.4444444444444444,
              "#bd3786"
             ],
             [
              0.5555555555555556,
              "#d8576b"
             ],
             [
              0.6666666666666666,
              "#ed7953"
             ],
             [
              0.7777777777777778,
              "#fb9f3a"
             ],
             [
              0.8888888888888888,
              "#fdca26"
             ],
             [
              1,
              "#f0f921"
             ]
            ],
            "type": "contour"
           }
          ],
          "contourcarpet": [
           {
            "colorbar": {
             "outlinewidth": 0,
             "ticks": ""
            },
            "type": "contourcarpet"
           }
          ],
          "heatmap": [
           {
            "colorbar": {
             "outlinewidth": 0,
             "ticks": ""
            },
            "colorscale": [
             [
              0,
              "#0d0887"
             ],
             [
              0.1111111111111111,
              "#46039f"
             ],
             [
              0.2222222222222222,
              "#7201a8"
             ],
             [
              0.3333333333333333,
              "#9c179e"
             ],
             [
              0.4444444444444444,
              "#bd3786"
             ],
             [
              0.5555555555555556,
              "#d8576b"
             ],
             [
              0.6666666666666666,
              "#ed7953"
             ],
             [
              0.7777777777777778,
              "#fb9f3a"
             ],
             [
              0.8888888888888888,
              "#fdca26"
             ],
             [
              1,
              "#f0f921"
             ]
            ],
            "type": "heatmap"
           }
          ],
          "heatmapgl": [
           {
            "colorbar": {
             "outlinewidth": 0,
             "ticks": ""
            },
            "colorscale": [
             [
              0,
              "#0d0887"
             ],
             [
              0.1111111111111111,
              "#46039f"
             ],
             [
              0.2222222222222222,
              "#7201a8"
             ],
             [
              0.3333333333333333,
              "#9c179e"
             ],
             [
              0.4444444444444444,
              "#bd3786"
             ],
             [
              0.5555555555555556,
              "#d8576b"
             ],
             [
              0.6666666666666666,
              "#ed7953"
             ],
             [
              0.7777777777777778,
              "#fb9f3a"
             ],
             [
              0.8888888888888888,
              "#fdca26"
             ],
             [
              1,
              "#f0f921"
             ]
            ],
            "type": "heatmapgl"
           }
          ],
          "histogram": [
           {
            "marker": {
             "pattern": {
              "fillmode": "overlay",
              "size": 10,
              "solidity": 0.2
             }
            },
            "type": "histogram"
           }
          ],
          "histogram2d": [
           {
            "colorbar": {
             "outlinewidth": 0,
             "ticks": ""
            },
            "colorscale": [
             [
              0,
              "#0d0887"
             ],
             [
              0.1111111111111111,
              "#46039f"
             ],
             [
              0.2222222222222222,
              "#7201a8"
             ],
             [
              0.3333333333333333,
              "#9c179e"
             ],
             [
              0.4444444444444444,
              "#bd3786"
             ],
             [
              0.5555555555555556,
              "#d8576b"
             ],
             [
              0.6666666666666666,
              "#ed7953"
             ],
             [
              0.7777777777777778,
              "#fb9f3a"
             ],
             [
              0.8888888888888888,
              "#fdca26"
             ],
             [
              1,
              "#f0f921"
             ]
            ],
            "type": "histogram2d"
           }
          ],
          "histogram2dcontour": [
           {
            "colorbar": {
             "outlinewidth": 0,
             "ticks": ""
            },
            "colorscale": [
             [
              0,
              "#0d0887"
             ],
             [
              0.1111111111111111,
              "#46039f"
             ],
             [
              0.2222222222222222,
              "#7201a8"
             ],
             [
              0.3333333333333333,
              "#9c179e"
             ],
             [
              0.4444444444444444,
              "#bd3786"
             ],
             [
              0.5555555555555556,
              "#d8576b"
             ],
             [
              0.6666666666666666,
              "#ed7953"
             ],
             [
              0.7777777777777778,
              "#fb9f3a"
             ],
             [
              0.8888888888888888,
              "#fdca26"
             ],
             [
              1,
              "#f0f921"
             ]
            ],
            "type": "histogram2dcontour"
           }
          ],
          "mesh3d": [
           {
            "colorbar": {
             "outlinewidth": 0,
             "ticks": ""
            },
            "type": "mesh3d"
           }
          ],
          "parcoords": [
           {
            "line": {
             "colorbar": {
              "outlinewidth": 0,
              "ticks": ""
             }
            },
            "type": "parcoords"
           }
          ],
          "pie": [
           {
            "automargin": true,
            "type": "pie"
           }
          ],
          "scatter": [
           {
            "marker": {
             "colorbar": {
              "outlinewidth": 0,
              "ticks": ""
             }
            },
            "type": "scatter"
           }
          ],
          "scatter3d": [
           {
            "line": {
             "colorbar": {
              "outlinewidth": 0,
              "ticks": ""
             }
            },
            "marker": {
             "colorbar": {
              "outlinewidth": 0,
              "ticks": ""
             }
            },
            "type": "scatter3d"
           }
          ],
          "scattercarpet": [
           {
            "marker": {
             "colorbar": {
              "outlinewidth": 0,
              "ticks": ""
             }
            },
            "type": "scattercarpet"
           }
          ],
          "scattergeo": [
           {
            "marker": {
             "colorbar": {
              "outlinewidth": 0,
              "ticks": ""
             }
            },
            "type": "scattergeo"
           }
          ],
          "scattergl": [
           {
            "marker": {
             "colorbar": {
              "outlinewidth": 0,
              "ticks": ""
             }
            },
            "type": "scattergl"
           }
          ],
          "scattermapbox": [
           {
            "marker": {
             "colorbar": {
              "outlinewidth": 0,
              "ticks": ""
             }
            },
            "type": "scattermapbox"
           }
          ],
          "scatterpolar": [
           {
            "marker": {
             "colorbar": {
              "outlinewidth": 0,
              "ticks": ""
             }
            },
            "type": "scatterpolar"
           }
          ],
          "scatterpolargl": [
           {
            "marker": {
             "colorbar": {
              "outlinewidth": 0,
              "ticks": ""
             }
            },
            "type": "scatterpolargl"
           }
          ],
          "scatterternary": [
           {
            "marker": {
             "colorbar": {
              "outlinewidth": 0,
              "ticks": ""
             }
            },
            "type": "scatterternary"
           }
          ],
          "surface": [
           {
            "colorbar": {
             "outlinewidth": 0,
             "ticks": ""
            },
            "colorscale": [
             [
              0,
              "#0d0887"
             ],
             [
              0.1111111111111111,
              "#46039f"
             ],
             [
              0.2222222222222222,
              "#7201a8"
             ],
             [
              0.3333333333333333,
              "#9c179e"
             ],
             [
              0.4444444444444444,
              "#bd3786"
             ],
             [
              0.5555555555555556,
              "#d8576b"
             ],
             [
              0.6666666666666666,
              "#ed7953"
             ],
             [
              0.7777777777777778,
              "#fb9f3a"
             ],
             [
              0.8888888888888888,
              "#fdca26"
             ],
             [
              1,
              "#f0f921"
             ]
            ],
            "type": "surface"
           }
          ],
          "table": [
           {
            "cells": {
             "fill": {
              "color": "#EBF0F8"
             },
             "line": {
              "color": "white"
             }
            },
            "header": {
             "fill": {
              "color": "#C8D4E3"
             },
             "line": {
              "color": "white"
             }
            },
            "type": "table"
           }
          ]
         },
         "layout": {
          "annotationdefaults": {
           "arrowcolor": "#2a3f5f",
           "arrowhead": 0,
           "arrowwidth": 1
          },
          "autotypenumbers": "strict",
          "coloraxis": {
           "colorbar": {
            "outlinewidth": 0,
            "ticks": ""
           }
          },
          "colorscale": {
           "diverging": [
            [
             0,
             "#8e0152"
            ],
            [
             0.1,
             "#c51b7d"
            ],
            [
             0.2,
             "#de77ae"
            ],
            [
             0.3,
             "#f1b6da"
            ],
            [
             0.4,
             "#fde0ef"
            ],
            [
             0.5,
             "#f7f7f7"
            ],
            [
             0.6,
             "#e6f5d0"
            ],
            [
             0.7,
             "#b8e186"
            ],
            [
             0.8,
             "#7fbc41"
            ],
            [
             0.9,
             "#4d9221"
            ],
            [
             1,
             "#276419"
            ]
           ],
           "sequential": [
            [
             0,
             "#0d0887"
            ],
            [
             0.1111111111111111,
             "#46039f"
            ],
            [
             0.2222222222222222,
             "#7201a8"
            ],
            [
             0.3333333333333333,
             "#9c179e"
            ],
            [
             0.4444444444444444,
             "#bd3786"
            ],
            [
             0.5555555555555556,
             "#d8576b"
            ],
            [
             0.6666666666666666,
             "#ed7953"
            ],
            [
             0.7777777777777778,
             "#fb9f3a"
            ],
            [
             0.8888888888888888,
             "#fdca26"
            ],
            [
             1,
             "#f0f921"
            ]
           ],
           "sequentialminus": [
            [
             0,
             "#0d0887"
            ],
            [
             0.1111111111111111,
             "#46039f"
            ],
            [
             0.2222222222222222,
             "#7201a8"
            ],
            [
             0.3333333333333333,
             "#9c179e"
            ],
            [
             0.4444444444444444,
             "#bd3786"
            ],
            [
             0.5555555555555556,
             "#d8576b"
            ],
            [
             0.6666666666666666,
             "#ed7953"
            ],
            [
             0.7777777777777778,
             "#fb9f3a"
            ],
            [
             0.8888888888888888,
             "#fdca26"
            ],
            [
             1,
             "#f0f921"
            ]
           ]
          },
          "colorway": [
           "#636efa",
           "#EF553B",
           "#00cc96",
           "#ab63fa",
           "#FFA15A",
           "#19d3f3",
           "#FF6692",
           "#B6E880",
           "#FF97FF",
           "#FECB52"
          ],
          "font": {
           "color": "#2a3f5f"
          },
          "geo": {
           "bgcolor": "white",
           "lakecolor": "white",
           "landcolor": "#E5ECF6",
           "showlakes": true,
           "showland": true,
           "subunitcolor": "white"
          },
          "hoverlabel": {
           "align": "left"
          },
          "hovermode": "closest",
          "mapbox": {
           "style": "light"
          },
          "paper_bgcolor": "white",
          "plot_bgcolor": "#E5ECF6",
          "polar": {
           "angularaxis": {
            "gridcolor": "white",
            "linecolor": "white",
            "ticks": ""
           },
           "bgcolor": "#E5ECF6",
           "radialaxis": {
            "gridcolor": "white",
            "linecolor": "white",
            "ticks": ""
           }
          },
          "scene": {
           "xaxis": {
            "backgroundcolor": "#E5ECF6",
            "gridcolor": "white",
            "gridwidth": 2,
            "linecolor": "white",
            "showbackground": true,
            "ticks": "",
            "zerolinecolor": "white"
           },
           "yaxis": {
            "backgroundcolor": "#E5ECF6",
            "gridcolor": "white",
            "gridwidth": 2,
            "linecolor": "white",
            "showbackground": true,
            "ticks": "",
            "zerolinecolor": "white"
           },
           "zaxis": {
            "backgroundcolor": "#E5ECF6",
            "gridcolor": "white",
            "gridwidth": 2,
            "linecolor": "white",
            "showbackground": true,
            "ticks": "",
            "zerolinecolor": "white"
           }
          },
          "shapedefaults": {
           "line": {
            "color": "#2a3f5f"
           }
          },
          "ternary": {
           "aaxis": {
            "gridcolor": "white",
            "linecolor": "white",
            "ticks": ""
           },
           "baxis": {
            "gridcolor": "white",
            "linecolor": "white",
            "ticks": ""
           },
           "bgcolor": "#E5ECF6",
           "caxis": {
            "gridcolor": "white",
            "linecolor": "white",
            "ticks": ""
           }
          },
          "title": {
           "x": 0.05
          },
          "xaxis": {
           "automargin": true,
           "gridcolor": "white",
           "linecolor": "white",
           "ticks": "",
           "title": {
            "standoff": 15
           },
           "zerolinecolor": "white",
           "zerolinewidth": 2
          },
          "yaxis": {
           "automargin": true,
           "gridcolor": "white",
           "linecolor": "white",
           "ticks": "",
           "title": {
            "standoff": 15
           },
           "zerolinecolor": "white",
           "zerolinewidth": 2
          }
         }
        },
        "title": {
         "text": "Confiremd cases",
         "x": 0.5
        }
       }
      },
      "text/html": [
       "<div>                            <div id=\"c0c81cd5-fc01-468b-bb33-41bbeb1d7f08\" class=\"plotly-graph-div\" style=\"height:525px; width:100%;\"></div>            <script type=\"text/javascript\">                require([\"plotly\"], function(Plotly) {                    window.PLOTLYENV=window.PLOTLYENV || {};                                    if (document.getElementById(\"c0c81cd5-fc01-468b-bb33-41bbeb1d7f08\")) {                    Plotly.newPlot(                        \"c0c81cd5-fc01-468b-bb33-41bbeb1d7f08\",                        [{\"colorscale\":[[0.0,\"rgb(255,245,240)\"],[0.125,\"rgb(254,224,210)\"],[0.25,\"rgb(252,187,161)\"],[0.375,\"rgb(252,146,114)\"],[0.5,\"rgb(251,106,74)\"],[0.625,\"rgb(239,59,44)\"],[0.75,\"rgb(203,24,29)\"],[0.875,\"rgb(165,15,21)\"],[1.0,\"rgb(103,0,13)\"]],\"locationmode\":\"country names\",\"locations\":[\"Chile\",\"Laos\",\"India\",\"Samoa\",\"Vanuatu\",\"Namibia\",\"Bangladesh\",\"Sudan\",\"South Africa\",\"Chad\",\"Sri Lanka\",\"Estonia\",\"MS Zaandam\",\"Czech Republic\",\"Panama\",\"Bosnia and Herzegovina\",\"Israel\",\"Guatemala\",\"Saudi Arabia\",\"Timor-Leste\",\"Slovenia\",\"Cyprus\",\"Ethiopia\",\"Taiwan\",\"Comoros\",\"South Korea\",\"Qatar\",\"Cameroon\",\"West Bank and Gaza\",\"Holy See\",\"UK\",\"Azerbaijan\",\"Peru\",\"Kosovo\",\"El Salvador\",\"Spain\",\"Burma\",\"Mali\",\"US\",\"Australia\",\"Liechtenstein\",\"Hong Kong\",\"Mexico\",\"South Sudan\",\"Mauritius\",\"Belize\",\"Costa Rica\",\"Oman\",\"Mongolia\",\"Dominica\",\"Nicaragua\",\"Algeria\",\"Antigua and Barbuda\",\"France\",\"Haiti\",\"Mozambique\",\"Guinea\",\"Hungary\",\"Cabo Verde\",\"San Marino\",\"Congo (Kinshasa)\",\"Jamaica\",\"Rwanda\",\"Marshall Islands\",\"Somalia\",\"Tajikistan\",\"Djibouti\",\"Switzerland\",\"Latvia\",\"Iran\",\"Niger\",\"Uruguay\",\"Albania\",\"Bahrain\",\"Seychelles\",\"Maldives\",\"Trinidad and Tobago\",\"Moldova\",\"Romania\",\"Finland\",\"Austria\",\"Libya\",\"Venezuela\",\"Germany\",\"Kenya\",\"Italy\",\"Cambodia\",\"Nepal\",\"United Arab Emirates\",\"Canada\",\"Paraguay\",\"Russia\",\"Saint Lucia\",\"Slovakia\",\"Benin\",\"Belgium\",\"Sierra Leone\",\"Andorra\",\"Luxembourg\",\"Suriname\",\"Dominican Republic\",\"Botswana\",\"Portugal\",\"Ivory Coast\",\"Sao Tome and Principe\",\"Philippines\",\"Lithuania\",\"Togo\",\"Burkina Faso\",\"Iraq\",\"Ghana\",\"Macau\",\"Saint Vincent and the Grenadines\",\"Singapore\",\"Congo (Brazzaville)\",\"Denmark\",\"Lesotho\",\"Montenegro\",\"Greece\",\"Ecuador\",\"Central African Republic\",\"Gambia\",\"Guyana\",\"Jordan\",\"Diamond Princess\",\"Croatia\",\"Egypt\",\"Guinea-Bissau\",\"Morocco\",\"Zimbabwe\",\"Burundi\",\"Malta\",\"Brazil\",\"Turkey\",\"Norway\",\"Solomon Islands\",\"Equatorial Guinea\",\"Mainland China\",\"Tanzania\",\"Saint Kitts and Nevis\",\"Netherlands\",\"New Zealand\",\"Argentina\",\"Pakistan\",\"Madagascar\",\"Iceland\",\"Kuwait\",\"Indonesia\",\"Belarus\",\"Japan\",\"Kazakhstan\",\"Honduras\",\"Eritrea\",\"Angola\",\"Sweden\",\"Bhutan\",\"Ireland\",\"Vietnam\",\"Barbados\",\"Serbia\",\"Uzbekistan\",\"Gabon\",\"North Macedonia\",\"Senegal\",\"Cuba\",\"Thailand\",\"Zambia\",\"Papua New Guinea\",\"Monaco\",\"Grenada\",\"Nigeria\",\"Lebanon\",\"Fiji\",\"Brunei\",\"Liberia\",\"Bulgaria\",\"Bolivia\",\"Malaysia\",\"Eswatini\",\"Bahamas\",\"Kyrgyzstan\",\"Malawi\",\"Uganda\",\"Armenia\",\"Mauritania\",\"Yemen\",\"Poland\",\"Georgia\",\"Colombia\",\"Syria\",\"Tunisia\",\"Ukraine\",\"Afghanistan\",\"Micronesia\",\"Others\",\"East Timor\",\"Martinique\",\"Cape Verde\",\"Reunion\",\"Gambia, The\",\"Bahamas, The\",\"Mayotte\",\"French Guiana\",\"Guadeloupe\",\"Aruba\",\"Curacao\",\"Cayman Islands\",\"Channel Islands\",\"Faroe Islands\",\"Saint Barthelemy\",\"Gibraltar\",\"('St. Martin',)\",\"St. Martin\",\"Vatican City\",\"Palestine\",\"Republic of Ireland\",\" Azerbaijan\",\"North Ireland\"],\"type\":\"choropleth\",\"z\":[608973.0,41.0,10266674.0,2.0,1.0,23941.0,513510.0,25500.0,1057161.0,2113.0,43299.0,27990.0,9.0,718661.0,246790.0,110985.0,423262.0,138012.0,362741.0,44.0,122152.0,22019.0,124264.0,799.0,823.0,61769.0,143834.0,26277.0,138004.0,27.0,2496235.0,218700.0,1015137.0,51144.0,46242.0,1928265.0,124630.0,7090.0,20099363.0,28425.0,2136.0,8846.0,1426094.0,3558.0,527.0,10776.0,169321.0,128867.0,1220.0,88.0,6046.0,99610.0,159.0,2677666.0,9999.0,18642.0,13722.0,322514.0,11840.0,2428.0,17658.0,12827.0,8383.0,4.0,4714.0,13296.0,5831.0,452296.0,40904.0,1225142.0,3323.0,19119.0,58316.0,92675.0,256.0,13757.0,7150.0,144818.0,632263.0,36107.0,360815.0,100277.0,113558.0,1760520.0,96458.0,2107166.0,378.0,260593.0,207822.0,584409.0,107932.0,3127347.0,353.0,179543.0,3251.0,646496.0,2611.0,8049.0,46415.0,6210.0,170785.0,14805.0,413678.0,22490.0,1014.0,474064.0,141955.0,3633.0,6707.0,595291.0,54771.0,46.0,121.0,58599.0,7107.0,164116.0,3094.0,48247.0,138850.0,212512.0,4963.0,3797.0,6332.0,294494.0,712.0,210837.0,138062.0,2452.0,439193.0,13867.0,818.0,12774.0,7675973.0,2208652.0,49567.0,17.0,5277.0,87071.0,509.0,32.0,808382.0,2162.0,1625514.0,482178.0,17714.0,5754.0,150584.0,743198.0,194284.0,235811.0,201196.0,121827.0,1320.0,17553.0,437379.0,670.0,91779.0,1465.0,383.0,337923.0,77060.0,9571.0,83329.0,19140.0,11863.0,7163.0,20725.0,780.0,875.0,127.0,87607.0,181503.0,49.0,157.0,1779.0,202266.0,160124.0,113010.0,9358.0,7871.0,81034.0,6583.0,35216.0,159409.0,14364.0,2099.0,1294878.0,227420.0,1642775.0,11434.0,139140.0,1086997.0,51526.0,1.0,712.0,1.0,32.0,1.0,45.0,1.0,4.0,7.0,18.0,53.0,4.0,1.0,1.0,1.0,2.0,1.0,1.0,2.0,2.0,1.0,22.0,21.0,1.0,1.0]}],                        {\"geo\":{\"projection\":{\"type\":\"equirectangular\"},\"showcoastlines\":false,\"showframe\":false},\"template\":{\"data\":{\"bar\":[{\"error_x\":{\"color\":\"#2a3f5f\"},\"error_y\":{\"color\":\"#2a3f5f\"},\"marker\":{\"line\":{\"color\":\"#E5ECF6\",\"width\":0.5},\"pattern\":{\"fillmode\":\"overlay\",\"size\":10,\"solidity\":0.2}},\"type\":\"bar\"}],\"barpolar\":[{\"marker\":{\"line\":{\"color\":\"#E5ECF6\",\"width\":0.5},\"pattern\":{\"fillmode\":\"overlay\",\"size\":10,\"solidity\":0.2}},\"type\":\"barpolar\"}],\"carpet\":[{\"aaxis\":{\"endlinecolor\":\"#2a3f5f\",\"gridcolor\":\"white\",\"linecolor\":\"white\",\"minorgridcolor\":\"white\",\"startlinecolor\":\"#2a3f5f\"},\"baxis\":{\"endlinecolor\":\"#2a3f5f\",\"gridcolor\":\"white\",\"linecolor\":\"white\",\"minorgridcolor\":\"white\",\"startlinecolor\":\"#2a3f5f\"},\"type\":\"carpet\"}],\"choropleth\":[{\"colorbar\":{\"outlinewidth\":0,\"ticks\":\"\"},\"type\":\"choropleth\"}],\"contour\":[{\"colorbar\":{\"outlinewidth\":0,\"ticks\":\"\"},\"colorscale\":[[0.0,\"#0d0887\"],[0.1111111111111111,\"#46039f\"],[0.2222222222222222,\"#7201a8\"],[0.3333333333333333,\"#9c179e\"],[0.4444444444444444,\"#bd3786\"],[0.5555555555555556,\"#d8576b\"],[0.6666666666666666,\"#ed7953\"],[0.7777777777777778,\"#fb9f3a\"],[0.8888888888888888,\"#fdca26\"],[1.0,\"#f0f921\"]],\"type\":\"contour\"}],\"contourcarpet\":[{\"colorbar\":{\"outlinewidth\":0,\"ticks\":\"\"},\"type\":\"contourcarpet\"}],\"heatmap\":[{\"colorbar\":{\"outlinewidth\":0,\"ticks\":\"\"},\"colorscale\":[[0.0,\"#0d0887\"],[0.1111111111111111,\"#46039f\"],[0.2222222222222222,\"#7201a8\"],[0.3333333333333333,\"#9c179e\"],[0.4444444444444444,\"#bd3786\"],[0.5555555555555556,\"#d8576b\"],[0.6666666666666666,\"#ed7953\"],[0.7777777777777778,\"#fb9f3a\"],[0.8888888888888888,\"#fdca26\"],[1.0,\"#f0f921\"]],\"type\":\"heatmap\"}],\"heatmapgl\":[{\"colorbar\":{\"outlinewidth\":0,\"ticks\":\"\"},\"colorscale\":[[0.0,\"#0d0887\"],[0.1111111111111111,\"#46039f\"],[0.2222222222222222,\"#7201a8\"],[0.3333333333333333,\"#9c179e\"],[0.4444444444444444,\"#bd3786\"],[0.5555555555555556,\"#d8576b\"],[0.6666666666666666,\"#ed7953\"],[0.7777777777777778,\"#fb9f3a\"],[0.8888888888888888,\"#fdca26\"],[1.0,\"#f0f921\"]],\"type\":\"heatmapgl\"}],\"histogram\":[{\"marker\":{\"pattern\":{\"fillmode\":\"overlay\",\"size\":10,\"solidity\":0.2}},\"type\":\"histogram\"}],\"histogram2d\":[{\"colorbar\":{\"outlinewidth\":0,\"ticks\":\"\"},\"colorscale\":[[0.0,\"#0d0887\"],[0.1111111111111111,\"#46039f\"],[0.2222222222222222,\"#7201a8\"],[0.3333333333333333,\"#9c179e\"],[0.4444444444444444,\"#bd3786\"],[0.5555555555555556,\"#d8576b\"],[0.6666666666666666,\"#ed7953\"],[0.7777777777777778,\"#fb9f3a\"],[0.8888888888888888,\"#fdca26\"],[1.0,\"#f0f921\"]],\"type\":\"histogram2d\"}],\"histogram2dcontour\":[{\"colorbar\":{\"outlinewidth\":0,\"ticks\":\"\"},\"colorscale\":[[0.0,\"#0d0887\"],[0.1111111111111111,\"#46039f\"],[0.2222222222222222,\"#7201a8\"],[0.3333333333333333,\"#9c179e\"],[0.4444444444444444,\"#bd3786\"],[0.5555555555555556,\"#d8576b\"],[0.6666666666666666,\"#ed7953\"],[0.7777777777777778,\"#fb9f3a\"],[0.8888888888888888,\"#fdca26\"],[1.0,\"#f0f921\"]],\"type\":\"histogram2dcontour\"}],\"mesh3d\":[{\"colorbar\":{\"outlinewidth\":0,\"ticks\":\"\"},\"type\":\"mesh3d\"}],\"parcoords\":[{\"line\":{\"colorbar\":{\"outlinewidth\":0,\"ticks\":\"\"}},\"type\":\"parcoords\"}],\"pie\":[{\"automargin\":true,\"type\":\"pie\"}],\"scatter\":[{\"marker\":{\"colorbar\":{\"outlinewidth\":0,\"ticks\":\"\"}},\"type\":\"scatter\"}],\"scatter3d\":[{\"line\":{\"colorbar\":{\"outlinewidth\":0,\"ticks\":\"\"}},\"marker\":{\"colorbar\":{\"outlinewidth\":0,\"ticks\":\"\"}},\"type\":\"scatter3d\"}],\"scattercarpet\":[{\"marker\":{\"colorbar\":{\"outlinewidth\":0,\"ticks\":\"\"}},\"type\":\"scattercarpet\"}],\"scattergeo\":[{\"marker\":{\"colorbar\":{\"outlinewidth\":0,\"ticks\":\"\"}},\"type\":\"scattergeo\"}],\"scattergl\":[{\"marker\":{\"colorbar\":{\"outlinewidth\":0,\"ticks\":\"\"}},\"type\":\"scattergl\"}],\"scattermapbox\":[{\"marker\":{\"colorbar\":{\"outlinewidth\":0,\"ticks\":\"\"}},\"type\":\"scattermapbox\"}],\"scatterpolar\":[{\"marker\":{\"colorbar\":{\"outlinewidth\":0,\"ticks\":\"\"}},\"type\":\"scatterpolar\"}],\"scatterpolargl\":[{\"marker\":{\"colorbar\":{\"outlinewidth\":0,\"ticks\":\"\"}},\"type\":\"scatterpolargl\"}],\"scatterternary\":[{\"marker\":{\"colorbar\":{\"outlinewidth\":0,\"ticks\":\"\"}},\"type\":\"scatterternary\"}],\"surface\":[{\"colorbar\":{\"outlinewidth\":0,\"ticks\":\"\"},\"colorscale\":[[0.0,\"#0d0887\"],[0.1111111111111111,\"#46039f\"],[0.2222222222222222,\"#7201a8\"],[0.3333333333333333,\"#9c179e\"],[0.4444444444444444,\"#bd3786\"],[0.5555555555555556,\"#d8576b\"],[0.6666666666666666,\"#ed7953\"],[0.7777777777777778,\"#fb9f3a\"],[0.8888888888888888,\"#fdca26\"],[1.0,\"#f0f921\"]],\"type\":\"surface\"}],\"table\":[{\"cells\":{\"fill\":{\"color\":\"#EBF0F8\"},\"line\":{\"color\":\"white\"}},\"header\":{\"fill\":{\"color\":\"#C8D4E3\"},\"line\":{\"color\":\"white\"}},\"type\":\"table\"}]},\"layout\":{\"annotationdefaults\":{\"arrowcolor\":\"#2a3f5f\",\"arrowhead\":0,\"arrowwidth\":1},\"autotypenumbers\":\"strict\",\"coloraxis\":{\"colorbar\":{\"outlinewidth\":0,\"ticks\":\"\"}},\"colorscale\":{\"diverging\":[[0,\"#8e0152\"],[0.1,\"#c51b7d\"],[0.2,\"#de77ae\"],[0.3,\"#f1b6da\"],[0.4,\"#fde0ef\"],[0.5,\"#f7f7f7\"],[0.6,\"#e6f5d0\"],[0.7,\"#b8e186\"],[0.8,\"#7fbc41\"],[0.9,\"#4d9221\"],[1,\"#276419\"]],\"sequential\":[[0.0,\"#0d0887\"],[0.1111111111111111,\"#46039f\"],[0.2222222222222222,\"#7201a8\"],[0.3333333333333333,\"#9c179e\"],[0.4444444444444444,\"#bd3786\"],[0.5555555555555556,\"#d8576b\"],[0.6666666666666666,\"#ed7953\"],[0.7777777777777778,\"#fb9f3a\"],[0.8888888888888888,\"#fdca26\"],[1.0,\"#f0f921\"]],\"sequentialminus\":[[0.0,\"#0d0887\"],[0.1111111111111111,\"#46039f\"],[0.2222222222222222,\"#7201a8\"],[0.3333333333333333,\"#9c179e\"],[0.4444444444444444,\"#bd3786\"],[0.5555555555555556,\"#d8576b\"],[0.6666666666666666,\"#ed7953\"],[0.7777777777777778,\"#fb9f3a\"],[0.8888888888888888,\"#fdca26\"],[1.0,\"#f0f921\"]]},\"colorway\":[\"#636efa\",\"#EF553B\",\"#00cc96\",\"#ab63fa\",\"#FFA15A\",\"#19d3f3\",\"#FF6692\",\"#B6E880\",\"#FF97FF\",\"#FECB52\"],\"font\":{\"color\":\"#2a3f5f\"},\"geo\":{\"bgcolor\":\"white\",\"lakecolor\":\"white\",\"landcolor\":\"#E5ECF6\",\"showlakes\":true,\"showland\":true,\"subunitcolor\":\"white\"},\"hoverlabel\":{\"align\":\"left\"},\"hovermode\":\"closest\",\"mapbox\":{\"style\":\"light\"},\"paper_bgcolor\":\"white\",\"plot_bgcolor\":\"#E5ECF6\",\"polar\":{\"angularaxis\":{\"gridcolor\":\"white\",\"linecolor\":\"white\",\"ticks\":\"\"},\"bgcolor\":\"#E5ECF6\",\"radialaxis\":{\"gridcolor\":\"white\",\"linecolor\":\"white\",\"ticks\":\"\"}},\"scene\":{\"xaxis\":{\"backgroundcolor\":\"#E5ECF6\",\"gridcolor\":\"white\",\"gridwidth\":2,\"linecolor\":\"white\",\"showbackground\":true,\"ticks\":\"\",\"zerolinecolor\":\"white\"},\"yaxis\":{\"backgroundcolor\":\"#E5ECF6\",\"gridcolor\":\"white\",\"gridwidth\":2,\"linecolor\":\"white\",\"showbackground\":true,\"ticks\":\"\",\"zerolinecolor\":\"white\"},\"zaxis\":{\"backgroundcolor\":\"#E5ECF6\",\"gridcolor\":\"white\",\"gridwidth\":2,\"linecolor\":\"white\",\"showbackground\":true,\"ticks\":\"\",\"zerolinecolor\":\"white\"}},\"shapedefaults\":{\"line\":{\"color\":\"#2a3f5f\"}},\"ternary\":{\"aaxis\":{\"gridcolor\":\"white\",\"linecolor\":\"white\",\"ticks\":\"\"},\"baxis\":{\"gridcolor\":\"white\",\"linecolor\":\"white\",\"ticks\":\"\"},\"bgcolor\":\"#E5ECF6\",\"caxis\":{\"gridcolor\":\"white\",\"linecolor\":\"white\",\"ticks\":\"\"}},\"title\":{\"x\":0.05},\"xaxis\":{\"automargin\":true,\"gridcolor\":\"white\",\"linecolor\":\"white\",\"ticks\":\"\",\"title\":{\"standoff\":15},\"zerolinecolor\":\"white\",\"zerolinewidth\":2},\"yaxis\":{\"automargin\":true,\"gridcolor\":\"white\",\"linecolor\":\"white\",\"ticks\":\"\",\"title\":{\"standoff\":15},\"zerolinecolor\":\"white\",\"zerolinewidth\":2}}},\"title\":{\"text\":\"Confiremd cases\",\"x\":0.5}},                        {\"responsive\": true}                    ).then(function(){\n",
       "                            \n",
       "var gd = document.getElementById('c0c81cd5-fc01-468b-bb33-41bbeb1d7f08');\n",
       "var x = new MutationObserver(function (mutations, observer) {{\n",
       "        var display = window.getComputedStyle(gd).display;\n",
       "        if (!display || display === 'none') {{\n",
       "            console.log([gd, 'removed!']);\n",
       "            Plotly.purge(gd);\n",
       "            observer.disconnect();\n",
       "        }}\n",
       "}});\n",
       "\n",
       "// Listen for the removal of the full notebook cells\n",
       "var notebookContainer = gd.closest('#notebook-container');\n",
       "if (notebookContainer) {{\n",
       "    x.observe(notebookContainer, {childList: true});\n",
       "}}\n",
       "\n",
       "// Listen for the clearing of the current output cell\n",
       "var outputEl = gd.closest('.output');\n",
       "if (outputEl) {{\n",
       "    x.observe(outputEl, {childList: true});\n",
       "}}\n",
       "\n",
       "                        })                };                });            </script>        </div>"
      ]
     },
     "metadata": {},
     "output_type": "display_data"
    }
   ],
   "source": [
    "figure.show()"
   ]
  }
 ],
 "metadata": {
  "kernelspec": {
   "display_name": "Python 3 (ipykernel)",
   "language": "python",
   "name": "python3"
  },
  "language_info": {
   "codemirror_mode": {
    "name": "ipython",
    "version": 3
   },
   "file_extension": ".py",
   "mimetype": "text/x-python",
   "name": "python",
   "nbconvert_exporter": "python",
   "pygments_lexer": "ipython3",
   "version": "3.9.6"
  }
 },
 "nbformat": 4,
 "nbformat_minor": 5
}
